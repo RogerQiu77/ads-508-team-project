{
 "cells": [
  {
   "cell_type": "code",
   "execution_count": 2,
   "id": "95f8f436-0a59-441b-9030-0c2f7df0174b",
   "metadata": {
    "tags": []
   },
   "outputs": [],
   "source": [
    "%store -r setup_instance_check_passed"
   ]
  },
  {
   "cell_type": "code",
   "execution_count": 3,
   "id": "98838f98-4210-4105-99f2-a6fbef449d8f",
   "metadata": {
    "tags": []
   },
   "outputs": [],
   "source": [
    "try:\n",
    "    setup_instance_check_passed\n",
    "except NameError:\n",
    "    print(\"+++++++++++++++++++++++++++++++\")\n",
    "    print(\"[ERROR] YOU HAVE TO RUN ALL NOTEBOOKS IN THE SETUP FOLDER FIRST. You are missing Instance Check.\")\n",
    "    print(\"+++++++++++++++++++++++++++++++\")"
   ]
  },
  {
   "cell_type": "code",
   "execution_count": 4,
   "id": "5ac07ed1-4c92-4969-b2c7-756ec3c99ced",
   "metadata": {
    "tags": []
   },
   "outputs": [
    {
     "name": "stdout",
     "output_type": "stream",
     "text": [
      "True\n"
     ]
    }
   ],
   "source": [
    "print(setup_instance_check_passed)"
   ]
  },
  {
   "cell_type": "code",
   "execution_count": 5,
   "id": "5c68a7e2-bcd7-4000-a2f5-2aa93363805c",
   "metadata": {
    "tags": []
   },
   "outputs": [],
   "source": [
    "%store -r setup_dependencies_passed"
   ]
  },
  {
   "cell_type": "code",
   "execution_count": 6,
   "id": "4aa506b6-cac9-4ca4-8ad1-c39f42972bc2",
   "metadata": {
    "tags": []
   },
   "outputs": [],
   "source": [
    "try:\n",
    "    setup_dependencies_passed\n",
    "except NameError:\n",
    "    print(\"+++++++++++++++++++++++++++++++\")\n",
    "    print(\"[ERROR] YOU HAVE TO RUN ALL NOTEBOOKS IN THE SETUP FOLDER FIRST. You are missing Setup Dependencies.\")\n",
    "    print(\"+++++++++++++++++++++++++++++++\")"
   ]
  },
  {
   "cell_type": "code",
   "execution_count": 7,
   "id": "e31089a8-22c7-4a79-b371-2faed0330f70",
   "metadata": {
    "tags": []
   },
   "outputs": [
    {
     "name": "stdout",
     "output_type": "stream",
     "text": [
      "True\n"
     ]
    }
   ],
   "source": [
    "print(setup_dependencies_passed)"
   ]
  },
  {
   "cell_type": "code",
   "execution_count": 8,
   "id": "d07b3a53-b0da-4d13-b370-b2ba45b76217",
   "metadata": {
    "tags": []
   },
   "outputs": [],
   "source": [
    "%store -r setup_s3_bucket_passed"
   ]
  },
  {
   "cell_type": "code",
   "execution_count": 9,
   "id": "38e75d6e-dd9f-4deb-ba9c-f63181ae395e",
   "metadata": {
    "tags": []
   },
   "outputs": [],
   "source": [
    "try:\n",
    "    setup_s3_bucket_passed\n",
    "except NameError:\n",
    "    print(\"+++++++++++++++++++++++++++++++\")\n",
    "    print(\"[ERROR] YOU HAVE TO RUN ALL NOTEBOOKS IN THE SETUP FOLDER FIRST. You are missing Setup S3 Bucket.\")\n",
    "    print(\"+++++++++++++++++++++++++++++++\")"
   ]
  },
  {
   "cell_type": "code",
   "execution_count": 10,
   "id": "ad4af61d-7631-4c16-8d2e-c3c77de2dcf7",
   "metadata": {
    "tags": []
   },
   "outputs": [
    {
     "name": "stdout",
     "output_type": "stream",
     "text": [
      "True\n"
     ]
    }
   ],
   "source": [
    "print(setup_s3_bucket_passed)"
   ]
  },
  {
   "cell_type": "code",
   "execution_count": 11,
   "id": "aac08367-8f81-4b85-b71f-b5a82ae6f0fe",
   "metadata": {
    "tags": []
   },
   "outputs": [],
   "source": [
    "%store -r setup_iam_roles_passed"
   ]
  },
  {
   "cell_type": "code",
   "execution_count": 12,
   "id": "d436254b-6795-4893-99ed-a69c4f75887c",
   "metadata": {
    "tags": []
   },
   "outputs": [],
   "source": [
    "try:\n",
    "    setup_iam_roles_passed\n",
    "except NameError:\n",
    "    print(\"+++++++++++++++++++++++++++++++\")\n",
    "    print(\"[ERROR] YOU HAVE TO RUN ALL NOTEBOOKS IN THE SETUP FOLDER FIRST. You are missing Setup IAM Roles.\")\n",
    "    print(\"+++++++++++++++++++++++++++++++\")"
   ]
  },
  {
   "cell_type": "code",
   "execution_count": 13,
   "id": "68d3f490-efad-42db-8c88-a938baea1138",
   "metadata": {
    "tags": []
   },
   "outputs": [
    {
     "name": "stdout",
     "output_type": "stream",
     "text": [
      "True\n"
     ]
    }
   ],
   "source": [
    "print(setup_iam_roles_passed)"
   ]
  },
  {
   "cell_type": "code",
   "execution_count": 14,
   "id": "ecaa9547-df11-4bdf-95ab-d5282087db1d",
   "metadata": {
    "tags": []
   },
   "outputs": [],
   "source": [
    "if not setup_instance_check_passed:\n",
    "    print(\"+++++++++++++++++++++++++++++++++++++++++++++++++++++++++++++++\")\n",
    "    print(\"[ERROR] YOU HAVE TO RUN ALL NOTEBOOKS IN THE SETUP FOLDER FIRST. You are missing Instance Check.\")\n",
    "    print(\"+++++++++++++++++++++++++++++++++++++++++++++++++++++++++++++++\")\n",
    "if not setup_dependencies_passed:\n",
    "    print(\"+++++++++++++++++++++++++++++++++++++++++++++++++++++++++++++++\")\n",
    "    print(\"[ERROR] YOU HAVE TO RUN ALL NOTEBOOKS IN THE SETUP FOLDER FIRST. You are missing Setup Dependencies.\")\n",
    "    print(\"+++++++++++++++++++++++++++++++++++++++++++++++++++++++++++++++\")\n",
    "if not setup_s3_bucket_passed:\n",
    "    print(\"+++++++++++++++++++++++++++++++++++++++++++++++++++++++++++++++\")\n",
    "    print(\"[ERROR] YOU HAVE TO RUN ALL NOTEBOOKS IN THE SETUP FOLDER FIRST. You are missing Setup S3 Bucket.\")\n",
    "    print(\"+++++++++++++++++++++++++++++++++++++++++++++++++++++++++++++++\")\n",
    "if not setup_iam_roles_passed:\n",
    "    print(\"+++++++++++++++++++++++++++++++++++++++++++++++++++++++++++++++\")\n",
    "    print(\"[ERROR] YOU HAVE TO RUN ALL NOTEBOOKS IN THE SETUP FOLDER FIRST. You are missing Setup IAM Roles.\")\n",
    "    print(\"+++++++++++++++++++++++++++++++++++++++++++++++++++++++++++++++\")"
   ]
  },
  {
   "cell_type": "markdown",
   "id": "54a3ff78-9123-44f2-b432-c27d78564956",
   "metadata": {},
   "source": [
    "IMPORT LIBRARIES"
   ]
  },
  {
   "cell_type": "code",
   "execution_count": 15,
   "id": "ee9cab7e-127c-4310-a6af-e4a4a8648c5b",
   "metadata": {
    "tags": []
   },
   "outputs": [
    {
     "name": "stdout",
     "output_type": "stream",
     "text": [
      "sagemaker.config INFO - Not applying SDK defaults from location: /etc/xdg/sagemaker/config.yaml\n",
      "sagemaker.config INFO - Not applying SDK defaults from location: /root/.config/sagemaker/config.yaml\n",
      "\u001b[33mDEPRECATION: pyodbc 4.0.0-unsupported has a non-standard version number. pip 24.0 will enforce this behaviour change. A possible replacement is to upgrade to a newer version of pyodbc or contact the author to suggest that they release a version with a conforming version number. Discussion can be found at https://github.com/pypa/pip/issues/12063\u001b[0m\u001b[33m\n",
      "\u001b[0m\u001b[33mWARNING: Running pip as the 'root' user can result in broken permissions and conflicting behaviour with the system package manager. It is recommended to use a virtual environment instead: https://pip.pypa.io/warnings/venv\u001b[0m\u001b[33m\n",
      "\u001b[0m"
     ]
    }
   ],
   "source": [
    "import boto3\n",
    "import sagemaker\n",
    "import pandas as pd\n",
    "import seaborn as sns\n",
    "!pip install --disable-pip-version-check -q PyAthena==2.1.0\n",
    "from pyathena import connect\n",
    "import matplotlib.pyplot as plt"
   ]
  },
  {
   "cell_type": "code",
   "execution_count": 4,
   "id": "41828689-63da-4b7b-a894-ce4b31fa13bd",
   "metadata": {},
   "outputs": [],
   "source": [
    "#s3_client = boto3.client('s3', region_name='us-east-1')\n",
    "#bucket_name = 'team1ads508finalproject'"
   ]
  },
  {
   "cell_type": "code",
   "execution_count": 6,
   "id": "5f18f875-ee74-4513-90e9-bd4525019aaa",
   "metadata": {
    "tags": []
   },
   "outputs": [
    {
     "name": "stdout",
     "output_type": "stream",
     "text": [
      "sagemaker.config INFO - Not applying SDK defaults from location: /etc/xdg/sagemaker/config.yaml\n",
      "sagemaker.config INFO - Not applying SDK defaults from location: /root/.config/sagemaker/config.yaml\n",
      "sagemaker.config INFO - Not applying SDK defaults from location: /etc/xdg/sagemaker/config.yaml\n",
      "sagemaker.config INFO - Not applying SDK defaults from location: /root/.config/sagemaker/config.yaml\n",
      "fatal error: An error occurred (AccessDenied) when calling the ListObjectsV2 operation: Access Denied\n"
     ]
    }
   ],
   "source": [
    "sess = sagemaker.Session()\n",
    "bucket = sess.default_bucket()\n",
    "role = sagemaker.get_execution_role()\n",
    "region = boto3.Session().region_name\n",
    "account_id = boto3.client(\"sts\").get_caller_identity().get(\"Account\")\n",
    "\n",
    "sm = boto3.Session().client(service_name=\"sagemaker\", region_name=region)\n",
    "\n",
    "public = \"s3://team1ads508finalproject\"\n",
    "\n",
    "private = \"s3://ADS508_project\".format(bucket)\n",
    "\n",
    "!aws s3 cp --recursive $s3_public/ $s3_private/"
   ]
  },
  {
   "cell_type": "markdown",
   "id": "6267433a-e3d2-42d8-b2e7-ff555e982140",
   "metadata": {},
   "source": [
    "CREATE THE BUCKET"
   ]
  },
  {
   "cell_type": "code",
   "execution_count": 7,
   "id": "41cbb874-261d-4552-a5b4-824158afbb24",
   "metadata": {
    "tags": []
   },
   "outputs": [
    {
     "name": "stdout",
     "output_type": "stream",
     "text": [
      "sagemaker.config INFO - Not applying SDK defaults from location: /etc/xdg/sagemaker/config.yaml\n",
      "sagemaker.config INFO - Not applying SDK defaults from location: /root/.config/sagemaker/config.yaml\n"
     ]
    }
   ],
   "source": [
    "import boto3\n",
    "import sagemaker\n",
    "\n",
    "session = boto3.session.Session()\n",
    "region = session.region_name\n",
    "sagemaker_session = sagemaker.Session()\n",
    "bucket = sagemaker_session.default_bucket()\n",
    "\n",
    "s3 = boto3.Session().client(service_name=\"s3\", region_name=region)"
   ]
  },
  {
   "cell_type": "code",
   "execution_count": 8,
   "id": "20107037-b29d-4959-a81f-6b9c0c8bd5f7",
   "metadata": {
    "tags": []
   },
   "outputs": [],
   "source": [
    "setup_s3_bucket_passed = False"
   ]
  },
  {
   "cell_type": "code",
   "execution_count": 9,
   "id": "c3a9c6b0-6a76-4071-ac52-9754c0d7aaf0",
   "metadata": {
    "tags": []
   },
   "outputs": [
    {
     "name": "stdout",
     "output_type": "stream",
     "text": [
      "Default bucket: sagemaker-us-east-1-339713065136\n"
     ]
    }
   ],
   "source": [
    "print(\"Default bucket: {}\".format(bucket))"
   ]
  },
  {
   "cell_type": "markdown",
   "id": "c9fa2c4f-9314-481a-9e1c-4eaef56196ac",
   "metadata": {},
   "source": [
    "READ CSV"
   ]
  },
  {
   "cell_type": "code",
   "execution_count": 16,
   "id": "7ed660d4-d7d3-418e-bccb-fc7aa53e3545",
   "metadata": {
    "tags": []
   },
   "outputs": [
    {
     "data": {
      "text/html": [
       "<div>\n",
       "<style scoped>\n",
       "    .dataframe tbody tr th:only-of-type {\n",
       "        vertical-align: middle;\n",
       "    }\n",
       "\n",
       "    .dataframe tbody tr th {\n",
       "        vertical-align: top;\n",
       "    }\n",
       "\n",
       "    .dataframe thead th {\n",
       "        text-align: right;\n",
       "    }\n",
       "</style>\n",
       "<table border=\"1\" class=\"dataframe\">\n",
       "  <thead>\n",
       "    <tr style=\"text-align: right;\">\n",
       "      <th></th>\n",
       "      <th>SK_ID_CURR</th>\n",
       "      <th>TARGET</th>\n",
       "      <th>NAME_CONTRACT_TYPE</th>\n",
       "      <th>CODE_GENDER</th>\n",
       "      <th>FLAG_OWN_CAR</th>\n",
       "      <th>FLAG_OWN_REALTY</th>\n",
       "      <th>CNT_CHILDREN</th>\n",
       "      <th>AMT_INCOME_TOTAL</th>\n",
       "      <th>AMT_CREDIT</th>\n",
       "      <th>AMT_ANNUITY</th>\n",
       "      <th>...</th>\n",
       "      <th>FLAG_DOCUMENT_18</th>\n",
       "      <th>FLAG_DOCUMENT_19</th>\n",
       "      <th>FLAG_DOCUMENT_20</th>\n",
       "      <th>FLAG_DOCUMENT_21</th>\n",
       "      <th>AMT_REQ_CREDIT_BUREAU_HOUR</th>\n",
       "      <th>AMT_REQ_CREDIT_BUREAU_DAY</th>\n",
       "      <th>AMT_REQ_CREDIT_BUREAU_WEEK</th>\n",
       "      <th>AMT_REQ_CREDIT_BUREAU_MON</th>\n",
       "      <th>AMT_REQ_CREDIT_BUREAU_QRT</th>\n",
       "      <th>AMT_REQ_CREDIT_BUREAU_YEAR</th>\n",
       "    </tr>\n",
       "  </thead>\n",
       "  <tbody>\n",
       "    <tr>\n",
       "      <th>0</th>\n",
       "      <td>100002</td>\n",
       "      <td>1</td>\n",
       "      <td>Cash loans</td>\n",
       "      <td>M</td>\n",
       "      <td>N</td>\n",
       "      <td>Y</td>\n",
       "      <td>0</td>\n",
       "      <td>202500.0</td>\n",
       "      <td>406597.5</td>\n",
       "      <td>24700.5</td>\n",
       "      <td>...</td>\n",
       "      <td>0</td>\n",
       "      <td>0</td>\n",
       "      <td>0</td>\n",
       "      <td>0</td>\n",
       "      <td>0.0</td>\n",
       "      <td>0.0</td>\n",
       "      <td>0.0</td>\n",
       "      <td>0.0</td>\n",
       "      <td>0.0</td>\n",
       "      <td>1.0</td>\n",
       "    </tr>\n",
       "    <tr>\n",
       "      <th>1</th>\n",
       "      <td>100003</td>\n",
       "      <td>0</td>\n",
       "      <td>Cash loans</td>\n",
       "      <td>F</td>\n",
       "      <td>N</td>\n",
       "      <td>N</td>\n",
       "      <td>0</td>\n",
       "      <td>270000.0</td>\n",
       "      <td>1293502.5</td>\n",
       "      <td>35698.5</td>\n",
       "      <td>...</td>\n",
       "      <td>0</td>\n",
       "      <td>0</td>\n",
       "      <td>0</td>\n",
       "      <td>0</td>\n",
       "      <td>0.0</td>\n",
       "      <td>0.0</td>\n",
       "      <td>0.0</td>\n",
       "      <td>0.0</td>\n",
       "      <td>0.0</td>\n",
       "      <td>0.0</td>\n",
       "    </tr>\n",
       "    <tr>\n",
       "      <th>2</th>\n",
       "      <td>100004</td>\n",
       "      <td>0</td>\n",
       "      <td>Revolving loans</td>\n",
       "      <td>M</td>\n",
       "      <td>Y</td>\n",
       "      <td>Y</td>\n",
       "      <td>0</td>\n",
       "      <td>67500.0</td>\n",
       "      <td>135000.0</td>\n",
       "      <td>6750.0</td>\n",
       "      <td>...</td>\n",
       "      <td>0</td>\n",
       "      <td>0</td>\n",
       "      <td>0</td>\n",
       "      <td>0</td>\n",
       "      <td>0.0</td>\n",
       "      <td>0.0</td>\n",
       "      <td>0.0</td>\n",
       "      <td>0.0</td>\n",
       "      <td>0.0</td>\n",
       "      <td>0.0</td>\n",
       "    </tr>\n",
       "    <tr>\n",
       "      <th>3</th>\n",
       "      <td>100006</td>\n",
       "      <td>0</td>\n",
       "      <td>Cash loans</td>\n",
       "      <td>F</td>\n",
       "      <td>N</td>\n",
       "      <td>Y</td>\n",
       "      <td>0</td>\n",
       "      <td>135000.0</td>\n",
       "      <td>312682.5</td>\n",
       "      <td>29686.5</td>\n",
       "      <td>...</td>\n",
       "      <td>0</td>\n",
       "      <td>0</td>\n",
       "      <td>0</td>\n",
       "      <td>0</td>\n",
       "      <td>NaN</td>\n",
       "      <td>NaN</td>\n",
       "      <td>NaN</td>\n",
       "      <td>NaN</td>\n",
       "      <td>NaN</td>\n",
       "      <td>NaN</td>\n",
       "    </tr>\n",
       "    <tr>\n",
       "      <th>4</th>\n",
       "      <td>100007</td>\n",
       "      <td>0</td>\n",
       "      <td>Cash loans</td>\n",
       "      <td>M</td>\n",
       "      <td>N</td>\n",
       "      <td>Y</td>\n",
       "      <td>0</td>\n",
       "      <td>121500.0</td>\n",
       "      <td>513000.0</td>\n",
       "      <td>21865.5</td>\n",
       "      <td>...</td>\n",
       "      <td>0</td>\n",
       "      <td>0</td>\n",
       "      <td>0</td>\n",
       "      <td>0</td>\n",
       "      <td>0.0</td>\n",
       "      <td>0.0</td>\n",
       "      <td>0.0</td>\n",
       "      <td>0.0</td>\n",
       "      <td>0.0</td>\n",
       "      <td>0.0</td>\n",
       "    </tr>\n",
       "  </tbody>\n",
       "</table>\n",
       "<p>5 rows × 122 columns</p>\n",
       "</div>"
      ],
      "text/plain": [
       "   SK_ID_CURR  TARGET NAME_CONTRACT_TYPE CODE_GENDER FLAG_OWN_CAR  \\\n",
       "0      100002       1         Cash loans           M            N   \n",
       "1      100003       0         Cash loans           F            N   \n",
       "2      100004       0    Revolving loans           M            Y   \n",
       "3      100006       0         Cash loans           F            N   \n",
       "4      100007       0         Cash loans           M            N   \n",
       "\n",
       "  FLAG_OWN_REALTY  CNT_CHILDREN  AMT_INCOME_TOTAL  AMT_CREDIT  AMT_ANNUITY  \\\n",
       "0               Y             0          202500.0    406597.5      24700.5   \n",
       "1               N             0          270000.0   1293502.5      35698.5   \n",
       "2               Y             0           67500.0    135000.0       6750.0   \n",
       "3               Y             0          135000.0    312682.5      29686.5   \n",
       "4               Y             0          121500.0    513000.0      21865.5   \n",
       "\n",
       "   ...  FLAG_DOCUMENT_18 FLAG_DOCUMENT_19 FLAG_DOCUMENT_20 FLAG_DOCUMENT_21  \\\n",
       "0  ...                 0                0                0                0   \n",
       "1  ...                 0                0                0                0   \n",
       "2  ...                 0                0                0                0   \n",
       "3  ...                 0                0                0                0   \n",
       "4  ...                 0                0                0                0   \n",
       "\n",
       "  AMT_REQ_CREDIT_BUREAU_HOUR AMT_REQ_CREDIT_BUREAU_DAY  \\\n",
       "0                        0.0                       0.0   \n",
       "1                        0.0                       0.0   \n",
       "2                        0.0                       0.0   \n",
       "3                        NaN                       NaN   \n",
       "4                        0.0                       0.0   \n",
       "\n",
       "   AMT_REQ_CREDIT_BUREAU_WEEK  AMT_REQ_CREDIT_BUREAU_MON  \\\n",
       "0                         0.0                        0.0   \n",
       "1                         0.0                        0.0   \n",
       "2                         0.0                        0.0   \n",
       "3                         NaN                        NaN   \n",
       "4                         0.0                        0.0   \n",
       "\n",
       "   AMT_REQ_CREDIT_BUREAU_QRT  AMT_REQ_CREDIT_BUREAU_YEAR  \n",
       "0                        0.0                         1.0  \n",
       "1                        0.0                         0.0  \n",
       "2                        0.0                         0.0  \n",
       "3                        NaN                         NaN  \n",
       "4                        0.0                         0.0  \n",
       "\n",
       "[5 rows x 122 columns]"
      ]
     },
     "execution_count": 16,
     "metadata": {},
     "output_type": "execute_result"
    }
   ],
   "source": [
    "# read in main applications df\n",
    "applications = pd.read_csv('s3://sagemaker-us-east-1-339713065136/team-project/application_train.csv')\n",
    "applications.head()"
   ]
  },
  {
   "cell_type": "code",
   "execution_count": 17,
   "id": "8332dae1-6efd-420e-b26b-9244f72b8528",
   "metadata": {
    "tags": []
   },
   "outputs": [
    {
     "name": "stdout",
     "output_type": "stream",
     "text": [
      "(307511, 122)\n"
     ]
    }
   ],
   "source": [
    "print(applications.shape) # 307,511 records, 122 fields\n"
   ]
  },
  {
   "cell_type": "code",
   "execution_count": 18,
   "id": "8957d88b-9509-450f-af11-c126131cbd2e",
   "metadata": {},
   "outputs": [
    {
     "data": {
      "text/plain": [
       "307511"
      ]
     },
     "execution_count": 18,
     "metadata": {},
     "output_type": "execute_result"
    }
   ],
   "source": [
    "applications['SK_ID_CURR'].nunique() # all Ids are unique\n"
   ]
  },
  {
   "cell_type": "code",
   "execution_count": 19,
   "id": "02a9a9ee-1214-4425-994e-2f5a53dfac64",
   "metadata": {
    "tags": []
   },
   "outputs": [
    {
     "data": {
      "text/html": [
       "<div>\n",
       "<style scoped>\n",
       "    .dataframe tbody tr th:only-of-type {\n",
       "        vertical-align: middle;\n",
       "    }\n",
       "\n",
       "    .dataframe tbody tr th {\n",
       "        vertical-align: top;\n",
       "    }\n",
       "\n",
       "    .dataframe thead th {\n",
       "        text-align: right;\n",
       "    }\n",
       "</style>\n",
       "<table border=\"1\" class=\"dataframe\">\n",
       "  <thead>\n",
       "    <tr style=\"text-align: right;\">\n",
       "      <th></th>\n",
       "      <th>SK_ID_CURR</th>\n",
       "      <th>SK_ID_BUREAU</th>\n",
       "      <th>CREDIT_ACTIVE</th>\n",
       "      <th>CREDIT_CURRENCY</th>\n",
       "      <th>DAYS_CREDIT</th>\n",
       "      <th>CREDIT_DAY_OVERDUE</th>\n",
       "      <th>DAYS_CREDIT_ENDDATE</th>\n",
       "      <th>DAYS_ENDDATE_FACT</th>\n",
       "      <th>AMT_CREDIT_MAX_OVERDUE</th>\n",
       "      <th>CNT_CREDIT_PROLONG</th>\n",
       "      <th>AMT_CREDIT_SUM</th>\n",
       "      <th>AMT_CREDIT_SUM_DEBT</th>\n",
       "      <th>AMT_CREDIT_SUM_LIMIT</th>\n",
       "      <th>AMT_CREDIT_SUM_OVERDUE</th>\n",
       "      <th>CREDIT_TYPE</th>\n",
       "      <th>DAYS_CREDIT_UPDATE</th>\n",
       "      <th>AMT_ANNUITY</th>\n",
       "    </tr>\n",
       "  </thead>\n",
       "  <tbody>\n",
       "    <tr>\n",
       "      <th>0</th>\n",
       "      <td>215354</td>\n",
       "      <td>5714462</td>\n",
       "      <td>Closed</td>\n",
       "      <td>currency 1</td>\n",
       "      <td>-497</td>\n",
       "      <td>0</td>\n",
       "      <td>-153.0</td>\n",
       "      <td>-153.0</td>\n",
       "      <td>NaN</td>\n",
       "      <td>0</td>\n",
       "      <td>91323.0</td>\n",
       "      <td>0.0</td>\n",
       "      <td>NaN</td>\n",
       "      <td>0.0</td>\n",
       "      <td>Consumer credit</td>\n",
       "      <td>-131</td>\n",
       "      <td>NaN</td>\n",
       "    </tr>\n",
       "    <tr>\n",
       "      <th>1</th>\n",
       "      <td>215354</td>\n",
       "      <td>5714463</td>\n",
       "      <td>Active</td>\n",
       "      <td>currency 1</td>\n",
       "      <td>-208</td>\n",
       "      <td>0</td>\n",
       "      <td>1075.0</td>\n",
       "      <td>NaN</td>\n",
       "      <td>NaN</td>\n",
       "      <td>0</td>\n",
       "      <td>225000.0</td>\n",
       "      <td>171342.0</td>\n",
       "      <td>NaN</td>\n",
       "      <td>0.0</td>\n",
       "      <td>Credit card</td>\n",
       "      <td>-20</td>\n",
       "      <td>NaN</td>\n",
       "    </tr>\n",
       "    <tr>\n",
       "      <th>2</th>\n",
       "      <td>215354</td>\n",
       "      <td>5714464</td>\n",
       "      <td>Active</td>\n",
       "      <td>currency 1</td>\n",
       "      <td>-203</td>\n",
       "      <td>0</td>\n",
       "      <td>528.0</td>\n",
       "      <td>NaN</td>\n",
       "      <td>NaN</td>\n",
       "      <td>0</td>\n",
       "      <td>464323.5</td>\n",
       "      <td>NaN</td>\n",
       "      <td>NaN</td>\n",
       "      <td>0.0</td>\n",
       "      <td>Consumer credit</td>\n",
       "      <td>-16</td>\n",
       "      <td>NaN</td>\n",
       "    </tr>\n",
       "    <tr>\n",
       "      <th>3</th>\n",
       "      <td>215354</td>\n",
       "      <td>5714465</td>\n",
       "      <td>Active</td>\n",
       "      <td>currency 1</td>\n",
       "      <td>-203</td>\n",
       "      <td>0</td>\n",
       "      <td>NaN</td>\n",
       "      <td>NaN</td>\n",
       "      <td>NaN</td>\n",
       "      <td>0</td>\n",
       "      <td>90000.0</td>\n",
       "      <td>NaN</td>\n",
       "      <td>NaN</td>\n",
       "      <td>0.0</td>\n",
       "      <td>Credit card</td>\n",
       "      <td>-16</td>\n",
       "      <td>NaN</td>\n",
       "    </tr>\n",
       "    <tr>\n",
       "      <th>4</th>\n",
       "      <td>215354</td>\n",
       "      <td>5714466</td>\n",
       "      <td>Active</td>\n",
       "      <td>currency 1</td>\n",
       "      <td>-629</td>\n",
       "      <td>0</td>\n",
       "      <td>1197.0</td>\n",
       "      <td>NaN</td>\n",
       "      <td>77674.5</td>\n",
       "      <td>0</td>\n",
       "      <td>2700000.0</td>\n",
       "      <td>NaN</td>\n",
       "      <td>NaN</td>\n",
       "      <td>0.0</td>\n",
       "      <td>Consumer credit</td>\n",
       "      <td>-21</td>\n",
       "      <td>NaN</td>\n",
       "    </tr>\n",
       "  </tbody>\n",
       "</table>\n",
       "</div>"
      ],
      "text/plain": [
       "   SK_ID_CURR  SK_ID_BUREAU CREDIT_ACTIVE CREDIT_CURRENCY  DAYS_CREDIT  \\\n",
       "0      215354       5714462        Closed      currency 1         -497   \n",
       "1      215354       5714463        Active      currency 1         -208   \n",
       "2      215354       5714464        Active      currency 1         -203   \n",
       "3      215354       5714465        Active      currency 1         -203   \n",
       "4      215354       5714466        Active      currency 1         -629   \n",
       "\n",
       "   CREDIT_DAY_OVERDUE  DAYS_CREDIT_ENDDATE  DAYS_ENDDATE_FACT  \\\n",
       "0                   0               -153.0             -153.0   \n",
       "1                   0               1075.0                NaN   \n",
       "2                   0                528.0                NaN   \n",
       "3                   0                  NaN                NaN   \n",
       "4                   0               1197.0                NaN   \n",
       "\n",
       "   AMT_CREDIT_MAX_OVERDUE  CNT_CREDIT_PROLONG  AMT_CREDIT_SUM  \\\n",
       "0                     NaN                   0         91323.0   \n",
       "1                     NaN                   0        225000.0   \n",
       "2                     NaN                   0        464323.5   \n",
       "3                     NaN                   0         90000.0   \n",
       "4                 77674.5                   0       2700000.0   \n",
       "\n",
       "   AMT_CREDIT_SUM_DEBT  AMT_CREDIT_SUM_LIMIT  AMT_CREDIT_SUM_OVERDUE  \\\n",
       "0                  0.0                   NaN                     0.0   \n",
       "1             171342.0                   NaN                     0.0   \n",
       "2                  NaN                   NaN                     0.0   \n",
       "3                  NaN                   NaN                     0.0   \n",
       "4                  NaN                   NaN                     0.0   \n",
       "\n",
       "       CREDIT_TYPE  DAYS_CREDIT_UPDATE  AMT_ANNUITY  \n",
       "0  Consumer credit                -131          NaN  \n",
       "1      Credit card                 -20          NaN  \n",
       "2  Consumer credit                 -16          NaN  \n",
       "3      Credit card                 -16          NaN  \n",
       "4  Consumer credit                 -21          NaN  "
      ]
     },
     "execution_count": 19,
     "metadata": {},
     "output_type": "execute_result"
    }
   ],
   "source": [
    "# read in 2nd bureau df\n",
    "bureau = pd.read_csv('s3://sagemaker-us-east-1-339713065136/team-project/bureau.csv')\n",
    "bureau.head()"
   ]
  },
  {
   "cell_type": "code",
   "execution_count": 20,
   "id": "c28f1cad-8dc7-4031-9eb3-f65d9938dbf7",
   "metadata": {
    "tags": []
   },
   "outputs": [
    {
     "name": "stdout",
     "output_type": "stream",
     "text": [
      "(1716428, 17)\n"
     ]
    }
   ],
   "source": [
    "print(bureau.shape) # 1,716,428 records, 17 fields\n"
   ]
  },
  {
   "cell_type": "code",
   "execution_count": 21,
   "id": "3c936885-6855-4cf7-b218-bfbe3ace5bc9",
   "metadata": {
    "tags": []
   },
   "outputs": [
    {
     "data": {
      "text/plain": [
       "305811"
      ]
     },
     "execution_count": 21,
     "metadata": {},
     "output_type": "execute_result"
    }
   ],
   "source": [
    "bureau['SK_ID_CURR'].nunique() # less IDs than total records, so there are many records per single ID"
   ]
  },
  {
   "cell_type": "code",
   "execution_count": 22,
   "id": "3b3f61d1-65ed-4b11-a0ad-928f2380fb24",
   "metadata": {
    "tags": []
   },
   "outputs": [
    {
     "data": {
      "text/html": [
       "<div>\n",
       "<style scoped>\n",
       "    .dataframe tbody tr th:only-of-type {\n",
       "        vertical-align: middle;\n",
       "    }\n",
       "\n",
       "    .dataframe tbody tr th {\n",
       "        vertical-align: top;\n",
       "    }\n",
       "\n",
       "    .dataframe thead th {\n",
       "        text-align: right;\n",
       "    }\n",
       "</style>\n",
       "<table border=\"1\" class=\"dataframe\">\n",
       "  <thead>\n",
       "    <tr style=\"text-align: right;\">\n",
       "      <th></th>\n",
       "      <th>SK_ID_PREV</th>\n",
       "      <th>SK_ID_CURR</th>\n",
       "      <th>NAME_CONTRACT_TYPE</th>\n",
       "      <th>AMT_ANNUITY</th>\n",
       "      <th>AMT_APPLICATION</th>\n",
       "      <th>AMT_CREDIT</th>\n",
       "      <th>AMT_DOWN_PAYMENT</th>\n",
       "      <th>AMT_GOODS_PRICE</th>\n",
       "      <th>WEEKDAY_APPR_PROCESS_START</th>\n",
       "      <th>HOUR_APPR_PROCESS_START</th>\n",
       "      <th>...</th>\n",
       "      <th>NAME_SELLER_INDUSTRY</th>\n",
       "      <th>CNT_PAYMENT</th>\n",
       "      <th>NAME_YIELD_GROUP</th>\n",
       "      <th>PRODUCT_COMBINATION</th>\n",
       "      <th>DAYS_FIRST_DRAWING</th>\n",
       "      <th>DAYS_FIRST_DUE</th>\n",
       "      <th>DAYS_LAST_DUE_1ST_VERSION</th>\n",
       "      <th>DAYS_LAST_DUE</th>\n",
       "      <th>DAYS_TERMINATION</th>\n",
       "      <th>NFLAG_INSURED_ON_APPROVAL</th>\n",
       "    </tr>\n",
       "  </thead>\n",
       "  <tbody>\n",
       "    <tr>\n",
       "      <th>0</th>\n",
       "      <td>2030495</td>\n",
       "      <td>271877</td>\n",
       "      <td>Consumer loans</td>\n",
       "      <td>1730.430</td>\n",
       "      <td>17145.0</td>\n",
       "      <td>17145.0</td>\n",
       "      <td>0.0</td>\n",
       "      <td>17145.0</td>\n",
       "      <td>SATURDAY</td>\n",
       "      <td>15</td>\n",
       "      <td>...</td>\n",
       "      <td>Connectivity</td>\n",
       "      <td>12.0</td>\n",
       "      <td>middle</td>\n",
       "      <td>POS mobile with interest</td>\n",
       "      <td>365243.0</td>\n",
       "      <td>-42.0</td>\n",
       "      <td>300.0</td>\n",
       "      <td>-42.0</td>\n",
       "      <td>-37.0</td>\n",
       "      <td>0.0</td>\n",
       "    </tr>\n",
       "    <tr>\n",
       "      <th>1</th>\n",
       "      <td>2802425</td>\n",
       "      <td>108129</td>\n",
       "      <td>Cash loans</td>\n",
       "      <td>25188.615</td>\n",
       "      <td>607500.0</td>\n",
       "      <td>679671.0</td>\n",
       "      <td>NaN</td>\n",
       "      <td>607500.0</td>\n",
       "      <td>THURSDAY</td>\n",
       "      <td>11</td>\n",
       "      <td>...</td>\n",
       "      <td>XNA</td>\n",
       "      <td>36.0</td>\n",
       "      <td>low_action</td>\n",
       "      <td>Cash X-Sell: low</td>\n",
       "      <td>365243.0</td>\n",
       "      <td>-134.0</td>\n",
       "      <td>916.0</td>\n",
       "      <td>365243.0</td>\n",
       "      <td>365243.0</td>\n",
       "      <td>1.0</td>\n",
       "    </tr>\n",
       "    <tr>\n",
       "      <th>2</th>\n",
       "      <td>2523466</td>\n",
       "      <td>122040</td>\n",
       "      <td>Cash loans</td>\n",
       "      <td>15060.735</td>\n",
       "      <td>112500.0</td>\n",
       "      <td>136444.5</td>\n",
       "      <td>NaN</td>\n",
       "      <td>112500.0</td>\n",
       "      <td>TUESDAY</td>\n",
       "      <td>11</td>\n",
       "      <td>...</td>\n",
       "      <td>XNA</td>\n",
       "      <td>12.0</td>\n",
       "      <td>high</td>\n",
       "      <td>Cash X-Sell: high</td>\n",
       "      <td>365243.0</td>\n",
       "      <td>-271.0</td>\n",
       "      <td>59.0</td>\n",
       "      <td>365243.0</td>\n",
       "      <td>365243.0</td>\n",
       "      <td>1.0</td>\n",
       "    </tr>\n",
       "    <tr>\n",
       "      <th>3</th>\n",
       "      <td>2819243</td>\n",
       "      <td>176158</td>\n",
       "      <td>Cash loans</td>\n",
       "      <td>47041.335</td>\n",
       "      <td>450000.0</td>\n",
       "      <td>470790.0</td>\n",
       "      <td>NaN</td>\n",
       "      <td>450000.0</td>\n",
       "      <td>MONDAY</td>\n",
       "      <td>7</td>\n",
       "      <td>...</td>\n",
       "      <td>XNA</td>\n",
       "      <td>12.0</td>\n",
       "      <td>middle</td>\n",
       "      <td>Cash X-Sell: middle</td>\n",
       "      <td>365243.0</td>\n",
       "      <td>-482.0</td>\n",
       "      <td>-152.0</td>\n",
       "      <td>-182.0</td>\n",
       "      <td>-177.0</td>\n",
       "      <td>1.0</td>\n",
       "    </tr>\n",
       "    <tr>\n",
       "      <th>4</th>\n",
       "      <td>1784265</td>\n",
       "      <td>202054</td>\n",
       "      <td>Cash loans</td>\n",
       "      <td>31924.395</td>\n",
       "      <td>337500.0</td>\n",
       "      <td>404055.0</td>\n",
       "      <td>NaN</td>\n",
       "      <td>337500.0</td>\n",
       "      <td>THURSDAY</td>\n",
       "      <td>9</td>\n",
       "      <td>...</td>\n",
       "      <td>XNA</td>\n",
       "      <td>24.0</td>\n",
       "      <td>high</td>\n",
       "      <td>Cash Street: high</td>\n",
       "      <td>NaN</td>\n",
       "      <td>NaN</td>\n",
       "      <td>NaN</td>\n",
       "      <td>NaN</td>\n",
       "      <td>NaN</td>\n",
       "      <td>NaN</td>\n",
       "    </tr>\n",
       "  </tbody>\n",
       "</table>\n",
       "<p>5 rows × 37 columns</p>\n",
       "</div>"
      ],
      "text/plain": [
       "   SK_ID_PREV  SK_ID_CURR NAME_CONTRACT_TYPE  AMT_ANNUITY  AMT_APPLICATION  \\\n",
       "0     2030495      271877     Consumer loans     1730.430          17145.0   \n",
       "1     2802425      108129         Cash loans    25188.615         607500.0   \n",
       "2     2523466      122040         Cash loans    15060.735         112500.0   \n",
       "3     2819243      176158         Cash loans    47041.335         450000.0   \n",
       "4     1784265      202054         Cash loans    31924.395         337500.0   \n",
       "\n",
       "   AMT_CREDIT  AMT_DOWN_PAYMENT  AMT_GOODS_PRICE WEEKDAY_APPR_PROCESS_START  \\\n",
       "0     17145.0               0.0          17145.0                   SATURDAY   \n",
       "1    679671.0               NaN         607500.0                   THURSDAY   \n",
       "2    136444.5               NaN         112500.0                    TUESDAY   \n",
       "3    470790.0               NaN         450000.0                     MONDAY   \n",
       "4    404055.0               NaN         337500.0                   THURSDAY   \n",
       "\n",
       "   HOUR_APPR_PROCESS_START  ... NAME_SELLER_INDUSTRY  CNT_PAYMENT  \\\n",
       "0                       15  ...         Connectivity         12.0   \n",
       "1                       11  ...                  XNA         36.0   \n",
       "2                       11  ...                  XNA         12.0   \n",
       "3                        7  ...                  XNA         12.0   \n",
       "4                        9  ...                  XNA         24.0   \n",
       "\n",
       "   NAME_YIELD_GROUP       PRODUCT_COMBINATION  DAYS_FIRST_DRAWING  \\\n",
       "0            middle  POS mobile with interest            365243.0   \n",
       "1        low_action          Cash X-Sell: low            365243.0   \n",
       "2              high         Cash X-Sell: high            365243.0   \n",
       "3            middle       Cash X-Sell: middle            365243.0   \n",
       "4              high         Cash Street: high                 NaN   \n",
       "\n",
       "  DAYS_FIRST_DUE DAYS_LAST_DUE_1ST_VERSION  DAYS_LAST_DUE DAYS_TERMINATION  \\\n",
       "0          -42.0                     300.0          -42.0            -37.0   \n",
       "1         -134.0                     916.0       365243.0         365243.0   \n",
       "2         -271.0                      59.0       365243.0         365243.0   \n",
       "3         -482.0                    -152.0         -182.0           -177.0   \n",
       "4            NaN                       NaN            NaN              NaN   \n",
       "\n",
       "  NFLAG_INSURED_ON_APPROVAL  \n",
       "0                       0.0  \n",
       "1                       1.0  \n",
       "2                       1.0  \n",
       "3                       1.0  \n",
       "4                       NaN  \n",
       "\n",
       "[5 rows x 37 columns]"
      ]
     },
     "execution_count": 22,
     "metadata": {},
     "output_type": "execute_result"
    }
   ],
   "source": [
    "# read in 3rd previous df\n",
    "previous = pd.read_csv('s3://sagemaker-us-east-1-339713065136/team-project/previous_application.csv')\n",
    "previous.head()"
   ]
  },
  {
   "cell_type": "code",
   "execution_count": 23,
   "id": "ec0d7be8-a8ef-4e34-9429-667546dd083d",
   "metadata": {
    "tags": []
   },
   "outputs": [
    {
     "name": "stdout",
     "output_type": "stream",
     "text": [
      "(1670214, 37)\n"
     ]
    }
   ],
   "source": [
    "print(previous.shape) # 1,670,214 records, 37 fields"
   ]
  },
  {
   "cell_type": "code",
   "execution_count": 24,
   "id": "a65d7040-ebbd-4f2d-aff7-a1fd56315dff",
   "metadata": {
    "tags": []
   },
   "outputs": [
    {
     "data": {
      "text/plain": [
       "338857"
      ]
     },
     "execution_count": 24,
     "metadata": {},
     "output_type": "execute_result"
    }
   ],
   "source": [
    "previous['SK_ID_CURR'].nunique() # less IDs than total records, so there are many records per single ID"
   ]
  },
  {
   "cell_type": "markdown",
   "id": "f2456d6c-1891-40d6-8f17-9a87992f2d3e",
   "metadata": {},
   "source": [
    "aggregate the bureau df"
   ]
  },
  {
   "cell_type": "code",
   "execution_count": 25,
   "id": "e171f34b-261b-41bc-adcd-788ed94dce34",
   "metadata": {
    "tags": []
   },
   "outputs": [
    {
     "data": {
      "text/html": [
       "<div>\n",
       "<style scoped>\n",
       "    .dataframe tbody tr th:only-of-type {\n",
       "        vertical-align: middle;\n",
       "    }\n",
       "\n",
       "    .dataframe tbody tr th {\n",
       "        vertical-align: top;\n",
       "    }\n",
       "\n",
       "    .dataframe thead th {\n",
       "        text-align: right;\n",
       "    }\n",
       "</style>\n",
       "<table border=\"1\" class=\"dataframe\">\n",
       "  <thead>\n",
       "    <tr style=\"text-align: right;\">\n",
       "      <th></th>\n",
       "      <th>bureau_SK_ID_CURR</th>\n",
       "      <th>bureau_AMT_CREDIT_SUM</th>\n",
       "      <th>bureau_AMT_CREDIT_SUM_DEBT</th>\n",
       "      <th>bureau_AMT_CREDIT_SUM_LIMIT</th>\n",
       "      <th>bureau_AMT_CREDIT_SUM_OVERDUE</th>\n",
       "    </tr>\n",
       "  </thead>\n",
       "  <tbody>\n",
       "    <tr>\n",
       "      <th>0</th>\n",
       "      <td>100001</td>\n",
       "      <td>1453365.000</td>\n",
       "      <td>596686.5</td>\n",
       "      <td>0.000</td>\n",
       "      <td>0.0</td>\n",
       "    </tr>\n",
       "    <tr>\n",
       "      <th>1</th>\n",
       "      <td>100002</td>\n",
       "      <td>865055.565</td>\n",
       "      <td>245781.0</td>\n",
       "      <td>31988.565</td>\n",
       "      <td>0.0</td>\n",
       "    </tr>\n",
       "    <tr>\n",
       "      <th>2</th>\n",
       "      <td>100003</td>\n",
       "      <td>1017400.500</td>\n",
       "      <td>0.0</td>\n",
       "      <td>810000.000</td>\n",
       "      <td>0.0</td>\n",
       "    </tr>\n",
       "    <tr>\n",
       "      <th>3</th>\n",
       "      <td>100004</td>\n",
       "      <td>189037.800</td>\n",
       "      <td>0.0</td>\n",
       "      <td>0.000</td>\n",
       "      <td>0.0</td>\n",
       "    </tr>\n",
       "    <tr>\n",
       "      <th>4</th>\n",
       "      <td>100005</td>\n",
       "      <td>657126.000</td>\n",
       "      <td>568408.5</td>\n",
       "      <td>0.000</td>\n",
       "      <td>0.0</td>\n",
       "    </tr>\n",
       "  </tbody>\n",
       "</table>\n",
       "</div>"
      ],
      "text/plain": [
       "   bureau_SK_ID_CURR  bureau_AMT_CREDIT_SUM  bureau_AMT_CREDIT_SUM_DEBT  \\\n",
       "0             100001            1453365.000                    596686.5   \n",
       "1             100002             865055.565                    245781.0   \n",
       "2             100003            1017400.500                         0.0   \n",
       "3             100004             189037.800                         0.0   \n",
       "4             100005             657126.000                    568408.5   \n",
       "\n",
       "   bureau_AMT_CREDIT_SUM_LIMIT  bureau_AMT_CREDIT_SUM_OVERDUE  \n",
       "0                        0.000                            0.0  \n",
       "1                    31988.565                            0.0  \n",
       "2                   810000.000                            0.0  \n",
       "3                        0.000                            0.0  \n",
       "4                        0.000                            0.0  "
      ]
     },
     "execution_count": 25,
     "metadata": {},
     "output_type": "execute_result"
    }
   ],
   "source": [
    "# group by SK_ID_CURR and calculate sum for each of the 4 fields, reset index to 0\n",
    "bureau_agg = bureau.groupby('SK_ID_CURR').agg(\n",
    "    bureau_AMT_CREDIT_SUM=('AMT_CREDIT_SUM', 'sum'),\n",
    "    bureau_AMT_CREDIT_SUM_DEBT=('AMT_CREDIT_SUM_DEBT', 'sum'),\n",
    "    bureau_AMT_CREDIT_SUM_LIMIT=('AMT_CREDIT_SUM_LIMIT', 'sum'),\n",
    "    bureau_AMT_CREDIT_SUM_OVERDUE=('AMT_CREDIT_SUM_OVERDUE', 'sum')\n",
    ").reset_index()\n",
    "\n",
    "# rename the id fields\n",
    "bureau_agg.rename(columns={'SK_ID_CURR': 'bureau_SK_ID_CURR'}, inplace=True)\n",
    "\n",
    "bureau_agg.head()"
   ]
  },
  {
   "cell_type": "code",
   "execution_count": 26,
   "id": "36c431f1-cc50-4157-a683-425f4c93ba50",
   "metadata": {
    "tags": []
   },
   "outputs": [
    {
     "data": {
      "text/plain": [
       "bureau_SK_ID_CURR                305811\n",
       "bureau_AMT_CREDIT_SUM            305811\n",
       "bureau_AMT_CREDIT_SUM_DEBT       305811\n",
       "bureau_AMT_CREDIT_SUM_LIMIT      305811\n",
       "bureau_AMT_CREDIT_SUM_OVERDUE    305811\n",
       "dtype: int64"
      ]
     },
     "execution_count": 26,
     "metadata": {},
     "output_type": "execute_result"
    }
   ],
   "source": [
    "bureau_agg.count()"
   ]
  },
  {
   "cell_type": "code",
   "execution_count": 27,
   "id": "daf878af-6b7d-41d7-8a24-2bd4fe75feb0",
   "metadata": {
    "tags": []
   },
   "outputs": [
    {
     "data": {
      "text/plain": [
       "305811"
      ]
     },
     "execution_count": 27,
     "metadata": {},
     "output_type": "execute_result"
    }
   ],
   "source": [
    "bureau_agg['bureau_SK_ID_CURR'].nunique() # all ids are unique now"
   ]
  },
  {
   "cell_type": "markdown",
   "id": "fbbeec0d-4117-406c-af43-ccd9838e1fd0",
   "metadata": {},
   "source": [
    "aggregate the previous df"
   ]
  },
  {
   "cell_type": "code",
   "execution_count": 28,
   "id": "da947eb3-e373-4b6f-aebf-ed17e41982e8",
   "metadata": {
    "tags": []
   },
   "outputs": [
    {
     "data": {
      "text/html": [
       "<div>\n",
       "<style scoped>\n",
       "    .dataframe tbody tr th:only-of-type {\n",
       "        vertical-align: middle;\n",
       "    }\n",
       "\n",
       "    .dataframe tbody tr th {\n",
       "        vertical-align: top;\n",
       "    }\n",
       "\n",
       "    .dataframe thead th {\n",
       "        text-align: right;\n",
       "    }\n",
       "</style>\n",
       "<table border=\"1\" class=\"dataframe\">\n",
       "  <thead>\n",
       "    <tr style=\"text-align: right;\">\n",
       "      <th></th>\n",
       "      <th>prevoius_SK_ID_CURR</th>\n",
       "      <th>previous_AMT_ANNUITY</th>\n",
       "      <th>previous_AMT_APPLICATION</th>\n",
       "      <th>previous_AMT_CREDIT</th>\n",
       "      <th>previous_AMT_GOODS_PRICE</th>\n",
       "    </tr>\n",
       "  </thead>\n",
       "  <tbody>\n",
       "    <tr>\n",
       "      <th>0</th>\n",
       "      <td>100001</td>\n",
       "      <td>3951.000</td>\n",
       "      <td>24835.5</td>\n",
       "      <td>23787.0</td>\n",
       "      <td>24835.5</td>\n",
       "    </tr>\n",
       "    <tr>\n",
       "      <th>1</th>\n",
       "      <td>100002</td>\n",
       "      <td>9251.775</td>\n",
       "      <td>179055.0</td>\n",
       "      <td>179055.0</td>\n",
       "      <td>179055.0</td>\n",
       "    </tr>\n",
       "    <tr>\n",
       "      <th>2</th>\n",
       "      <td>100003</td>\n",
       "      <td>169661.970</td>\n",
       "      <td>1306309.5</td>\n",
       "      <td>1452573.0</td>\n",
       "      <td>1306309.5</td>\n",
       "    </tr>\n",
       "    <tr>\n",
       "      <th>3</th>\n",
       "      <td>100004</td>\n",
       "      <td>5357.250</td>\n",
       "      <td>24282.0</td>\n",
       "      <td>20106.0</td>\n",
       "      <td>24282.0</td>\n",
       "    </tr>\n",
       "    <tr>\n",
       "      <th>4</th>\n",
       "      <td>100005</td>\n",
       "      <td>4813.200</td>\n",
       "      <td>44617.5</td>\n",
       "      <td>40153.5</td>\n",
       "      <td>44617.5</td>\n",
       "    </tr>\n",
       "  </tbody>\n",
       "</table>\n",
       "</div>"
      ],
      "text/plain": [
       "   prevoius_SK_ID_CURR  previous_AMT_ANNUITY  previous_AMT_APPLICATION  \\\n",
       "0               100001              3951.000                   24835.5   \n",
       "1               100002              9251.775                  179055.0   \n",
       "2               100003            169661.970                 1306309.5   \n",
       "3               100004              5357.250                   24282.0   \n",
       "4               100005              4813.200                   44617.5   \n",
       "\n",
       "   previous_AMT_CREDIT  previous_AMT_GOODS_PRICE  \n",
       "0              23787.0                   24835.5  \n",
       "1             179055.0                  179055.0  \n",
       "2            1452573.0                 1306309.5  \n",
       "3              20106.0                   24282.0  \n",
       "4              40153.5                   44617.5  "
      ]
     },
     "execution_count": 28,
     "metadata": {},
     "output_type": "execute_result"
    }
   ],
   "source": [
    "# group by SK_ID_CURR and calculate sum for each of the 4 fields, reset index to 0\n",
    "previous_agg = previous.groupby('SK_ID_CURR').agg(\n",
    "    previous_AMT_ANNUITY=('AMT_ANNUITY', 'sum'),\n",
    "    previous_AMT_APPLICATION=('AMT_APPLICATION', 'sum'),\n",
    "    previous_AMT_CREDIT=('AMT_CREDIT', 'sum'),\n",
    "    previous_AMT_GOODS_PRICE=('AMT_GOODS_PRICE', 'sum')\n",
    ").reset_index()\n",
    "\n",
    "# rename the id fields\n",
    "previous_agg.rename(columns={'SK_ID_CURR': 'prevoius_SK_ID_CURR'}, inplace=True)\n",
    "\n",
    "previous_agg.head()"
   ]
  },
  {
   "cell_type": "code",
   "execution_count": 29,
   "id": "ff2a00b2-f30d-47a4-a3b3-bc3ce407b844",
   "metadata": {
    "tags": []
   },
   "outputs": [
    {
     "data": {
      "text/plain": [
       "prevoius_SK_ID_CURR         338857\n",
       "previous_AMT_ANNUITY        338857\n",
       "previous_AMT_APPLICATION    338857\n",
       "previous_AMT_CREDIT         338857\n",
       "previous_AMT_GOODS_PRICE    338857\n",
       "dtype: int64"
      ]
     },
     "execution_count": 29,
     "metadata": {},
     "output_type": "execute_result"
    }
   ],
   "source": [
    "previous_agg.count()"
   ]
  },
  {
   "cell_type": "code",
   "execution_count": 30,
   "id": "39c9b8ad-0aea-4cc8-bb89-baeb3210be4d",
   "metadata": {
    "tags": []
   },
   "outputs": [
    {
     "data": {
      "text/plain": [
       "338857"
      ]
     },
     "execution_count": 30,
     "metadata": {},
     "output_type": "execute_result"
    }
   ],
   "source": [
    "previous_agg['prevoius_SK_ID_CURR'].nunique() # all ids are unique now"
   ]
  },
  {
   "cell_type": "markdown",
   "id": "6911ddda-ad22-47ff-8ace-64c5decba0a0",
   "metadata": {},
   "source": [
    "select fields in the main application df"
   ]
  },
  {
   "cell_type": "code",
   "execution_count": 31,
   "id": "cd2ffc32-060a-48a2-aefb-18233c727dea",
   "metadata": {
    "tags": []
   },
   "outputs": [
    {
     "data": {
      "text/html": [
       "<div>\n",
       "<style scoped>\n",
       "    .dataframe tbody tr th:only-of-type {\n",
       "        vertical-align: middle;\n",
       "    }\n",
       "\n",
       "    .dataframe tbody tr th {\n",
       "        vertical-align: top;\n",
       "    }\n",
       "\n",
       "    .dataframe thead th {\n",
       "        text-align: right;\n",
       "    }\n",
       "</style>\n",
       "<table border=\"1\" class=\"dataframe\">\n",
       "  <thead>\n",
       "    <tr style=\"text-align: right;\">\n",
       "      <th></th>\n",
       "      <th>SK_ID_CURR</th>\n",
       "      <th>TARGET</th>\n",
       "      <th>NAME_CONTRACT_TYPE</th>\n",
       "      <th>CODE_GENDER</th>\n",
       "      <th>FLAG_OWN_CAR</th>\n",
       "      <th>FLAG_OWN_REALTY</th>\n",
       "      <th>CNT_CHILDREN</th>\n",
       "      <th>AMT_INCOME_TOTAL</th>\n",
       "      <th>AMT_CREDIT</th>\n",
       "      <th>AMT_ANNUITY</th>\n",
       "      <th>...</th>\n",
       "      <th>DAYS_BIRTH</th>\n",
       "      <th>DAYS_EMPLOYED</th>\n",
       "      <th>DAYS_REGISTRATION</th>\n",
       "      <th>FLAG_MOBIL</th>\n",
       "      <th>FLAG_EMP_PHONE</th>\n",
       "      <th>FLAG_WORK_PHONE</th>\n",
       "      <th>FLAG_CONT_MOBILE</th>\n",
       "      <th>FLAG_PHONE</th>\n",
       "      <th>FLAG_EMAIL</th>\n",
       "      <th>OCCUPATION_TYPE</th>\n",
       "    </tr>\n",
       "  </thead>\n",
       "  <tbody>\n",
       "    <tr>\n",
       "      <th>0</th>\n",
       "      <td>100002</td>\n",
       "      <td>1</td>\n",
       "      <td>Cash loans</td>\n",
       "      <td>M</td>\n",
       "      <td>N</td>\n",
       "      <td>Y</td>\n",
       "      <td>0</td>\n",
       "      <td>202500.0</td>\n",
       "      <td>406597.5</td>\n",
       "      <td>24700.5</td>\n",
       "      <td>...</td>\n",
       "      <td>-9461</td>\n",
       "      <td>-637</td>\n",
       "      <td>-3648.0</td>\n",
       "      <td>1</td>\n",
       "      <td>1</td>\n",
       "      <td>0</td>\n",
       "      <td>1</td>\n",
       "      <td>1</td>\n",
       "      <td>0</td>\n",
       "      <td>Laborers</td>\n",
       "    </tr>\n",
       "    <tr>\n",
       "      <th>1</th>\n",
       "      <td>100003</td>\n",
       "      <td>0</td>\n",
       "      <td>Cash loans</td>\n",
       "      <td>F</td>\n",
       "      <td>N</td>\n",
       "      <td>N</td>\n",
       "      <td>0</td>\n",
       "      <td>270000.0</td>\n",
       "      <td>1293502.5</td>\n",
       "      <td>35698.5</td>\n",
       "      <td>...</td>\n",
       "      <td>-16765</td>\n",
       "      <td>-1188</td>\n",
       "      <td>-1186.0</td>\n",
       "      <td>1</td>\n",
       "      <td>1</td>\n",
       "      <td>0</td>\n",
       "      <td>1</td>\n",
       "      <td>1</td>\n",
       "      <td>0</td>\n",
       "      <td>Core staff</td>\n",
       "    </tr>\n",
       "    <tr>\n",
       "      <th>2</th>\n",
       "      <td>100004</td>\n",
       "      <td>0</td>\n",
       "      <td>Revolving loans</td>\n",
       "      <td>M</td>\n",
       "      <td>Y</td>\n",
       "      <td>Y</td>\n",
       "      <td>0</td>\n",
       "      <td>67500.0</td>\n",
       "      <td>135000.0</td>\n",
       "      <td>6750.0</td>\n",
       "      <td>...</td>\n",
       "      <td>-19046</td>\n",
       "      <td>-225</td>\n",
       "      <td>-4260.0</td>\n",
       "      <td>1</td>\n",
       "      <td>1</td>\n",
       "      <td>1</td>\n",
       "      <td>1</td>\n",
       "      <td>1</td>\n",
       "      <td>0</td>\n",
       "      <td>Laborers</td>\n",
       "    </tr>\n",
       "    <tr>\n",
       "      <th>3</th>\n",
       "      <td>100006</td>\n",
       "      <td>0</td>\n",
       "      <td>Cash loans</td>\n",
       "      <td>F</td>\n",
       "      <td>N</td>\n",
       "      <td>Y</td>\n",
       "      <td>0</td>\n",
       "      <td>135000.0</td>\n",
       "      <td>312682.5</td>\n",
       "      <td>29686.5</td>\n",
       "      <td>...</td>\n",
       "      <td>-19005</td>\n",
       "      <td>-3039</td>\n",
       "      <td>-9833.0</td>\n",
       "      <td>1</td>\n",
       "      <td>1</td>\n",
       "      <td>0</td>\n",
       "      <td>1</td>\n",
       "      <td>0</td>\n",
       "      <td>0</td>\n",
       "      <td>Laborers</td>\n",
       "    </tr>\n",
       "    <tr>\n",
       "      <th>4</th>\n",
       "      <td>100007</td>\n",
       "      <td>0</td>\n",
       "      <td>Cash loans</td>\n",
       "      <td>M</td>\n",
       "      <td>N</td>\n",
       "      <td>Y</td>\n",
       "      <td>0</td>\n",
       "      <td>121500.0</td>\n",
       "      <td>513000.0</td>\n",
       "      <td>21865.5</td>\n",
       "      <td>...</td>\n",
       "      <td>-19932</td>\n",
       "      <td>-3038</td>\n",
       "      <td>-4311.0</td>\n",
       "      <td>1</td>\n",
       "      <td>1</td>\n",
       "      <td>0</td>\n",
       "      <td>1</td>\n",
       "      <td>0</td>\n",
       "      <td>0</td>\n",
       "      <td>Core staff</td>\n",
       "    </tr>\n",
       "  </tbody>\n",
       "</table>\n",
       "<p>5 rows × 27 columns</p>\n",
       "</div>"
      ],
      "text/plain": [
       "   SK_ID_CURR  TARGET NAME_CONTRACT_TYPE CODE_GENDER FLAG_OWN_CAR  \\\n",
       "0      100002       1         Cash loans           M            N   \n",
       "1      100003       0         Cash loans           F            N   \n",
       "2      100004       0    Revolving loans           M            Y   \n",
       "3      100006       0         Cash loans           F            N   \n",
       "4      100007       0         Cash loans           M            N   \n",
       "\n",
       "  FLAG_OWN_REALTY  CNT_CHILDREN  AMT_INCOME_TOTAL  AMT_CREDIT  AMT_ANNUITY  \\\n",
       "0               Y             0          202500.0    406597.5      24700.5   \n",
       "1               N             0          270000.0   1293502.5      35698.5   \n",
       "2               Y             0           67500.0    135000.0       6750.0   \n",
       "3               Y             0          135000.0    312682.5      29686.5   \n",
       "4               Y             0          121500.0    513000.0      21865.5   \n",
       "\n",
       "   ...  DAYS_BIRTH DAYS_EMPLOYED DAYS_REGISTRATION FLAG_MOBIL FLAG_EMP_PHONE  \\\n",
       "0  ...       -9461          -637           -3648.0          1              1   \n",
       "1  ...      -16765         -1188           -1186.0          1              1   \n",
       "2  ...      -19046          -225           -4260.0          1              1   \n",
       "3  ...      -19005         -3039           -9833.0          1              1   \n",
       "4  ...      -19932         -3038           -4311.0          1              1   \n",
       "\n",
       "  FLAG_WORK_PHONE  FLAG_CONT_MOBILE  FLAG_PHONE  FLAG_EMAIL  OCCUPATION_TYPE  \n",
       "0               0                 1           1           0         Laborers  \n",
       "1               0                 1           1           0       Core staff  \n",
       "2               1                 1           1           0         Laborers  \n",
       "3               0                 1           0           0         Laborers  \n",
       "4               0                 1           0           0       Core staff  \n",
       "\n",
       "[5 rows x 27 columns]"
      ]
     },
     "execution_count": 31,
     "metadata": {},
     "output_type": "execute_result"
    }
   ],
   "source": [
    "# select specific fields\n",
    "applications_select = applications[['SK_ID_CURR', 'TARGET', 'NAME_CONTRACT_TYPE', 'CODE_GENDER', 'FLAG_OWN_CAR', 'FLAG_OWN_REALTY',\n",
    "                                   'CNT_CHILDREN', 'AMT_INCOME_TOTAL', 'AMT_CREDIT', 'AMT_ANNUITY', 'AMT_GOODS_PRICE',\n",
    "                                   'NAME_TYPE_SUITE', 'NAME_INCOME_TYPE', 'NAME_EDUCATION_TYPE', 'NAME_FAMILY_STATUS',\n",
    "                                   'NAME_HOUSING_TYPE', 'REGION_POPULATION_RELATIVE', 'DAYS_BIRTH', 'DAYS_EMPLOYED',\n",
    "                                   'DAYS_REGISTRATION', 'FLAG_MOBIL', 'FLAG_EMP_PHONE', 'FLAG_WORK_PHONE', 'FLAG_CONT_MOBILE',\n",
    "                                   'FLAG_PHONE', 'FLAG_EMAIL', 'OCCUPATION_TYPE']]\n",
    "\n",
    "applications_select.head()"
   ]
  },
  {
   "cell_type": "code",
   "execution_count": 32,
   "id": "e5317bb5-f054-4e49-bab7-1c3657f13102",
   "metadata": {
    "tags": []
   },
   "outputs": [
    {
     "name": "stdout",
     "output_type": "stream",
     "text": [
      "(307511, 27)\n"
     ]
    }
   ],
   "source": [
    "print(applications_select.shape) # 307,511 records, and only 27 fields now"
   ]
  },
  {
   "cell_type": "markdown",
   "id": "83e9fbbc-d19c-4eac-984b-0923abf487e4",
   "metadata": {},
   "source": [
    "join the 3 df's together on ID"
   ]
  },
  {
   "cell_type": "code",
   "execution_count": 33,
   "id": "69a5cfe4-142c-437b-9596-080cc6d2031d",
   "metadata": {
    "tags": []
   },
   "outputs": [
    {
     "data": {
      "text/html": [
       "<div>\n",
       "<style scoped>\n",
       "    .dataframe tbody tr th:only-of-type {\n",
       "        vertical-align: middle;\n",
       "    }\n",
       "\n",
       "    .dataframe tbody tr th {\n",
       "        vertical-align: top;\n",
       "    }\n",
       "\n",
       "    .dataframe thead th {\n",
       "        text-align: right;\n",
       "    }\n",
       "</style>\n",
       "<table border=\"1\" class=\"dataframe\">\n",
       "  <thead>\n",
       "    <tr style=\"text-align: right;\">\n",
       "      <th></th>\n",
       "      <th>SK_ID_CURR</th>\n",
       "      <th>TARGET</th>\n",
       "      <th>NAME_CONTRACT_TYPE</th>\n",
       "      <th>CODE_GENDER</th>\n",
       "      <th>FLAG_OWN_CAR</th>\n",
       "      <th>FLAG_OWN_REALTY</th>\n",
       "      <th>CNT_CHILDREN</th>\n",
       "      <th>AMT_INCOME_TOTAL</th>\n",
       "      <th>AMT_CREDIT</th>\n",
       "      <th>AMT_ANNUITY</th>\n",
       "      <th>...</th>\n",
       "      <th>prevoius_SK_ID_CURR</th>\n",
       "      <th>previous_AMT_ANNUITY</th>\n",
       "      <th>previous_AMT_APPLICATION</th>\n",
       "      <th>previous_AMT_CREDIT</th>\n",
       "      <th>previous_AMT_GOODS_PRICE</th>\n",
       "      <th>bureau_SK_ID_CURR</th>\n",
       "      <th>bureau_AMT_CREDIT_SUM</th>\n",
       "      <th>bureau_AMT_CREDIT_SUM_DEBT</th>\n",
       "      <th>bureau_AMT_CREDIT_SUM_LIMIT</th>\n",
       "      <th>bureau_AMT_CREDIT_SUM_OVERDUE</th>\n",
       "    </tr>\n",
       "  </thead>\n",
       "  <tbody>\n",
       "    <tr>\n",
       "      <th>0</th>\n",
       "      <td>100002</td>\n",
       "      <td>1</td>\n",
       "      <td>Cash loans</td>\n",
       "      <td>M</td>\n",
       "      <td>N</td>\n",
       "      <td>Y</td>\n",
       "      <td>0</td>\n",
       "      <td>202500.0</td>\n",
       "      <td>406597.5</td>\n",
       "      <td>24700.5</td>\n",
       "      <td>...</td>\n",
       "      <td>100002.0</td>\n",
       "      <td>9251.775</td>\n",
       "      <td>179055.00</td>\n",
       "      <td>179055.0</td>\n",
       "      <td>179055.00</td>\n",
       "      <td>100002.0</td>\n",
       "      <td>865055.565</td>\n",
       "      <td>245781.0</td>\n",
       "      <td>31988.565</td>\n",
       "      <td>0.0</td>\n",
       "    </tr>\n",
       "    <tr>\n",
       "      <th>1</th>\n",
       "      <td>100003</td>\n",
       "      <td>0</td>\n",
       "      <td>Cash loans</td>\n",
       "      <td>F</td>\n",
       "      <td>N</td>\n",
       "      <td>N</td>\n",
       "      <td>0</td>\n",
       "      <td>270000.0</td>\n",
       "      <td>1293502.5</td>\n",
       "      <td>35698.5</td>\n",
       "      <td>...</td>\n",
       "      <td>100003.0</td>\n",
       "      <td>169661.970</td>\n",
       "      <td>1306309.50</td>\n",
       "      <td>1452573.0</td>\n",
       "      <td>1306309.50</td>\n",
       "      <td>100003.0</td>\n",
       "      <td>1017400.500</td>\n",
       "      <td>0.0</td>\n",
       "      <td>810000.000</td>\n",
       "      <td>0.0</td>\n",
       "    </tr>\n",
       "    <tr>\n",
       "      <th>2</th>\n",
       "      <td>100004</td>\n",
       "      <td>0</td>\n",
       "      <td>Revolving loans</td>\n",
       "      <td>M</td>\n",
       "      <td>Y</td>\n",
       "      <td>Y</td>\n",
       "      <td>0</td>\n",
       "      <td>67500.0</td>\n",
       "      <td>135000.0</td>\n",
       "      <td>6750.0</td>\n",
       "      <td>...</td>\n",
       "      <td>100004.0</td>\n",
       "      <td>5357.250</td>\n",
       "      <td>24282.00</td>\n",
       "      <td>20106.0</td>\n",
       "      <td>24282.00</td>\n",
       "      <td>100004.0</td>\n",
       "      <td>189037.800</td>\n",
       "      <td>0.0</td>\n",
       "      <td>0.000</td>\n",
       "      <td>0.0</td>\n",
       "    </tr>\n",
       "    <tr>\n",
       "      <th>3</th>\n",
       "      <td>100006</td>\n",
       "      <td>0</td>\n",
       "      <td>Cash loans</td>\n",
       "      <td>F</td>\n",
       "      <td>N</td>\n",
       "      <td>Y</td>\n",
       "      <td>0</td>\n",
       "      <td>135000.0</td>\n",
       "      <td>312682.5</td>\n",
       "      <td>29686.5</td>\n",
       "      <td>...</td>\n",
       "      <td>100006.0</td>\n",
       "      <td>141907.050</td>\n",
       "      <td>2449829.34</td>\n",
       "      <td>2625259.5</td>\n",
       "      <td>2449829.34</td>\n",
       "      <td>NaN</td>\n",
       "      <td>NaN</td>\n",
       "      <td>NaN</td>\n",
       "      <td>NaN</td>\n",
       "      <td>NaN</td>\n",
       "    </tr>\n",
       "    <tr>\n",
       "      <th>4</th>\n",
       "      <td>100007</td>\n",
       "      <td>0</td>\n",
       "      <td>Cash loans</td>\n",
       "      <td>M</td>\n",
       "      <td>N</td>\n",
       "      <td>Y</td>\n",
       "      <td>0</td>\n",
       "      <td>121500.0</td>\n",
       "      <td>513000.0</td>\n",
       "      <td>21865.5</td>\n",
       "      <td>...</td>\n",
       "      <td>100007.0</td>\n",
       "      <td>73672.830</td>\n",
       "      <td>903181.50</td>\n",
       "      <td>999832.5</td>\n",
       "      <td>903181.50</td>\n",
       "      <td>100007.0</td>\n",
       "      <td>146250.000</td>\n",
       "      <td>0.0</td>\n",
       "      <td>0.000</td>\n",
       "      <td>0.0</td>\n",
       "    </tr>\n",
       "  </tbody>\n",
       "</table>\n",
       "<p>5 rows × 37 columns</p>\n",
       "</div>"
      ],
      "text/plain": [
       "   SK_ID_CURR  TARGET NAME_CONTRACT_TYPE CODE_GENDER FLAG_OWN_CAR  \\\n",
       "0      100002       1         Cash loans           M            N   \n",
       "1      100003       0         Cash loans           F            N   \n",
       "2      100004       0    Revolving loans           M            Y   \n",
       "3      100006       0         Cash loans           F            N   \n",
       "4      100007       0         Cash loans           M            N   \n",
       "\n",
       "  FLAG_OWN_REALTY  CNT_CHILDREN  AMT_INCOME_TOTAL  AMT_CREDIT  AMT_ANNUITY  \\\n",
       "0               Y             0          202500.0    406597.5      24700.5   \n",
       "1               N             0          270000.0   1293502.5      35698.5   \n",
       "2               Y             0           67500.0    135000.0       6750.0   \n",
       "3               Y             0          135000.0    312682.5      29686.5   \n",
       "4               Y             0          121500.0    513000.0      21865.5   \n",
       "\n",
       "   ...  prevoius_SK_ID_CURR previous_AMT_ANNUITY previous_AMT_APPLICATION  \\\n",
       "0  ...             100002.0             9251.775                179055.00   \n",
       "1  ...             100003.0           169661.970               1306309.50   \n",
       "2  ...             100004.0             5357.250                 24282.00   \n",
       "3  ...             100006.0           141907.050               2449829.34   \n",
       "4  ...             100007.0            73672.830                903181.50   \n",
       "\n",
       "  previous_AMT_CREDIT previous_AMT_GOODS_PRICE bureau_SK_ID_CURR  \\\n",
       "0            179055.0                179055.00          100002.0   \n",
       "1           1452573.0               1306309.50          100003.0   \n",
       "2             20106.0                 24282.00          100004.0   \n",
       "3           2625259.5               2449829.34               NaN   \n",
       "4            999832.5                903181.50          100007.0   \n",
       "\n",
       "   bureau_AMT_CREDIT_SUM  bureau_AMT_CREDIT_SUM_DEBT  \\\n",
       "0             865055.565                    245781.0   \n",
       "1            1017400.500                         0.0   \n",
       "2             189037.800                         0.0   \n",
       "3                    NaN                         NaN   \n",
       "4             146250.000                         0.0   \n",
       "\n",
       "   bureau_AMT_CREDIT_SUM_LIMIT  bureau_AMT_CREDIT_SUM_OVERDUE  \n",
       "0                    31988.565                            0.0  \n",
       "1                   810000.000                            0.0  \n",
       "2                        0.000                            0.0  \n",
       "3                          NaN                            NaN  \n",
       "4                        0.000                            0.0  \n",
       "\n",
       "[5 rows x 37 columns]"
      ]
     },
     "execution_count": 33,
     "metadata": {},
     "output_type": "execute_result"
    }
   ],
   "source": [
    "# left join applications_select with previous_agg on SK_ID_CURR\n",
    "merged = applications_select.merge(previous_agg, left_on='SK_ID_CURR', right_on='prevoius_SK_ID_CURR', how='left')\n",
    "\n",
    "# left join the result with bureau_agg on bureau_SK_ID_CURR\n",
    "merged = merged.merge(bureau_agg, left_on='SK_ID_CURR', right_on='bureau_SK_ID_CURR', how='left')\n",
    "\n",
    "merged.head()"
   ]
  },
  {
   "cell_type": "code",
   "execution_count": 34,
   "id": "7031a73e-c883-4a65-87e1-0fd0cdd80f04",
   "metadata": {
    "tags": []
   },
   "outputs": [
    {
     "name": "stdout",
     "output_type": "stream",
     "text": [
      "(307511, 37)\n"
     ]
    }
   ],
   "source": [
    "print(merged.shape) # 307,511 records, and only 27 fields now\n",
    "\n",
    "# now we have fields from all 3 tables, joined based on ID and no duplicates"
   ]
  },
  {
   "cell_type": "markdown",
   "id": "4f7065a9-b80f-4d0d-97a8-0f3eb091a135",
   "metadata": {},
   "source": [
    "data quality check"
   ]
  },
  {
   "cell_type": "code",
   "execution_count": 35,
   "id": "05a8d847-22f4-4380-a2c3-97c8eeaba775",
   "metadata": {
    "tags": []
   },
   "outputs": [
    {
     "data": {
      "text/plain": [
       "[]"
      ]
     },
     "execution_count": 35,
     "metadata": {},
     "output_type": "execute_result"
    }
   ],
   "source": [
    "# check if there are any fields that are all null\n",
    "all_null_columns = merged.columns[merged.isnull().all()].tolist()\n",
    "all_null_columns"
   ]
  },
  {
   "cell_type": "code",
   "execution_count": 36,
   "id": "aceee242-24ad-4e38-b298-c3a896226a5b",
   "metadata": {
    "tags": []
   },
   "outputs": [
    {
     "data": {
      "text/plain": [
       "[]"
      ]
     },
     "execution_count": 36,
     "metadata": {},
     "output_type": "execute_result"
    }
   ],
   "source": [
    "# check if there are any fields that have just 1 unique value\n",
    "single_value_columns = [column for column in merged.columns if merged[column].nunique(dropna=False) == 1]\n",
    "single_value_columns"
   ]
  },
  {
   "cell_type": "markdown",
   "id": "c3fe26c2-824a-4d58-bb7d-6925079fca28",
   "metadata": {},
   "source": [
    "set features and target field"
   ]
  },
  {
   "cell_type": "code",
   "execution_count": 37,
   "id": "ac562c2f-3123-458c-9292-f8d7f6514f66",
   "metadata": {
    "tags": []
   },
   "outputs": [
    {
     "data": {
      "text/plain": [
       "0    1\n",
       "1    0\n",
       "2    0\n",
       "3    0\n",
       "4    0\n",
       "Name: TARGET, dtype: int64"
      ]
     },
     "execution_count": 37,
     "metadata": {},
     "output_type": "execute_result"
    }
   ],
   "source": [
    "# set target field a y\n",
    "y = merged.TARGET\n",
    "y.head()"
   ]
  },
  {
   "cell_type": "code",
   "execution_count": 38,
   "id": "8123f3c7-278c-4dde-a6c7-182820ae07d4",
   "metadata": {
    "tags": []
   },
   "outputs": [
    {
     "data": {
      "text/plain": [
       "0    282686\n",
       "1     24825\n",
       "Name: TARGET, dtype: int64"
      ]
     },
     "execution_count": 38,
     "metadata": {},
     "output_type": "execute_result"
    }
   ],
   "source": [
    "# check distribution\n",
    "y.value_counts() # about 8.78% default on their loan"
   ]
  },
  {
   "cell_type": "code",
   "execution_count": 39,
   "id": "a4b01732-b588-4df9-adde-9c61adb2184e",
   "metadata": {
    "tags": []
   },
   "outputs": [
    {
     "data": {
      "text/html": [
       "<div>\n",
       "<style scoped>\n",
       "    .dataframe tbody tr th:only-of-type {\n",
       "        vertical-align: middle;\n",
       "    }\n",
       "\n",
       "    .dataframe tbody tr th {\n",
       "        vertical-align: top;\n",
       "    }\n",
       "\n",
       "    .dataframe thead th {\n",
       "        text-align: right;\n",
       "    }\n",
       "</style>\n",
       "<table border=\"1\" class=\"dataframe\">\n",
       "  <thead>\n",
       "    <tr style=\"text-align: right;\">\n",
       "      <th></th>\n",
       "      <th>NAME_CONTRACT_TYPE</th>\n",
       "      <th>CODE_GENDER</th>\n",
       "      <th>FLAG_OWN_CAR</th>\n",
       "      <th>FLAG_OWN_REALTY</th>\n",
       "      <th>CNT_CHILDREN</th>\n",
       "      <th>AMT_INCOME_TOTAL</th>\n",
       "      <th>AMT_CREDIT</th>\n",
       "      <th>AMT_ANNUITY</th>\n",
       "      <th>AMT_GOODS_PRICE</th>\n",
       "      <th>NAME_TYPE_SUITE</th>\n",
       "      <th>...</th>\n",
       "      <th>FLAG_EMAIL</th>\n",
       "      <th>OCCUPATION_TYPE</th>\n",
       "      <th>previous_AMT_ANNUITY</th>\n",
       "      <th>previous_AMT_APPLICATION</th>\n",
       "      <th>previous_AMT_CREDIT</th>\n",
       "      <th>previous_AMT_GOODS_PRICE</th>\n",
       "      <th>bureau_AMT_CREDIT_SUM</th>\n",
       "      <th>bureau_AMT_CREDIT_SUM_DEBT</th>\n",
       "      <th>bureau_AMT_CREDIT_SUM_LIMIT</th>\n",
       "      <th>bureau_AMT_CREDIT_SUM_OVERDUE</th>\n",
       "    </tr>\n",
       "  </thead>\n",
       "  <tbody>\n",
       "    <tr>\n",
       "      <th>0</th>\n",
       "      <td>Cash loans</td>\n",
       "      <td>M</td>\n",
       "      <td>N</td>\n",
       "      <td>Y</td>\n",
       "      <td>0</td>\n",
       "      <td>202500.0</td>\n",
       "      <td>406597.5</td>\n",
       "      <td>24700.5</td>\n",
       "      <td>351000.0</td>\n",
       "      <td>Unaccompanied</td>\n",
       "      <td>...</td>\n",
       "      <td>0</td>\n",
       "      <td>Laborers</td>\n",
       "      <td>9251.775</td>\n",
       "      <td>179055.00</td>\n",
       "      <td>179055.0</td>\n",
       "      <td>179055.00</td>\n",
       "      <td>865055.565</td>\n",
       "      <td>245781.0</td>\n",
       "      <td>31988.565</td>\n",
       "      <td>0.0</td>\n",
       "    </tr>\n",
       "    <tr>\n",
       "      <th>1</th>\n",
       "      <td>Cash loans</td>\n",
       "      <td>F</td>\n",
       "      <td>N</td>\n",
       "      <td>N</td>\n",
       "      <td>0</td>\n",
       "      <td>270000.0</td>\n",
       "      <td>1293502.5</td>\n",
       "      <td>35698.5</td>\n",
       "      <td>1129500.0</td>\n",
       "      <td>Family</td>\n",
       "      <td>...</td>\n",
       "      <td>0</td>\n",
       "      <td>Core staff</td>\n",
       "      <td>169661.970</td>\n",
       "      <td>1306309.50</td>\n",
       "      <td>1452573.0</td>\n",
       "      <td>1306309.50</td>\n",
       "      <td>1017400.500</td>\n",
       "      <td>0.0</td>\n",
       "      <td>810000.000</td>\n",
       "      <td>0.0</td>\n",
       "    </tr>\n",
       "    <tr>\n",
       "      <th>2</th>\n",
       "      <td>Revolving loans</td>\n",
       "      <td>M</td>\n",
       "      <td>Y</td>\n",
       "      <td>Y</td>\n",
       "      <td>0</td>\n",
       "      <td>67500.0</td>\n",
       "      <td>135000.0</td>\n",
       "      <td>6750.0</td>\n",
       "      <td>135000.0</td>\n",
       "      <td>Unaccompanied</td>\n",
       "      <td>...</td>\n",
       "      <td>0</td>\n",
       "      <td>Laborers</td>\n",
       "      <td>5357.250</td>\n",
       "      <td>24282.00</td>\n",
       "      <td>20106.0</td>\n",
       "      <td>24282.00</td>\n",
       "      <td>189037.800</td>\n",
       "      <td>0.0</td>\n",
       "      <td>0.000</td>\n",
       "      <td>0.0</td>\n",
       "    </tr>\n",
       "    <tr>\n",
       "      <th>3</th>\n",
       "      <td>Cash loans</td>\n",
       "      <td>F</td>\n",
       "      <td>N</td>\n",
       "      <td>Y</td>\n",
       "      <td>0</td>\n",
       "      <td>135000.0</td>\n",
       "      <td>312682.5</td>\n",
       "      <td>29686.5</td>\n",
       "      <td>297000.0</td>\n",
       "      <td>Unaccompanied</td>\n",
       "      <td>...</td>\n",
       "      <td>0</td>\n",
       "      <td>Laborers</td>\n",
       "      <td>141907.050</td>\n",
       "      <td>2449829.34</td>\n",
       "      <td>2625259.5</td>\n",
       "      <td>2449829.34</td>\n",
       "      <td>NaN</td>\n",
       "      <td>NaN</td>\n",
       "      <td>NaN</td>\n",
       "      <td>NaN</td>\n",
       "    </tr>\n",
       "    <tr>\n",
       "      <th>4</th>\n",
       "      <td>Cash loans</td>\n",
       "      <td>M</td>\n",
       "      <td>N</td>\n",
       "      <td>Y</td>\n",
       "      <td>0</td>\n",
       "      <td>121500.0</td>\n",
       "      <td>513000.0</td>\n",
       "      <td>21865.5</td>\n",
       "      <td>513000.0</td>\n",
       "      <td>Unaccompanied</td>\n",
       "      <td>...</td>\n",
       "      <td>0</td>\n",
       "      <td>Core staff</td>\n",
       "      <td>73672.830</td>\n",
       "      <td>903181.50</td>\n",
       "      <td>999832.5</td>\n",
       "      <td>903181.50</td>\n",
       "      <td>146250.000</td>\n",
       "      <td>0.0</td>\n",
       "      <td>0.000</td>\n",
       "      <td>0.0</td>\n",
       "    </tr>\n",
       "  </tbody>\n",
       "</table>\n",
       "<p>5 rows × 33 columns</p>\n",
       "</div>"
      ],
      "text/plain": [
       "  NAME_CONTRACT_TYPE CODE_GENDER FLAG_OWN_CAR FLAG_OWN_REALTY  CNT_CHILDREN  \\\n",
       "0         Cash loans           M            N               Y             0   \n",
       "1         Cash loans           F            N               N             0   \n",
       "2    Revolving loans           M            Y               Y             0   \n",
       "3         Cash loans           F            N               Y             0   \n",
       "4         Cash loans           M            N               Y             0   \n",
       "\n",
       "   AMT_INCOME_TOTAL  AMT_CREDIT  AMT_ANNUITY  AMT_GOODS_PRICE NAME_TYPE_SUITE  \\\n",
       "0          202500.0    406597.5      24700.5         351000.0   Unaccompanied   \n",
       "1          270000.0   1293502.5      35698.5        1129500.0          Family   \n",
       "2           67500.0    135000.0       6750.0         135000.0   Unaccompanied   \n",
       "3          135000.0    312682.5      29686.5         297000.0   Unaccompanied   \n",
       "4          121500.0    513000.0      21865.5         513000.0   Unaccompanied   \n",
       "\n",
       "   ... FLAG_EMAIL OCCUPATION_TYPE previous_AMT_ANNUITY  \\\n",
       "0  ...          0        Laborers             9251.775   \n",
       "1  ...          0      Core staff           169661.970   \n",
       "2  ...          0        Laborers             5357.250   \n",
       "3  ...          0        Laborers           141907.050   \n",
       "4  ...          0      Core staff            73672.830   \n",
       "\n",
       "  previous_AMT_APPLICATION  previous_AMT_CREDIT  previous_AMT_GOODS_PRICE  \\\n",
       "0                179055.00             179055.0                 179055.00   \n",
       "1               1306309.50            1452573.0                1306309.50   \n",
       "2                 24282.00              20106.0                  24282.00   \n",
       "3               2449829.34            2625259.5                2449829.34   \n",
       "4                903181.50             999832.5                 903181.50   \n",
       "\n",
       "   bureau_AMT_CREDIT_SUM  bureau_AMT_CREDIT_SUM_DEBT  \\\n",
       "0             865055.565                    245781.0   \n",
       "1            1017400.500                         0.0   \n",
       "2             189037.800                         0.0   \n",
       "3                    NaN                         NaN   \n",
       "4             146250.000                         0.0   \n",
       "\n",
       "   bureau_AMT_CREDIT_SUM_LIMIT  bureau_AMT_CREDIT_SUM_OVERDUE  \n",
       "0                    31988.565                            0.0  \n",
       "1                   810000.000                            0.0  \n",
       "2                        0.000                            0.0  \n",
       "3                          NaN                            NaN  \n",
       "4                        0.000                            0.0  \n",
       "\n",
       "[5 rows x 33 columns]"
      ]
     },
     "execution_count": 39,
     "metadata": {},
     "output_type": "execute_result"
    }
   ],
   "source": [
    "# drop the the id fields (no useful info here), and the label field from features and call it x\n",
    "list = ['SK_ID_CURR','prevoius_SK_ID_CURR','bureau_SK_ID_CURR','TARGET']\n",
    "x = merged.drop(list,axis = 1 )\n",
    "x.head()"
   ]
  },
  {
   "cell_type": "markdown",
   "id": "181e3cb7-778b-4e43-8794-c54f93d35f88",
   "metadata": {},
   "source": [
    "convert categorical fields to numerical"
   ]
  },
  {
   "cell_type": "code",
   "execution_count": 40,
   "id": "35310b46-7f57-44ce-a895-d7543c2e1a39",
   "metadata": {
    "tags": []
   },
   "outputs": [
    {
     "data": {
      "text/plain": [
       "Laborers                 55186\n",
       "Sales staff              32102\n",
       "Core staff               27570\n",
       "Managers                 21371\n",
       "Drivers                  18603\n",
       "High skill tech staff    11380\n",
       "Accountants               9813\n",
       "Medicine staff            8537\n",
       "Security staff            6721\n",
       "Cooking staff             5946\n",
       "Cleaning staff            4653\n",
       "Private service staff     2652\n",
       "Low-skill Laborers        2093\n",
       "Waiters/barmen staff      1348\n",
       "Secretaries               1305\n",
       "Realty agents              751\n",
       "HR staff                   563\n",
       "IT staff                   526\n",
       "Name: OCCUPATION_TYPE, dtype: int64"
      ]
     },
     "execution_count": 40,
     "metadata": {},
     "output_type": "execute_result"
    }
   ],
   "source": [
    "# check different values of occupation type\n",
    "x[\"OCCUPATION_TYPE\"].value_counts()"
   ]
  },
  {
   "cell_type": "code",
   "execution_count": 41,
   "id": "26206e07-dcde-49a1-afa8-45421f66785c",
   "metadata": {
    "tags": []
   },
   "outputs": [
    {
     "data": {
      "text/html": [
       "<div>\n",
       "<style scoped>\n",
       "    .dataframe tbody tr th:only-of-type {\n",
       "        vertical-align: middle;\n",
       "    }\n",
       "\n",
       "    .dataframe tbody tr th {\n",
       "        vertical-align: top;\n",
       "    }\n",
       "\n",
       "    .dataframe thead th {\n",
       "        text-align: right;\n",
       "    }\n",
       "</style>\n",
       "<table border=\"1\" class=\"dataframe\">\n",
       "  <thead>\n",
       "    <tr style=\"text-align: right;\">\n",
       "      <th></th>\n",
       "      <th>CNT_CHILDREN</th>\n",
       "      <th>AMT_INCOME_TOTAL</th>\n",
       "      <th>AMT_CREDIT</th>\n",
       "      <th>AMT_ANNUITY</th>\n",
       "      <th>AMT_GOODS_PRICE</th>\n",
       "      <th>REGION_POPULATION_RELATIVE</th>\n",
       "      <th>DAYS_BIRTH</th>\n",
       "      <th>DAYS_EMPLOYED</th>\n",
       "      <th>DAYS_REGISTRATION</th>\n",
       "      <th>FLAG_MOBIL</th>\n",
       "      <th>...</th>\n",
       "      <th>NAME_CONTRACT_TYPE_numeric</th>\n",
       "      <th>CODE_GENDER_numeric</th>\n",
       "      <th>FLAG_OWN_CAR_numeric</th>\n",
       "      <th>FLAG_OWN_REALTY_numeric</th>\n",
       "      <th>NAME_TYPE_SUITE_numeric</th>\n",
       "      <th>NAME_INCOME_TYPE_numeric</th>\n",
       "      <th>NAME_EDUCATION_TYPE_numeric</th>\n",
       "      <th>NAME_FAMILY_STATUS_numeric</th>\n",
       "      <th>NAME_HOUSING_TYPE_numeric</th>\n",
       "      <th>OCCUPATION_TYPE_numeric</th>\n",
       "    </tr>\n",
       "  </thead>\n",
       "  <tbody>\n",
       "    <tr>\n",
       "      <th>0</th>\n",
       "      <td>0</td>\n",
       "      <td>202500.0</td>\n",
       "      <td>406597.5</td>\n",
       "      <td>24700.5</td>\n",
       "      <td>351000.0</td>\n",
       "      <td>0.018801</td>\n",
       "      <td>-9461</td>\n",
       "      <td>-637</td>\n",
       "      <td>-3648.0</td>\n",
       "      <td>1</td>\n",
       "      <td>...</td>\n",
       "      <td>0</td>\n",
       "      <td>0</td>\n",
       "      <td>0</td>\n",
       "      <td>0</td>\n",
       "      <td>0</td>\n",
       "      <td>0</td>\n",
       "      <td>0</td>\n",
       "      <td>0</td>\n",
       "      <td>0</td>\n",
       "      <td>0</td>\n",
       "    </tr>\n",
       "    <tr>\n",
       "      <th>1</th>\n",
       "      <td>0</td>\n",
       "      <td>270000.0</td>\n",
       "      <td>1293502.5</td>\n",
       "      <td>35698.5</td>\n",
       "      <td>1129500.0</td>\n",
       "      <td>0.003541</td>\n",
       "      <td>-16765</td>\n",
       "      <td>-1188</td>\n",
       "      <td>-1186.0</td>\n",
       "      <td>1</td>\n",
       "      <td>...</td>\n",
       "      <td>0</td>\n",
       "      <td>1</td>\n",
       "      <td>0</td>\n",
       "      <td>1</td>\n",
       "      <td>1</td>\n",
       "      <td>1</td>\n",
       "      <td>1</td>\n",
       "      <td>1</td>\n",
       "      <td>0</td>\n",
       "      <td>1</td>\n",
       "    </tr>\n",
       "    <tr>\n",
       "      <th>2</th>\n",
       "      <td>0</td>\n",
       "      <td>67500.0</td>\n",
       "      <td>135000.0</td>\n",
       "      <td>6750.0</td>\n",
       "      <td>135000.0</td>\n",
       "      <td>0.010032</td>\n",
       "      <td>-19046</td>\n",
       "      <td>-225</td>\n",
       "      <td>-4260.0</td>\n",
       "      <td>1</td>\n",
       "      <td>...</td>\n",
       "      <td>1</td>\n",
       "      <td>0</td>\n",
       "      <td>1</td>\n",
       "      <td>0</td>\n",
       "      <td>0</td>\n",
       "      <td>0</td>\n",
       "      <td>0</td>\n",
       "      <td>0</td>\n",
       "      <td>0</td>\n",
       "      <td>0</td>\n",
       "    </tr>\n",
       "    <tr>\n",
       "      <th>3</th>\n",
       "      <td>0</td>\n",
       "      <td>135000.0</td>\n",
       "      <td>312682.5</td>\n",
       "      <td>29686.5</td>\n",
       "      <td>297000.0</td>\n",
       "      <td>0.008019</td>\n",
       "      <td>-19005</td>\n",
       "      <td>-3039</td>\n",
       "      <td>-9833.0</td>\n",
       "      <td>1</td>\n",
       "      <td>...</td>\n",
       "      <td>0</td>\n",
       "      <td>1</td>\n",
       "      <td>0</td>\n",
       "      <td>0</td>\n",
       "      <td>0</td>\n",
       "      <td>0</td>\n",
       "      <td>0</td>\n",
       "      <td>2</td>\n",
       "      <td>0</td>\n",
       "      <td>0</td>\n",
       "    </tr>\n",
       "    <tr>\n",
       "      <th>4</th>\n",
       "      <td>0</td>\n",
       "      <td>121500.0</td>\n",
       "      <td>513000.0</td>\n",
       "      <td>21865.5</td>\n",
       "      <td>513000.0</td>\n",
       "      <td>0.028663</td>\n",
       "      <td>-19932</td>\n",
       "      <td>-3038</td>\n",
       "      <td>-4311.0</td>\n",
       "      <td>1</td>\n",
       "      <td>...</td>\n",
       "      <td>0</td>\n",
       "      <td>0</td>\n",
       "      <td>0</td>\n",
       "      <td>0</td>\n",
       "      <td>0</td>\n",
       "      <td>0</td>\n",
       "      <td>0</td>\n",
       "      <td>0</td>\n",
       "      <td>0</td>\n",
       "      <td>1</td>\n",
       "    </tr>\n",
       "  </tbody>\n",
       "</table>\n",
       "<p>5 rows × 33 columns</p>\n",
       "</div>"
      ],
      "text/plain": [
       "   CNT_CHILDREN  AMT_INCOME_TOTAL  AMT_CREDIT  AMT_ANNUITY  AMT_GOODS_PRICE  \\\n",
       "0             0          202500.0    406597.5      24700.5         351000.0   \n",
       "1             0          270000.0   1293502.5      35698.5        1129500.0   \n",
       "2             0           67500.0    135000.0       6750.0         135000.0   \n",
       "3             0          135000.0    312682.5      29686.5         297000.0   \n",
       "4             0          121500.0    513000.0      21865.5         513000.0   \n",
       "\n",
       "   REGION_POPULATION_RELATIVE  DAYS_BIRTH  DAYS_EMPLOYED  DAYS_REGISTRATION  \\\n",
       "0                    0.018801       -9461           -637            -3648.0   \n",
       "1                    0.003541      -16765          -1188            -1186.0   \n",
       "2                    0.010032      -19046           -225            -4260.0   \n",
       "3                    0.008019      -19005          -3039            -9833.0   \n",
       "4                    0.028663      -19932          -3038            -4311.0   \n",
       "\n",
       "   FLAG_MOBIL  ...  NAME_CONTRACT_TYPE_numeric  CODE_GENDER_numeric  \\\n",
       "0           1  ...                           0                    0   \n",
       "1           1  ...                           0                    1   \n",
       "2           1  ...                           1                    0   \n",
       "3           1  ...                           0                    1   \n",
       "4           1  ...                           0                    0   \n",
       "\n",
       "   FLAG_OWN_CAR_numeric  FLAG_OWN_REALTY_numeric  NAME_TYPE_SUITE_numeric  \\\n",
       "0                     0                        0                        0   \n",
       "1                     0                        1                        1   \n",
       "2                     1                        0                        0   \n",
       "3                     0                        0                        0   \n",
       "4                     0                        0                        0   \n",
       "\n",
       "   NAME_INCOME_TYPE_numeric  NAME_EDUCATION_TYPE_numeric  \\\n",
       "0                         0                            0   \n",
       "1                         1                            1   \n",
       "2                         0                            0   \n",
       "3                         0                            0   \n",
       "4                         0                            0   \n",
       "\n",
       "   NAME_FAMILY_STATUS_numeric  NAME_HOUSING_TYPE_numeric  \\\n",
       "0                           0                          0   \n",
       "1                           1                          0   \n",
       "2                           0                          0   \n",
       "3                           2                          0   \n",
       "4                           0                          0   \n",
       "\n",
       "   OCCUPATION_TYPE_numeric  \n",
       "0                        0  \n",
       "1                        1  \n",
       "2                        0  \n",
       "3                        0  \n",
       "4                        1  \n",
       "\n",
       "[5 rows x 33 columns]"
      ]
     },
     "execution_count": 41,
     "metadata": {},
     "output_type": "execute_result"
    }
   ],
   "source": [
    "# list categorical fields\n",
    "categorical_columns = [\n",
    "    'NAME_CONTRACT_TYPE', 'CODE_GENDER', 'FLAG_OWN_CAR', 'FLAG_OWN_REALTY', \n",
    "    'NAME_TYPE_SUITE', 'NAME_INCOME_TYPE', 'NAME_EDUCATION_TYPE', \n",
    "    'NAME_FAMILY_STATUS', 'NAME_HOUSING_TYPE', 'OCCUPATION_TYPE'\n",
    "]\n",
    "\n",
    "# copy x to keep the original data unchanged\n",
    "x_numerical = x.copy()\n",
    "\n",
    "# for each of the categorical fields above\n",
    "for column in categorical_columns:\n",
    "    \n",
    "    # add a new field that is encoded numerically (sets an integer for each unique value)\n",
    "    x_numerical[column + \"_numeric\"] = pd.factorize(x[column])[0]\n",
    "\n",
    "# drop the original categorical fields\n",
    "x_numerical.drop(categorical_columns, axis=1, inplace=True)\n",
    "\n",
    "x_numerical.head()"
   ]
  },
  {
   "cell_type": "code",
   "execution_count": 42,
   "id": "29b75165-0910-4b08-93e9-ce061a55b089",
   "metadata": {
    "tags": []
   },
   "outputs": [
    {
     "data": {
      "text/plain": [
       "-1     96391\n",
       " 0     55186\n",
       " 5     32102\n",
       " 1     27570\n",
       " 3     21371\n",
       " 4     18603\n",
       " 11    11380\n",
       " 2      9813\n",
       " 9      8537\n",
       " 10     6721\n",
       " 7      5946\n",
       " 6      4653\n",
       " 8      2652\n",
       " 13     2093\n",
       " 12     1348\n",
       " 15     1305\n",
       " 14      751\n",
       " 17      563\n",
       " 16      526\n",
       "Name: OCCUPATION_TYPE_numeric, dtype: int64"
      ]
     },
     "execution_count": 42,
     "metadata": {},
     "output_type": "execute_result"
    }
   ],
   "source": [
    "# check values again, now they are numerical\n",
    "x_numerical[\"OCCUPATION_TYPE_numeric\"].value_counts() "
   ]
  },
  {
   "cell_type": "markdown",
   "id": "8fe35034-b97a-4a80-81a7-83a37e093e56",
   "metadata": {},
   "source": [
    "split to training and testing set"
   ]
  },
  {
   "cell_type": "code",
   "execution_count": 43,
   "id": "aa3c9073-7604-406b-aef9-7a1ba6dd0677",
   "metadata": {
    "tags": []
   },
   "outputs": [
    {
     "name": "stdout",
     "output_type": "stream",
     "text": [
      "(215257, 33)\n",
      "(92254, 33)\n",
      "(215257,)\n",
      "(92254,)\n"
     ]
    }
   ],
   "source": [
    "from sklearn.model_selection import train_test_split\n",
    "\n",
    "# create training and testing sets for x and y, stratify so that the y values are balanced in both training and testing\n",
    "X_train, X_test, y_train, y_test = train_test_split(x_numerical, y, test_size=0.3, random_state=42, stratify=y)  \n",
    "# X_train and y_train will be used for training the model\n",
    "# X_test and y_test will be used for testing the model\n",
    "\n",
    "print(X_train.shape)\n",
    "print(X_test.shape)\n",
    "print(y_train.shape)\n",
    "print(y_test.shape)"
   ]
  },
  {
   "cell_type": "code",
   "execution_count": 44,
   "id": "5f2bc1f1-c703-4e69-8d91-8009ac847f47",
   "metadata": {
    "tags": []
   },
   "outputs": [
    {
     "data": {
      "text/html": [
       "<div>\n",
       "<style scoped>\n",
       "    .dataframe tbody tr th:only-of-type {\n",
       "        vertical-align: middle;\n",
       "    }\n",
       "\n",
       "    .dataframe tbody tr th {\n",
       "        vertical-align: top;\n",
       "    }\n",
       "\n",
       "    .dataframe thead th {\n",
       "        text-align: right;\n",
       "    }\n",
       "</style>\n",
       "<table border=\"1\" class=\"dataframe\">\n",
       "  <thead>\n",
       "    <tr style=\"text-align: right;\">\n",
       "      <th></th>\n",
       "      <th>CNT_CHILDREN</th>\n",
       "      <th>AMT_INCOME_TOTAL</th>\n",
       "      <th>AMT_CREDIT</th>\n",
       "      <th>AMT_ANNUITY</th>\n",
       "      <th>AMT_GOODS_PRICE</th>\n",
       "      <th>REGION_POPULATION_RELATIVE</th>\n",
       "      <th>DAYS_BIRTH</th>\n",
       "      <th>DAYS_EMPLOYED</th>\n",
       "      <th>DAYS_REGISTRATION</th>\n",
       "      <th>FLAG_MOBIL</th>\n",
       "      <th>...</th>\n",
       "      <th>NAME_CONTRACT_TYPE_numeric</th>\n",
       "      <th>CODE_GENDER_numeric</th>\n",
       "      <th>FLAG_OWN_CAR_numeric</th>\n",
       "      <th>FLAG_OWN_REALTY_numeric</th>\n",
       "      <th>NAME_TYPE_SUITE_numeric</th>\n",
       "      <th>NAME_INCOME_TYPE_numeric</th>\n",
       "      <th>NAME_EDUCATION_TYPE_numeric</th>\n",
       "      <th>NAME_FAMILY_STATUS_numeric</th>\n",
       "      <th>NAME_HOUSING_TYPE_numeric</th>\n",
       "      <th>OCCUPATION_TYPE_numeric</th>\n",
       "    </tr>\n",
       "  </thead>\n",
       "  <tbody>\n",
       "    <tr>\n",
       "      <th>159703</th>\n",
       "      <td>2</td>\n",
       "      <td>405000.0</td>\n",
       "      <td>1971072.0</td>\n",
       "      <td>68643.0</td>\n",
       "      <td>1800000.0</td>\n",
       "      <td>0.006852</td>\n",
       "      <td>-13587</td>\n",
       "      <td>-1028</td>\n",
       "      <td>-7460.0</td>\n",
       "      <td>1</td>\n",
       "      <td>...</td>\n",
       "      <td>0</td>\n",
       "      <td>1</td>\n",
       "      <td>1</td>\n",
       "      <td>0</td>\n",
       "      <td>0</td>\n",
       "      <td>2</td>\n",
       "      <td>1</td>\n",
       "      <td>1</td>\n",
       "      <td>0</td>\n",
       "      <td>2</td>\n",
       "    </tr>\n",
       "    <tr>\n",
       "      <th>79269</th>\n",
       "      <td>0</td>\n",
       "      <td>337500.0</td>\n",
       "      <td>508495.5</td>\n",
       "      <td>38146.5</td>\n",
       "      <td>454500.0</td>\n",
       "      <td>0.010276</td>\n",
       "      <td>-17543</td>\n",
       "      <td>-1208</td>\n",
       "      <td>-4054.0</td>\n",
       "      <td>1</td>\n",
       "      <td>...</td>\n",
       "      <td>0</td>\n",
       "      <td>0</td>\n",
       "      <td>0</td>\n",
       "      <td>0</td>\n",
       "      <td>1</td>\n",
       "      <td>1</td>\n",
       "      <td>1</td>\n",
       "      <td>1</td>\n",
       "      <td>0</td>\n",
       "      <td>3</td>\n",
       "    </tr>\n",
       "    <tr>\n",
       "      <th>232615</th>\n",
       "      <td>1</td>\n",
       "      <td>112500.0</td>\n",
       "      <td>110146.5</td>\n",
       "      <td>13068.0</td>\n",
       "      <td>90000.0</td>\n",
       "      <td>0.005084</td>\n",
       "      <td>-11557</td>\n",
       "      <td>-593</td>\n",
       "      <td>-5554.0</td>\n",
       "      <td>1</td>\n",
       "      <td>...</td>\n",
       "      <td>0</td>\n",
       "      <td>0</td>\n",
       "      <td>0</td>\n",
       "      <td>0</td>\n",
       "      <td>0</td>\n",
       "      <td>2</td>\n",
       "      <td>0</td>\n",
       "      <td>1</td>\n",
       "      <td>0</td>\n",
       "      <td>0</td>\n",
       "    </tr>\n",
       "    <tr>\n",
       "      <th>33420</th>\n",
       "      <td>2</td>\n",
       "      <td>40500.0</td>\n",
       "      <td>66384.0</td>\n",
       "      <td>3519.0</td>\n",
       "      <td>45000.0</td>\n",
       "      <td>0.031329</td>\n",
       "      <td>-15750</td>\n",
       "      <td>-5376</td>\n",
       "      <td>-5285.0</td>\n",
       "      <td>1</td>\n",
       "      <td>...</td>\n",
       "      <td>0</td>\n",
       "      <td>1</td>\n",
       "      <td>0</td>\n",
       "      <td>0</td>\n",
       "      <td>0</td>\n",
       "      <td>2</td>\n",
       "      <td>0</td>\n",
       "      <td>1</td>\n",
       "      <td>0</td>\n",
       "      <td>5</td>\n",
       "    </tr>\n",
       "    <tr>\n",
       "      <th>88191</th>\n",
       "      <td>0</td>\n",
       "      <td>225000.0</td>\n",
       "      <td>298512.0</td>\n",
       "      <td>31801.5</td>\n",
       "      <td>270000.0</td>\n",
       "      <td>0.019101</td>\n",
       "      <td>-19912</td>\n",
       "      <td>-1195</td>\n",
       "      <td>-86.0</td>\n",
       "      <td>1</td>\n",
       "      <td>...</td>\n",
       "      <td>0</td>\n",
       "      <td>0</td>\n",
       "      <td>1</td>\n",
       "      <td>1</td>\n",
       "      <td>0</td>\n",
       "      <td>2</td>\n",
       "      <td>0</td>\n",
       "      <td>1</td>\n",
       "      <td>0</td>\n",
       "      <td>4</td>\n",
       "    </tr>\n",
       "  </tbody>\n",
       "</table>\n",
       "<p>5 rows × 33 columns</p>\n",
       "</div>"
      ],
      "text/plain": [
       "        CNT_CHILDREN  AMT_INCOME_TOTAL  AMT_CREDIT  AMT_ANNUITY  \\\n",
       "159703             2          405000.0   1971072.0      68643.0   \n",
       "79269              0          337500.0    508495.5      38146.5   \n",
       "232615             1          112500.0    110146.5      13068.0   \n",
       "33420              2           40500.0     66384.0       3519.0   \n",
       "88191              0          225000.0    298512.0      31801.5   \n",
       "\n",
       "        AMT_GOODS_PRICE  REGION_POPULATION_RELATIVE  DAYS_BIRTH  \\\n",
       "159703        1800000.0                    0.006852      -13587   \n",
       "79269          454500.0                    0.010276      -17543   \n",
       "232615          90000.0                    0.005084      -11557   \n",
       "33420           45000.0                    0.031329      -15750   \n",
       "88191          270000.0                    0.019101      -19912   \n",
       "\n",
       "        DAYS_EMPLOYED  DAYS_REGISTRATION  FLAG_MOBIL  ...  \\\n",
       "159703          -1028            -7460.0           1  ...   \n",
       "79269           -1208            -4054.0           1  ...   \n",
       "232615           -593            -5554.0           1  ...   \n",
       "33420           -5376            -5285.0           1  ...   \n",
       "88191           -1195              -86.0           1  ...   \n",
       "\n",
       "        NAME_CONTRACT_TYPE_numeric  CODE_GENDER_numeric  FLAG_OWN_CAR_numeric  \\\n",
       "159703                           0                    1                     1   \n",
       "79269                            0                    0                     0   \n",
       "232615                           0                    0                     0   \n",
       "33420                            0                    1                     0   \n",
       "88191                            0                    0                     1   \n",
       "\n",
       "        FLAG_OWN_REALTY_numeric  NAME_TYPE_SUITE_numeric  \\\n",
       "159703                        0                        0   \n",
       "79269                         0                        1   \n",
       "232615                        0                        0   \n",
       "33420                         0                        0   \n",
       "88191                         1                        0   \n",
       "\n",
       "        NAME_INCOME_TYPE_numeric  NAME_EDUCATION_TYPE_numeric  \\\n",
       "159703                         2                            1   \n",
       "79269                          1                            1   \n",
       "232615                         2                            0   \n",
       "33420                          2                            0   \n",
       "88191                          2                            0   \n",
       "\n",
       "        NAME_FAMILY_STATUS_numeric  NAME_HOUSING_TYPE_numeric  \\\n",
       "159703                           1                          0   \n",
       "79269                            1                          0   \n",
       "232615                           1                          0   \n",
       "33420                            1                          0   \n",
       "88191                            1                          0   \n",
       "\n",
       "        OCCUPATION_TYPE_numeric  \n",
       "159703                        2  \n",
       "79269                         3  \n",
       "232615                        0  \n",
       "33420                         5  \n",
       "88191                         4  \n",
       "\n",
       "[5 rows x 33 columns]"
      ]
     },
     "execution_count": 44,
     "metadata": {},
     "output_type": "execute_result"
    }
   ],
   "source": [
    "X_train.head()"
   ]
  },
  {
   "cell_type": "code",
   "execution_count": 45,
   "id": "61e1eed9-c275-4af4-a60d-660c5c528087",
   "metadata": {
    "tags": []
   },
   "outputs": [
    {
     "data": {
      "text/plain": [
       "159703    0\n",
       "79269     0\n",
       "232615    0\n",
       "33420     0\n",
       "88191     0\n",
       "Name: TARGET, dtype: int64"
      ]
     },
     "execution_count": 45,
     "metadata": {},
     "output_type": "execute_result"
    }
   ],
   "source": [
    "y_train.head()"
   ]
  },
  {
   "cell_type": "code",
   "execution_count": 46,
   "id": "0a8b1481-ca37-48d6-bfed-bf43a43e15ab",
   "metadata": {
    "tags": []
   },
   "outputs": [
    {
     "data": {
      "text/plain": [
       "0    197880\n",
       "1     17377\n",
       "Name: TARGET, dtype: int64"
      ]
     },
     "execution_count": 46,
     "metadata": {},
     "output_type": "execute_result"
    }
   ],
   "source": [
    "y_train.value_counts() # balanced at 8.78% due to stratified split"
   ]
  },
  {
   "cell_type": "code",
   "execution_count": 47,
   "id": "dc5da850-cfe5-4396-a22b-11a6881fd6db",
   "metadata": {
    "tags": []
   },
   "outputs": [
    {
     "data": {
      "text/plain": [
       "0    84806\n",
       "1     7448\n",
       "Name: TARGET, dtype: int64"
      ]
     },
     "execution_count": 47,
     "metadata": {},
     "output_type": "execute_result"
    }
   ],
   "source": [
    "y_test.value_counts() # balanced at 8.78% due to stratified split"
   ]
  },
  {
   "cell_type": "markdown",
   "id": "fcd5f7d0-c21f-4480-883a-daaa6b1b21c8",
   "metadata": {},
   "source": [
    "write out 4 df's to S3 again"
   ]
  },
  {
   "cell_type": "code",
   "execution_count": 48,
   "id": "f7657ae5-55d8-4c66-9314-9ce1e64130fe",
   "metadata": {
    "tags": []
   },
   "outputs": [],
   "source": [
    "# base s3 path for team project\n",
    "base_path = 's3://sagemaker-us-east-1-339713065136/team-project/'\n",
    "\n",
    "# write out to each of the paths as a csv file, don't include index\n",
    "X_train.to_csv(base_path + 'X_train/X_train.csv', index=False)\n",
    "X_test.to_csv(base_path + 'X_test/X_test.csv', index=False)\n",
    "y_train.to_csv(base_path + 'y_train/y_train.csv', index=False)\n",
    "y_test.to_csv(base_path + 'y_test/y_test.csv', index=False)"
   ]
  },
  {
   "cell_type": "markdown",
   "id": "0aa008f0-d505-4a55-ac07-7d3b985c9780",
   "metadata": {},
   "source": [
    "## MODELING PART"
   ]
  },
  {
   "cell_type": "code",
   "execution_count": 49,
   "id": "10c6d5a4-5a2e-4fb7-9ccf-5d058e51bca1",
   "metadata": {
    "tags": []
   },
   "outputs": [
    {
     "name": "stdout",
     "output_type": "stream",
     "text": [
      "Missing values in X_train:\n",
      "CNT_CHILDREN                         0\n",
      "AMT_INCOME_TOTAL                     0\n",
      "AMT_CREDIT                           0\n",
      "AMT_ANNUITY                          8\n",
      "AMT_GOODS_PRICE                    187\n",
      "REGION_POPULATION_RELATIVE           0\n",
      "DAYS_BIRTH                           0\n",
      "DAYS_EMPLOYED                        0\n",
      "DAYS_REGISTRATION                    0\n",
      "FLAG_MOBIL                           0\n",
      "FLAG_EMP_PHONE                       0\n",
      "FLAG_WORK_PHONE                      0\n",
      "FLAG_CONT_MOBILE                     0\n",
      "FLAG_PHONE                           0\n",
      "FLAG_EMAIL                           0\n",
      "previous_AMT_ANNUITY             11456\n",
      "previous_AMT_APPLICATION         11456\n",
      "previous_AMT_CREDIT              11456\n",
      "previous_AMT_GOODS_PRICE         11456\n",
      "bureau_AMT_CREDIT_SUM            30836\n",
      "bureau_AMT_CREDIT_SUM_DEBT       30836\n",
      "bureau_AMT_CREDIT_SUM_LIMIT      30836\n",
      "bureau_AMT_CREDIT_SUM_OVERDUE    30836\n",
      "NAME_CONTRACT_TYPE_numeric           0\n",
      "CODE_GENDER_numeric                  0\n",
      "FLAG_OWN_CAR_numeric                 0\n",
      "FLAG_OWN_REALTY_numeric              0\n",
      "NAME_TYPE_SUITE_numeric              0\n",
      "NAME_INCOME_TYPE_numeric             0\n",
      "NAME_EDUCATION_TYPE_numeric          0\n",
      "NAME_FAMILY_STATUS_numeric           0\n",
      "NAME_HOUSING_TYPE_numeric            0\n",
      "OCCUPATION_TYPE_numeric              0\n",
      "dtype: int64\n",
      "\n",
      "Missing values in Y_train:\n",
      "0\n",
      "\n",
      "Missing values in X_test:\n",
      "CNT_CHILDREN                         0\n",
      "AMT_INCOME_TOTAL                     0\n",
      "AMT_CREDIT                           0\n",
      "AMT_ANNUITY                          4\n",
      "AMT_GOODS_PRICE                     91\n",
      "REGION_POPULATION_RELATIVE           0\n",
      "DAYS_BIRTH                           0\n",
      "DAYS_EMPLOYED                        0\n",
      "DAYS_REGISTRATION                    0\n",
      "FLAG_MOBIL                           0\n",
      "FLAG_EMP_PHONE                       0\n",
      "FLAG_WORK_PHONE                      0\n",
      "FLAG_CONT_MOBILE                     0\n",
      "FLAG_PHONE                           0\n",
      "FLAG_EMAIL                           0\n",
      "previous_AMT_ANNUITY              4998\n",
      "previous_AMT_APPLICATION          4998\n",
      "previous_AMT_CREDIT               4998\n",
      "previous_AMT_GOODS_PRICE          4998\n",
      "bureau_AMT_CREDIT_SUM            13184\n",
      "bureau_AMT_CREDIT_SUM_DEBT       13184\n",
      "bureau_AMT_CREDIT_SUM_LIMIT      13184\n",
      "bureau_AMT_CREDIT_SUM_OVERDUE    13184\n",
      "NAME_CONTRACT_TYPE_numeric           0\n",
      "CODE_GENDER_numeric                  0\n",
      "FLAG_OWN_CAR_numeric                 0\n",
      "FLAG_OWN_REALTY_numeric              0\n",
      "NAME_TYPE_SUITE_numeric              0\n",
      "NAME_INCOME_TYPE_numeric             0\n",
      "NAME_EDUCATION_TYPE_numeric          0\n",
      "NAME_FAMILY_STATUS_numeric           0\n",
      "NAME_HOUSING_TYPE_numeric            0\n",
      "OCCUPATION_TYPE_numeric              0\n",
      "dtype: int64\n",
      "\n",
      "Missing values in Y_test:\n",
      "0\n"
     ]
    }
   ],
   "source": [
    "# Checking missing values in X_train\n",
    "missing_values_X_train = X_train.isnull().sum()\n",
    "print(\"Missing values in X_train:\")\n",
    "print(missing_values_X_train)\n",
    "\n",
    "# Checking missing values in Y_train\n",
    "missing_values_Y_train = y_train.isnull().sum()\n",
    "print(\"\\nMissing values in Y_train:\")\n",
    "print(missing_values_Y_train)\n",
    "\n",
    "# Checking missing values in X_test\n",
    "missing_values_X_test = X_test.isnull().sum()\n",
    "print(\"\\nMissing values in X_test:\")\n",
    "print(missing_values_X_test)\n",
    "\n",
    "# Checking missing values in Y_test\n",
    "missing_values_Y_test = y_test.isnull().sum()\n",
    "print(\"\\nMissing values in Y_test:\")\n",
    "print(missing_values_Y_test)"
   ]
  },
  {
   "cell_type": "code",
   "execution_count": 50,
   "id": "ccc3f412-96c7-41f6-bbdf-05bf5a4a4651",
   "metadata": {
    "tags": []
   },
   "outputs": [],
   "source": [
    "from sklearn.impute import SimpleImputer\n",
    "\n",
    "# Using median to impute the missing values.\n",
    "imputer = SimpleImputer(strategy='median')\n",
    "\n",
    "# Adjusting the both training and testing data to replace the missing values.\n",
    "X_train_imputed = imputer.fit_transform(X_train)\n",
    "X_test_imputed = imputer.transform(X_test)\n"
   ]
  },
  {
   "cell_type": "code",
   "execution_count": 51,
   "id": "a55a6c35-57bd-4359-9a52-2c35238deed3",
   "metadata": {
    "tags": []
   },
   "outputs": [],
   "source": [
    "# Returning the train data back to a DataFrame \n",
    "import pandas as pd\n",
    "X_train_imputed_df = pd.DataFrame(X_train_imputed, columns=X_train.columns)\n"
   ]
  },
  {
   "cell_type": "code",
   "execution_count": 52,
   "id": "6f843e5a-2f37-4f6c-88dc-75d68c372b54",
   "metadata": {
    "tags": []
   },
   "outputs": [
    {
     "name": "stdout",
     "output_type": "stream",
     "text": [
      "Missing values in X_train:\n",
      "CNT_CHILDREN                     0\n",
      "AMT_INCOME_TOTAL                 0\n",
      "AMT_CREDIT                       0\n",
      "AMT_ANNUITY                      0\n",
      "AMT_GOODS_PRICE                  0\n",
      "REGION_POPULATION_RELATIVE       0\n",
      "DAYS_BIRTH                       0\n",
      "DAYS_EMPLOYED                    0\n",
      "DAYS_REGISTRATION                0\n",
      "FLAG_MOBIL                       0\n",
      "FLAG_EMP_PHONE                   0\n",
      "FLAG_WORK_PHONE                  0\n",
      "FLAG_CONT_MOBILE                 0\n",
      "FLAG_PHONE                       0\n",
      "FLAG_EMAIL                       0\n",
      "previous_AMT_ANNUITY             0\n",
      "previous_AMT_APPLICATION         0\n",
      "previous_AMT_CREDIT              0\n",
      "previous_AMT_GOODS_PRICE         0\n",
      "bureau_AMT_CREDIT_SUM            0\n",
      "bureau_AMT_CREDIT_SUM_DEBT       0\n",
      "bureau_AMT_CREDIT_SUM_LIMIT      0\n",
      "bureau_AMT_CREDIT_SUM_OVERDUE    0\n",
      "NAME_CONTRACT_TYPE_numeric       0\n",
      "CODE_GENDER_numeric              0\n",
      "FLAG_OWN_CAR_numeric             0\n",
      "FLAG_OWN_REALTY_numeric          0\n",
      "NAME_TYPE_SUITE_numeric          0\n",
      "NAME_INCOME_TYPE_numeric         0\n",
      "NAME_EDUCATION_TYPE_numeric      0\n",
      "NAME_FAMILY_STATUS_numeric       0\n",
      "NAME_HOUSING_TYPE_numeric        0\n",
      "OCCUPATION_TYPE_numeric          0\n",
      "dtype: int64\n"
     ]
    }
   ],
   "source": [
    "#Checking the traning data after transformation.\n",
    "missing_values_X_train = X_train_imputed_df.isnull().sum()\n",
    "print(\"Missing values in X_train:\")\n",
    "print(missing_values_X_train)"
   ]
  },
  {
   "cell_type": "code",
   "execution_count": 53,
   "id": "bb225dd0-3f0f-4bf9-a65d-501258ca4f29",
   "metadata": {
    "tags": []
   },
   "outputs": [],
   "source": [
    "# Returning the test data back to a DataFrame \n",
    "X_test_imputed_df = pd.DataFrame(X_test_imputed, columns=X_test.columns)"
   ]
  },
  {
   "cell_type": "code",
   "execution_count": 54,
   "id": "04fc5236-2844-4419-b2b3-a54588cf7154",
   "metadata": {
    "tags": []
   },
   "outputs": [
    {
     "name": "stdout",
     "output_type": "stream",
     "text": [
      "Missing values in X_test:\n",
      "CNT_CHILDREN                     0\n",
      "AMT_INCOME_TOTAL                 0\n",
      "AMT_CREDIT                       0\n",
      "AMT_ANNUITY                      0\n",
      "AMT_GOODS_PRICE                  0\n",
      "REGION_POPULATION_RELATIVE       0\n",
      "DAYS_BIRTH                       0\n",
      "DAYS_EMPLOYED                    0\n",
      "DAYS_REGISTRATION                0\n",
      "FLAG_MOBIL                       0\n",
      "FLAG_EMP_PHONE                   0\n",
      "FLAG_WORK_PHONE                  0\n",
      "FLAG_CONT_MOBILE                 0\n",
      "FLAG_PHONE                       0\n",
      "FLAG_EMAIL                       0\n",
      "previous_AMT_ANNUITY             0\n",
      "previous_AMT_APPLICATION         0\n",
      "previous_AMT_CREDIT              0\n",
      "previous_AMT_GOODS_PRICE         0\n",
      "bureau_AMT_CREDIT_SUM            0\n",
      "bureau_AMT_CREDIT_SUM_DEBT       0\n",
      "bureau_AMT_CREDIT_SUM_LIMIT      0\n",
      "bureau_AMT_CREDIT_SUM_OVERDUE    0\n",
      "NAME_CONTRACT_TYPE_numeric       0\n",
      "CODE_GENDER_numeric              0\n",
      "FLAG_OWN_CAR_numeric             0\n",
      "FLAG_OWN_REALTY_numeric          0\n",
      "NAME_TYPE_SUITE_numeric          0\n",
      "NAME_INCOME_TYPE_numeric         0\n",
      "NAME_EDUCATION_TYPE_numeric      0\n",
      "NAME_FAMILY_STATUS_numeric       0\n",
      "NAME_HOUSING_TYPE_numeric        0\n",
      "OCCUPATION_TYPE_numeric          0\n",
      "dtype: int64\n"
     ]
    }
   ],
   "source": [
    "#Checking the test data after transformation.\n",
    "missing_values_X_test = X_test_imputed_df.isnull().sum()\n",
    "print(\"Missing values in X_test:\")\n",
    "print(missing_values_X_test)"
   ]
  },
  {
   "cell_type": "code",
   "execution_count": 55,
   "id": "7b811056-347e-495b-8439-0fbb94980fdb",
   "metadata": {
    "tags": []
   },
   "outputs": [],
   "source": [
    "# base s3 path for team project\n",
    "base_path = 's3://sagemaker-us-east-1-339713065136/team-project/'\n",
    "\n",
    "# write out to each of the paths as a csv file, don't include index\n",
    "X_train_imputed_df.to_csv(base_path + 'X_train/X_train_df.csv', index=False)\n",
    "X_test_imputed_df.to_csv(base_path + 'X_test/X_test_df.csv', index=False)"
   ]
  },
  {
   "cell_type": "markdown",
   "id": "624d568a-b44f-4f23-87ba-840c8eb18c75",
   "metadata": {},
   "source": [
    "## RandomForestClassifier"
   ]
  },
  {
   "cell_type": "code",
   "execution_count": 56,
   "id": "73e00b50-2407-4dcf-bcd2-c4aa2412db77",
   "metadata": {
    "tags": []
   },
   "outputs": [
    {
     "name": "stdout",
     "output_type": "stream",
     "text": [
      "Random Forest Accuracy: 0.9193205714657359\n",
      "Random Forest Classification Report:\n",
      "              precision    recall  f1-score   support\n",
      "\n",
      "           0       0.92      1.00      0.96     84806\n",
      "           1       0.86      0.00      0.00      7448\n",
      "\n",
      "    accuracy                           0.92     92254\n",
      "   macro avg       0.89      0.50      0.48     92254\n",
      "weighted avg       0.91      0.92      0.88     92254\n",
      "\n"
     ]
    }
   ],
   "source": [
    "from sklearn.ensemble import RandomForestClassifier\n",
    "from sklearn.metrics import accuracy_score, classification_report\n",
    "\n",
    "# Calling the Random Forest classifier\n",
    "rf_classifier = RandomForestClassifier()\n",
    "\n",
    "# Training the model\n",
    "rf_classifier.fit(X_train_imputed_df, y_train)\n",
    "\n",
    "# Predicting on the test set\n",
    "y_pred_rf = rf_classifier.predict(X_test_imputed_df)\n",
    "\n",
    "# Calculating accuracy\n",
    "accuracy_rf = accuracy_score(y_test, y_pred_rf)\n",
    "print(\"Random Forest Accuracy:\", accuracy_rf)\n",
    "\n",
    "# Generating the Classification report\n",
    "print(\"Random Forest Classification Report:\")\n",
    "print(classification_report(y_test, y_pred_rf))\n"
   ]
  },
  {
   "cell_type": "code",
   "execution_count": 58,
   "id": "fc0a4590-12f9-4642-b4a8-de95aaea5ee3",
   "metadata": {
    "tags": []
   },
   "outputs": [
    {
     "data": {
      "image/png": "[encoded data removed]",
      "text/plain": [
       "<Figure size 576x432 with 2 Axes>"
      ]
     },
     "metadata": {
      "needs_background": "light"
     },
     "output_type": "display_data"
    }
   ],
   "source": [
    "from sklearn.metrics import confusion_matrix\n",
    "import seaborn as sns\n",
    "import matplotlib.pyplot as plt\n",
    "\n",
    "# Calculating confusion matrix\n",
    "conf_matrix = confusion_matrix(y_test, y_pred_rf)\n",
    "\n",
    "# Ploting confusion matrix\n",
    "plt.figure(figsize=(8, 6))\n",
    "sns.heatmap(conf_matrix, annot=True, fmt=\"d\", cmap=\"Blues\")\n",
    "plt.xlabel(\"Predicted labels\")\n",
    "plt.ylabel(\"True labels\")\n",
    "plt.title(\"Confusion Matrix\")\n",
    "plt.show()\n"
   ]
  },
  {
   "cell_type": "code",
   "execution_count": 73,
   "id": "395f8677-3b54-490c-8abf-741b1dcff8b8",
   "metadata": {
    "tags": []
   },
   "outputs": [
    {
     "name": "stdout",
     "output_type": "stream",
     "text": [
      "Random Forest ROC AUC: 0.6575400344130344\n"
     ]
    },
    {
     "data": {
      "image/png": "[encoded data removed]",
      "text/plain": [
       "<Figure size 576x432 with 1 Axes>"
      ]
     },
     "metadata": {
      "needs_background": "light"
     },
     "output_type": "display_data"
    }
   ],
   "source": [
    "from sklearn.metrics import roc_auc_score, roc_curve\n",
    "\n",
    "# Predicting probabilities \n",
    "y_pred_proba_rf = rf_classifier.predict_proba(X_test_imputed_df)[:, 1]\n",
    "\n",
    "# Computing ROC AUC score\n",
    "roc_auc_rf = roc_auc_score(y_test, y_pred_proba_rf)\n",
    "print(\"Random Forest ROC AUC:\", roc_auc_rf)\n",
    "\n",
    "# Ploting ROC curve\n",
    "fpr_rf, tpr_rf, _ = roc_curve(y_test, y_pred_proba_rf)\n",
    "plt.figure(figsize=(8, 6))\n",
    "plt.plot(fpr_rf, tpr_rf, color='orange', lw=2, label='Random Forest ROC curve (AUC = %0.2f)' % roc_auc_rf)\n",
    "plt.plot([0, 1], [0, 1], color='navy', lw=2, linestyle='--')\n",
    "plt.xlabel('False Positive Rate')\n",
    "plt.ylabel('True Positive Rate')\n",
    "plt.title('Receiver Operating Characteristic (ROC) Curve - Random Forest')\n",
    "plt.legend(loc='lower right')\n",
    "plt.show()"
   ]
  },
  {
   "cell_type": "markdown",
   "id": "0a4c8a77-f094-42f1-b7c5-6c448aa649ec",
   "metadata": {},
   "source": [
    "## LogisticRegression"
   ]
  },
  {
   "cell_type": "code",
   "execution_count": 60,
   "id": "b9d05e3c-46aa-429a-bf0a-5d057537409d",
   "metadata": {
    "tags": []
   },
   "outputs": [
    {
     "name": "stdout",
     "output_type": "stream",
     "text": [
      "Accuracy: 0.9190495805059943\n",
      "Classification Report:\n",
      "              precision    recall  f1-score   support\n",
      "\n",
      "           0       0.92      1.00      0.96     84806\n",
      "           1       0.08      0.00      0.00      7448\n",
      "\n",
      "    accuracy                           0.92     92254\n",
      "   macro avg       0.50      0.50      0.48     92254\n",
      "weighted avg       0.85      0.92      0.88     92254\n",
      "\n"
     ]
    }
   ],
   "source": [
    "from sklearn.linear_model import LogisticRegression\n",
    "from sklearn.metrics import accuracy_score, classification_report\n",
    "\n",
    "# Calling the logistic regression model.\n",
    "# Assume the max_iter value as 1000.\n",
    "logreg = LogisticRegression(max_iter=1000)  \n",
    "\n",
    "# Training the model\n",
    "logreg.fit(X_train_imputed_df, y_train)\n",
    "\n",
    "# Predicting on the test set\n",
    "y_pred = logreg.predict(X_test_imputed_df)\n",
    "\n",
    "# Calculating the accuracy\n",
    "accuracy = accuracy_score(y_test, y_pred)\n",
    "print(\"Accuracy:\", accuracy)\n",
    "\n",
    "# Generating the classification report\n",
    "print(\"Classification Report:\")\n",
    "print(classification_report(y_test, y_pred))\n"
   ]
  },
  {
   "cell_type": "code",
   "execution_count": 61,
   "id": "d2d77eef-2aa4-4ad4-b22d-ca98b53e5535",
   "metadata": {
    "tags": []
   },
   "outputs": [
    {
     "data": {
      "image/png": "[encoded data removed]",
      "text/plain": [
       "<Figure size 576x432 with 2 Axes>"
      ]
     },
     "metadata": {
      "needs_background": "light"
     },
     "output_type": "display_data"
    }
   ],
   "source": [
    "from sklearn.metrics import confusion_matrix\n",
    "import seaborn as sns\n",
    "import matplotlib.pyplot as plt\n",
    "\n",
    "# Calculating confusion matrix\n",
    "conf_matrix = confusion_matrix(y_test, y_pred)\n",
    "\n",
    "# Ploting confusion matrix\n",
    "plt.figure(figsize=(8, 6))\n",
    "sns.heatmap(conf_matrix, annot=True, fmt=\"d\", cmap=\"Blues\")\n",
    "plt.xlabel(\"Predicted labels\")\n",
    "plt.ylabel(\"True labels\")\n",
    "plt.title(\"Confusion Matrix for LogisticRegression\")\n",
    "plt.show()"
   ]
  },
  {
   "cell_type": "code",
   "execution_count": 74,
   "id": "545c0de1-6622-4022-a823-fef692bebc0a",
   "metadata": {
    "tags": []
   },
   "outputs": [
    {
     "name": "stdout",
     "output_type": "stream",
     "text": [
      "Logistic Regression ROC AUC: 0.618507599438491\n"
     ]
    },
    {
     "data": {
      "image/png": "[encoded data removed]",
      "text/plain": [
       "<Figure size 576x432 with 1 Axes>"
      ]
     },
     "metadata": {
      "needs_background": "light"
     },
     "output_type": "display_data"
    }
   ],
   "source": [
    "from sklearn.metrics import roc_auc_score, roc_curve\n",
    "\n",
    "# Predicting probabilities \n",
    "y_pred_proba_logreg = logreg.predict_proba(X_test_imputed_df)[:, 1]\n",
    "\n",
    "# Computing ROC AUC score\n",
    "roc_auc_logreg = roc_auc_score(y_test, y_pred_proba_logreg)\n",
    "print(\"Logistic Regression ROC AUC:\", roc_auc_logreg)\n",
    "\n",
    "# Ploting ROC curve\n",
    "fpr_logreg, tpr_logreg, _ = roc_curve(y_test, y_pred_proba_logreg)\n",
    "plt.figure(figsize=(8, 6))\n",
    "plt.plot(fpr_logreg, tpr_logreg, color='green', lw=2, label='Logistic Regression ROC curve (AUC = %0.2f)' % roc_auc_logreg)\n",
    "plt.plot([0, 1], [0, 1], color='navy', lw=2, linestyle='--')\n",
    "plt.xlabel('False Positive Rate')\n",
    "plt.ylabel('True Positive Rate')\n",
    "plt.title('Receiver Operating Characteristic (ROC) Curve - Logistic Regression')\n",
    "plt.legend(loc='lower right')\n",
    "plt.show()"
   ]
  },
  {
   "cell_type": "markdown",
   "id": "922faf8f-90ac-433b-a1e2-3d6483a373cb",
   "metadata": {
    "tags": []
   },
   "source": [
    "## GradientBoostingClassifier"
   ]
  },
  {
   "cell_type": "code",
   "execution_count": 63,
   "id": "e0e6c40d-653c-43b8-9162-505f1d83699a",
   "metadata": {
    "tags": []
   },
   "outputs": [
    {
     "name": "stdout",
     "output_type": "stream",
     "text": [
      "Accuracy: 0.9193097318273462\n",
      "Classification Report:\n",
      "              precision    recall  f1-score   support\n",
      "\n",
      "           0       0.92      1.00      0.96     84806\n",
      "           1       0.64      0.00      0.00      7448\n",
      "\n",
      "    accuracy                           0.92     92254\n",
      "   macro avg       0.78      0.50      0.48     92254\n",
      "weighted avg       0.90      0.92      0.88     92254\n",
      "\n"
     ]
    }
   ],
   "source": [
    "from sklearn.ensemble import GradientBoostingClassifier\n",
    "from sklearn.metrics import accuracy_score, classification_report\n",
    "\n",
    "# Initializing the Gradient Boosting classifier\n",
    "gb_classifier = GradientBoostingClassifier()\n",
    "\n",
    "# Training the model\n",
    "gb_classifier.fit(X_train_imputed_df, y_train)\n",
    "\n",
    "# Predicting on the test set\n",
    "y_pred_gb = gb_classifier.predict(X_test_imputed_df)\n",
    "\n",
    "# Calculating accuracy\n",
    "accuracy_gb = accuracy_score(y_test, y_pred_gb)\n",
    "print(\"Accuracy:\", accuracy_gb)\n",
    "\n",
    "# Generating the classification report\n",
    "print(\"Classification Report:\")\n",
    "print(classification_report(y_test, y_pred_gb))\n"
   ]
  },
  {
   "cell_type": "code",
   "execution_count": 64,
   "id": "9d474a0e-5c2f-4127-8fc2-77ebe9fcd3be",
   "metadata": {
    "tags": []
   },
   "outputs": [
    {
     "data": {
      "image/png": "[encoded data removed]",
      "text/plain": [
       "<Figure size 576x432 with 2 Axes>"
      ]
     },
     "metadata": {
      "needs_background": "light"
     },
     "output_type": "display_data"
    }
   ],
   "source": [
    "from sklearn.metrics import confusion_matrix\n",
    "import seaborn as sns\n",
    "import matplotlib.pyplot as plt\n",
    "\n",
    "# Calculating confusion matrix\n",
    "conf_matrix = confusion_matrix(y_test, y_pred_gb)\n",
    "\n",
    "# Ploting confusion matrix\n",
    "plt.figure(figsize=(8, 6))\n",
    "sns.heatmap(conf_matrix, annot=True, fmt=\"d\", cmap=\"Blues\")\n",
    "plt.xlabel(\"Predicted labels\")\n",
    "plt.ylabel(\"True labels\")\n",
    "plt.title(\"Confusion Matrix for GradientBoostingClassifier\")\n",
    "plt.show()"
   ]
  },
  {
   "cell_type": "code",
   "execution_count": 75,
   "id": "1d6a736c-4910-4dea-95a7-1e7901aa6d6b",
   "metadata": {
    "tags": []
   },
   "outputs": [
    {
     "name": "stdout",
     "output_type": "stream",
     "text": [
      "Gradient Boosting ROC AUC: 0.6978641724856173\n"
     ]
    },
    {
     "data": {
      "image/png": "[encoded data removed]",
      "text/plain": [
       "<Figure size 576x432 with 1 Axes>"
      ]
     },
     "metadata": {
      "needs_background": "light"
     },
     "output_type": "display_data"
    }
   ],
   "source": [
    "from sklearn.metrics import roc_auc_score, roc_curve\n",
    "\n",
    "# Predicting probabilities \n",
    "y_pred_proba_gb = gb_classifier.predict_proba(X_test_imputed_df)[:, 1]\n",
    "\n",
    "# Computing ROC AUC score\n",
    "roc_auc_gb = roc_auc_score(y_test, y_pred_proba_gb)\n",
    "print(\"Gradient Boosting ROC AUC:\", roc_auc_gb)\n",
    "\n",
    "# Ploting ROC curve\n",
    "fpr_gb, tpr_gb, _ = roc_curve(y_test, y_pred_proba_gb)\n",
    "plt.figure(figsize=(8, 6))\n",
    "plt.plot(fpr_gb, tpr_gb, color='orange', lw=2, label='Gradient Boosting ROC curve (AUC = %0.2f)' % roc_auc_gb)\n",
    "plt.plot([0, 1], [0, 1], color='navy', lw=2, linestyle='--')\n",
    "plt.xlabel('False Positive Rate')\n",
    "plt.ylabel('True Positive Rate')\n",
    "plt.title('Receiver Operating Characteristic (ROC) Curve - Gradient Boosting Classifier')\n",
    "plt.legend(loc='lower right')\n",
    "plt.show()\n"
   ]
  },
  {
   "cell_type": "markdown",
   "id": "0da6dc2e-70e1-4dfa-a226-6a45977ece08",
   "metadata": {},
   "source": [
    "## Xboost Algorithm Sagemaker"
   ]
  },
  {
   "cell_type": "code",
   "execution_count": 67,
   "id": "67b1785c-e12f-4043-a4eb-e936d095f2be",
   "metadata": {
    "tags": []
   },
   "outputs": [],
   "source": [
    "import sagemaker\n",
    "from sagemaker import get_execution_role\n",
    "from sagemaker.inputs import TrainingInput\n",
    "from sagemaker.estimator import Estimator"
   ]
  },
  {
   "cell_type": "code",
   "execution_count": 68,
   "id": "144f0cfc-7b4e-47d6-90ed-0436b541aa41",
   "metadata": {
    "tags": []
   },
   "outputs": [
    {
     "name": "stdout",
     "output_type": "stream",
     "text": [
      "sagemaker.config INFO - Not applying SDK defaults from location: /etc/xdg/sagemaker/config.yaml\n",
      "sagemaker.config INFO - Not applying SDK defaults from location: /root/.config/sagemaker/config.yaml\n"
     ]
    }
   ],
   "source": [
    "# Define IAM role\n",
    "role = get_execution_role()\n",
    "\n",
    "# Specify bucket and prefix for storing training data and model artifacts\n",
    "bucket = 'sagemaker-us-east-1-339713065136'\n",
    "prefix = 'sagemaker/xgboost_classification'"
   ]
  },
  {
   "cell_type": "code",
   "execution_count": 69,
   "id": "5ad9d5fd-26a8-414a-a9ce-17874861c929",
   "metadata": {
    "tags": []
   },
   "outputs": [
    {
     "name": "stderr",
     "output_type": "stream",
     "text": [
      "INFO:sagemaker.image_uris:Ignoring unnecessary instance type: None.\n"
     ]
    },
    {
     "name": "stdout",
     "output_type": "stream",
     "text": [
      "sagemaker.config INFO - Not applying SDK defaults from location: /etc/xdg/sagemaker/config.yaml\n",
      "sagemaker.config INFO - Not applying SDK defaults from location: /root/.config/sagemaker/config.yaml\n"
     ]
    }
   ],
   "source": [
    "from sagemaker import image_uris\n",
    "from sagemaker.estimator import Estimator\n",
    "import boto3\n",
    "\n",
    "# Get the current AWS region\n",
    "session = boto3.Session()\n",
    "region = session.region_name\n",
    "\n",
    "# Specify the XGBoost version\n",
    "xgboost_version = \"1.3-1\"\n",
    "\n",
    "# Create an instance of the XGBoost estimator with the specified version\n",
    "xgb_estimator = Estimator(image_uri=image_uris.retrieve(\"xgboost\", region, version=xgboost_version),\n",
    "                           role=role,\n",
    "                           instance_count=1,\n",
    "                           instance_type='ml.m4.xlarge',\n",
    "                           output_path=f's3://{bucket}/{prefix}/output')\n"
   ]
  },
  {
   "cell_type": "code",
   "execution_count": 70,
   "id": "9fce183e-924e-451e-aac1-ddb1b596e023",
   "metadata": {
    "tags": []
   },
   "outputs": [],
   "source": [
    "# Set hyperparameters for XGBoost model\n",
    "hyperparameters = {\n",
    "    'max_depth': '5',\n",
    "    'eta': '0.1',\n",
    "    'gamma': '1',\n",
    "    'min_child_weight': '1',\n",
    "    'subsample': '0.8',\n",
    "    'objective': 'binary:logistic',\n",
    "    'num_round': '100'\n",
    "}\n",
    "xgb_estimator.set_hyperparameters(**hyperparameters)"
   ]
  },
  {
   "cell_type": "code",
   "execution_count": 71,
   "id": "fdd128ff-6e9d-45a3-9290-7769533df770",
   "metadata": {
    "tags": []
   },
   "outputs": [],
   "source": [
    "# Specify the data location in S3\n",
    "train_input = TrainingInput(s3_data=f's3://sagemaker-us-east-1-339713065136/team-project/X_train/X_train_df.csv', content_type='csv')"
   ]
  },
  {
   "cell_type": "code",
   "execution_count": 72,
   "id": "0d68b53e-eca6-41eb-8164-691b6770fd14",
   "metadata": {
    "tags": []
   },
   "outputs": [
    {
     "name": "stderr",
     "output_type": "stream",
     "text": [
      "INFO:sagemaker:Creating training-job with name: sagemaker-xgboost-2024-03-30-20-42-29-110\n"
     ]
    },
    {
     "name": "stdout",
     "output_type": "stream",
     "text": [
      "2024-03-30 20:42:29 Starting - Starting the training job...\n",
      "2024-03-30 20:42:53 Starting - Preparing the instances for training......\n",
      "2024-03-30 20:43:37 Downloading - Downloading input data...\n",
      "2024-03-30 20:44:07 Downloading - Downloading the training image...\n",
      "2024-03-30 20:44:48 Training - Training image download completed. Training in progress...\u001b[34m[2024-03-30 20:45:03.434 ip-10-2-160-31.ec2.internal:8 INFO utils.py:28] RULE_JOB_STOP_SIGNAL_FILENAME: None\u001b[0m\n",
      "\u001b[34m[2024-03-30 20:45:03.473 ip-10-2-160-31.ec2.internal:8 INFO profiler_config_parser.py:111] User has disabled profiler.\u001b[0m\n",
      "\u001b[34m[2024-03-30:20:45:03:INFO] Imported framework sagemaker_xgboost_container.training\u001b[0m\n",
      "\u001b[34m[2024-03-30:20:45:03:INFO] Failed to parse hyperparameter objective value binary:logistic to Json.\u001b[0m\n",
      "\u001b[34mReturning the value itself\u001b[0m\n",
      "\u001b[34m[2024-03-30:20:45:03:INFO] No GPUs detected (normal if no gpus installed)\u001b[0m\n",
      "\u001b[34m[2024-03-30:20:45:03:INFO] Running XGBoost Sagemaker in algorithm mode\u001b[0m\n",
      "\u001b[34m[2024-03-30:20:45:03:INFO] Determined delimiter of CSV input is ','\u001b[0m\n",
      "\u001b[34m[2024-03-30:20:45:03:INFO] files path: /opt/ml/input/data/train\u001b[0m\n",
      "\u001b[34m[2024-03-30:20:45:03:INFO] Determined delimiter of CSV input is ','\u001b[0m\n",
      "\u001b[34m[2024-03-30:20:45:03:INFO] Single node training.\u001b[0m\n",
      "\u001b[34m[2024-03-30:20:45:03:INFO] Train matrix has 215258 rows and 32 columns\u001b[0m\n",
      "\u001b[34m[2024-03-30 20:45:03.925 ip-10-2-160-31.ec2.internal:8 INFO json_config.py:92] Creating hook from json_config at /opt/ml/input/config/debughookconfig.json.\u001b[0m\n",
      "\u001b[34m[2024-03-30 20:45:03.926 ip-10-2-160-31.ec2.internal:8 INFO hook.py:207] tensorboard_dir has not been set for the hook. SMDebug will not be exporting tensorboard summaries.\u001b[0m\n",
      "\u001b[34m[2024-03-30 20:45:03.927 ip-10-2-160-31.ec2.internal:8 INFO hook.py:259] Saving to /opt/ml/output/tensors\u001b[0m\n",
      "\u001b[34m[2024-03-30 20:45:03.927 ip-10-2-160-31.ec2.internal:8 INFO state_store.py:77] The checkpoint config file /opt/ml/input/config/checkpointconfig.json does not exist.\u001b[0m\n",
      "\u001b[34m[2024-03-30:20:45:03:INFO] Debug hook created from config\u001b[0m\n",
      "\u001b[34m[2024-03-30:20:45:03:ERROR] Reporting training FAILURE\u001b[0m\n",
      "\u001b[34m[2024-03-30:20:45:03:ERROR] framework error: \u001b[0m\n",
      "\u001b[34mTraceback (most recent call last):\n",
      "  File \"/miniconda3/lib/python3.7/site-packages/sagemaker_xgboost_container/algorithm_mode/train.py\", line 239, in train_job\n",
      "    feval=configured_feval, callbacks=callbacks, xgb_model=xgb_model, verbose_eval=False)\n",
      "  File \"/miniconda3/lib/python3.7/site-packages/xgboost/training.py\", line 235, in train\n",
      "    early_stopping_rounds=early_stopping_rounds)\n",
      "  File \"/miniconda3/lib/python3.7/site-packages/xgboost/training.py\", line 102, in _train_internal\n",
      "    bst.update(dtrain, i, obj)\n",
      "  File \"/miniconda3/lib/python3.7/site-packages/xgboost/core.py\", line 1282, in update\n",
      "    dtrain.handle))\n",
      "  File \"/miniconda3/lib/python3.7/site-packages/xgboost/core.py\", line 189, in _check_call\n",
      "    raise XGBoostError(py_str(_LIB.XGBGetLastError()))\u001b[0m\n",
      "\u001b[34mxgboost.core.XGBoostError: [20:45:03] ../src/objective/regression_obj.cu:102: label must be in [0,1] for logistic regression\u001b[0m\n",
      "\u001b[34mStack trace:\n",
      "  [bt] (0) /miniconda3/lib/python3.7/site-packages/xgboost/lib/libxgboost.so(+0x8d264) [0x7ff2e9426264]\n",
      "  [bt] (1) /miniconda3/lib/python3.7/site-packages/xgboost/lib/libxgboost.so(+0x424b44) [0x7ff2e97bdb44]\n",
      "  [bt] (2) /miniconda3/lib/python3.7/site-packages/xgboost/lib/libxgboost.so(+0x1a2cef) [0x7ff2e953bcef]\n",
      "  [bt] (3) /miniconda3/lib/python3.7/site-packages/xgboost/lib/libxgboost.so(XGBoosterUpdateOneIter+0x58) [0x7ff2e94190c8]\n",
      "  [bt] (4) /miniconda3/lib/python3.7/lib-dynload/../../libffi.so.7(+0x69dd) [0x7ff3264e29dd]\n",
      "  [bt] (5) /miniconda3/lib/python3.7/lib-dynload/../../libffi.so.7(+0x6067) [0x7ff3264e2067]\n",
      "  [bt] (6) /miniconda3/lib/python3.7/lib-dynload/_ctypes.cpython-37m-x86_64-linux-gnu.so(_ctypes_callproc+0x2e7) [0x7ff3264fa3b7]\n",
      "  [bt] (7) /miniconda3/lib/python3.7/lib-dynload/_ctypes.cpython-37m-x86_64-linux-gnu.so(+0x12e24) [0x7ff3264fae24]\n",
      "  [bt] (8) /miniconda3/bin/python3(_PyObject_FastCallKeywords+0x48b) [0x559755d27c9b]\u001b[0m\n",
      "\u001b[34mDuring handling of the above exception, another exception occurred:\u001b[0m\n",
      "\u001b[34mTraceback (most recent call last):\n",
      "  File \"/miniconda3/lib/python3.7/site-packages/sagemaker_containers/_trainer.py\", line 84, in train\n",
      "    entrypoint()\n",
      "  File \"/miniconda3/lib/python3.7/site-packages/sagemaker_xgboost_container/training.py\", line 93, in main\n",
      "    train(framework.training_env())\n",
      "  File \"/miniconda3/lib/python3.7/site-packages/sagemaker_xgboost_container/training.py\", line 89, in train\n",
      "    run_algorithm_mode()\n",
      "  File \"/miniconda3/lib/python3.7/site-packages/sagemaker_xgboost_container/training.py\", line 67, in run_algorithm_mode\n",
      "    checkpoint_config=checkpoint_config\n",
      "  File \"/miniconda3/lib/python3.7/site-packages/sagemaker_xgboost_container/algorithm_mode/train.py\", line 178, in sagemaker_train\n",
      "    train_job(**train_args)\n",
      "  File \"/miniconda3/lib/python3.7/site-packages/sagemaker_xgboost_container/algorithm_mode/train.py\", line 301, in train_job\n",
      "    raise exc.UserError(str(e))\u001b[0m\n",
      "\u001b[34msagemaker_algorithm_toolkit.exceptions.UserError: [20:45:03] ../src/objective/regression_obj.cu:102: label must be in [0,1] for logistic regression\u001b[0m\n",
      "\u001b[34mStack trace:\n",
      "  [bt] (0) /miniconda3/lib/python3.7/site-packages/xgboost/lib/libxgboost.so(+0x8d264) [0x7ff2e9426264]\n",
      "  [bt] (1) /miniconda3/lib/python3.7/site-packages/xgboost/lib/libxgboost.so(+0x424b44) [0x7ff2e97bdb44]\n",
      "  [bt] (2) /miniconda3/lib/python3.7/site-packages/xgboost/lib/libxgboost.so(+0x1a2cef) [0x7ff2e953bcef]\n",
      "  [bt] (3) /miniconda3/lib/python3.7/site-packages/xgboost/lib/libxgboost.so(XGBoosterUpdateOneIter+0x58) [0x7ff2e94190c8]\n",
      "  [bt] (4) /miniconda3/lib/python3.7/lib-dynload/../../libffi.so.7(+0x69dd) [0x7ff3264e29dd]\n",
      "  [bt] (5) /miniconda3/lib/python3.7/lib-dynload/../../libffi.so.7(+0x6067) [0x7ff3264e2067]\n",
      "  [bt] (6) /miniconda3/lib/python3.7/lib-dynload/_ctypes.cpython-37m-x86_64-linux-gnu.so(_ctypes_callproc+0x2e7) [0x7ff3264fa3b7]\n",
      "  [bt] (7) /miniconda3/lib/python3.7/lib-dynload/_ctypes.cpython-37m-x86_64-linux-gnu.so(+0x12e24) [0x7ff3264fae24]\n",
      "  [bt] (8) /miniconda3/bin/python3(_PyObject_FastCallKeywords+0x48b) [0x559755d27c9b]\u001b[0m\n",
      "\u001b[34m[20:45:03] ../src/objective/regression_obj.cu:102: label must be in [0,1] for logistic regression\u001b[0m\n",
      "\u001b[34mStack trace:\n",
      "  [bt] (0) /miniconda3/lib/python3.7/site-packages/xgboost/lib/libxgboost.so(+0x8d264) [0x7ff2e9426264]\n",
      "  [bt] (1) /miniconda3/lib/python3.7/site-packages/xgboost/lib/libxgboost.so(+0x424b44) [0x7ff2e97bdb44]\n",
      "  [bt] (2) /miniconda3/lib/python3.7/site-packages/xgboost/lib/libxgboost.so(+0x1a2cef) [0x7ff2e953bcef]\n",
      "  [bt] (3) /miniconda3/lib/python3.7/site-packages/xgboost/lib/libxgboost.so(XGBoosterUpdateOneIter+0x58) [0x7ff2e94190c8]\n",
      "  [bt] (4) /miniconda3/lib/python3.7/lib-dynload/../../libffi.so.7(+0x69dd) [0x7ff3264e29dd]\n",
      "  [bt] (5) /miniconda3/lib/python3.7/lib-dynload/../../libffi.so.7(+0x6067) [0x7ff3264e2067]\n",
      "  [bt] (6) /miniconda3/lib/python3.7/lib-dynload/_ctypes.cpython-37m-x86_64-linux-gnu.so(_ctypes_callproc+0x2e7) [0x7ff3264fa3b7]\n",
      "  [bt] (7) /miniconda3/lib/python3.7/lib-dynload/_ctypes.cpython-37m-x86_64-linux-gnu.so(+0x12e24) [0x7ff3264fae24]\n",
      "  [bt] (8) /miniconda3/bin/python3(_PyObject_FastCallKeywords+0x48b) [0x559755d27c9b]\u001b[0m\n",
      "\n",
      "2024-03-30 20:45:20 Uploading - Uploading generated training model\n",
      "2024-03-30 20:45:20 Failed - Training job failed\n"
     ]
    },
    {
     "ename": "UnexpectedStatusException",
     "evalue": "Error for Training job sagemaker-xgboost-2024-03-30-20-42-29-110: Failed. Reason: AlgorithmError: framework error: \nTraceback (most recent call last):\n  File \"/miniconda3/lib/python3.7/site-packages/sagemaker_xgboost_container/algorithm_mode/train.py\", line 239, in train_job\n    feval=configured_feval, callbacks=callbacks, xgb_model=xgb_model, verbose_eval=False)\n  File \"/miniconda3/lib/python3.7/site-packages/xgboost/training.py\", line 235, in train\n    early_stopping_rounds=early_stopping_rounds)\n  File \"/miniconda3/lib/python3.7/site-packages/xgboost/training.py\", line 102, in _train_internal\n    bst.update(dtrain, i, obj)\n  File \"/miniconda3/lib/python3.7/site-packages/xgboost/core.py\", line 1282, in update\n    dtrain.handle))\n  File \"/miniconda3/lib/python3.7/site-packages/xgboost/core.py\", line 189, in _check_call\n    raise XGBoostError(py_str(_LIB.XGBGetLastError()))\nxgboost.core.XGBoostError: [20:45:03] ../src/objective/regression_obj.cu:102: label must be in [0,1] for logistic regression\nStack trace:\n  [bt] (0) /miniconda3/lib/python3.7/site-packages/xgboost/lib/libxgboost.so(+0x8",
     "output_type": "error",
     "traceback": [
      "\u001b[0;31m---------------------------------------------------------------------------\u001b[0m",
      "\u001b[0;31mUnexpectedStatusException\u001b[0m                 Traceback (most recent call last)",
      "Cell \u001b[0;32mIn[72], line 2\u001b[0m\n\u001b[1;32m      1\u001b[0m \u001b[38;5;66;03m# Train the XGBoost model\u001b[39;00m\n\u001b[0;32m----> 2\u001b[0m \u001b[43mxgb_estimator\u001b[49m\u001b[38;5;241;43m.\u001b[39;49m\u001b[43mfit\u001b[49m\u001b[43m(\u001b[49m\u001b[43m{\u001b[49m\u001b[38;5;124;43m'\u001b[39;49m\u001b[38;5;124;43mtrain\u001b[39;49m\u001b[38;5;124;43m'\u001b[39;49m\u001b[43m:\u001b[49m\u001b[43m \u001b[49m\u001b[43mtrain_input\u001b[49m\u001b[43m}\u001b[49m\u001b[43m)\u001b[49m\n",
      "File \u001b[0;32m/opt/conda/lib/python3.8/site-packages/sagemaker/workflow/pipeline_context.py:346\u001b[0m, in \u001b[0;36mrunnable_by_pipeline.<locals>.wrapper\u001b[0;34m(*args, **kwargs)\u001b[0m\n\u001b[1;32m    342\u001b[0m         \u001b[38;5;28;01mreturn\u001b[39;00m context\n\u001b[1;32m    344\u001b[0m     \u001b[38;5;28;01mreturn\u001b[39;00m _StepArguments(retrieve_caller_name(self_instance), run_func, \u001b[38;5;241m*\u001b[39margs, \u001b[38;5;241m*\u001b[39m\u001b[38;5;241m*\u001b[39mkwargs)\n\u001b[0;32m--> 346\u001b[0m \u001b[38;5;28;01mreturn\u001b[39;00m \u001b[43mrun_func\u001b[49m\u001b[43m(\u001b[49m\u001b[38;5;241;43m*\u001b[39;49m\u001b[43margs\u001b[49m\u001b[43m,\u001b[49m\u001b[43m \u001b[49m\u001b[38;5;241;43m*\u001b[39;49m\u001b[38;5;241;43m*\u001b[39;49m\u001b[43mkwargs\u001b[49m\u001b[43m)\u001b[49m\n",
      "File \u001b[0;32m/opt/conda/lib/python3.8/site-packages/sagemaker/estimator.py:1322\u001b[0m, in \u001b[0;36mEstimatorBase.fit\u001b[0;34m(self, inputs, wait, logs, job_name, experiment_config)\u001b[0m\n\u001b[1;32m   1320\u001b[0m \u001b[38;5;28mself\u001b[39m\u001b[38;5;241m.\u001b[39mjobs\u001b[38;5;241m.\u001b[39mappend(\u001b[38;5;28mself\u001b[39m\u001b[38;5;241m.\u001b[39mlatest_training_job)\n\u001b[1;32m   1321\u001b[0m \u001b[38;5;28;01mif\u001b[39;00m wait:\n\u001b[0;32m-> 1322\u001b[0m     \u001b[38;5;28;43mself\u001b[39;49m\u001b[38;5;241;43m.\u001b[39;49m\u001b[43mlatest_training_job\u001b[49m\u001b[38;5;241;43m.\u001b[39;49m\u001b[43mwait\u001b[49m\u001b[43m(\u001b[49m\u001b[43mlogs\u001b[49m\u001b[38;5;241;43m=\u001b[39;49m\u001b[43mlogs\u001b[49m\u001b[43m)\u001b[49m\n",
      "File \u001b[0;32m/opt/conda/lib/python3.8/site-packages/sagemaker/estimator.py:2605\u001b[0m, in \u001b[0;36m_TrainingJob.wait\u001b[0;34m(self, logs)\u001b[0m\n\u001b[1;32m   2603\u001b[0m \u001b[38;5;66;03m# If logs are requested, call logs_for_jobs.\u001b[39;00m\n\u001b[1;32m   2604\u001b[0m \u001b[38;5;28;01mif\u001b[39;00m logs \u001b[38;5;241m!=\u001b[39m \u001b[38;5;124m\"\u001b[39m\u001b[38;5;124mNone\u001b[39m\u001b[38;5;124m\"\u001b[39m:\n\u001b[0;32m-> 2605\u001b[0m     \u001b[38;5;28;43mself\u001b[39;49m\u001b[38;5;241;43m.\u001b[39;49m\u001b[43msagemaker_session\u001b[49m\u001b[38;5;241;43m.\u001b[39;49m\u001b[43mlogs_for_job\u001b[49m\u001b[43m(\u001b[49m\u001b[38;5;28;43mself\u001b[39;49m\u001b[38;5;241;43m.\u001b[39;49m\u001b[43mjob_name\u001b[49m\u001b[43m,\u001b[49m\u001b[43m \u001b[49m\u001b[43mwait\u001b[49m\u001b[38;5;241;43m=\u001b[39;49m\u001b[38;5;28;43;01mTrue\u001b[39;49;00m\u001b[43m,\u001b[49m\u001b[43m \u001b[49m\u001b[43mlog_type\u001b[49m\u001b[38;5;241;43m=\u001b[39;49m\u001b[43mlogs\u001b[49m\u001b[43m)\u001b[49m\n\u001b[1;32m   2606\u001b[0m \u001b[38;5;28;01melse\u001b[39;00m:\n\u001b[1;32m   2607\u001b[0m     \u001b[38;5;28mself\u001b[39m\u001b[38;5;241m.\u001b[39msagemaker_session\u001b[38;5;241m.\u001b[39mwait_for_job(\u001b[38;5;28mself\u001b[39m\u001b[38;5;241m.\u001b[39mjob_name)\n",
      "File \u001b[0;32m/opt/conda/lib/python3.8/site-packages/sagemaker/session.py:5450\u001b[0m, in \u001b[0;36mSession.logs_for_job\u001b[0;34m(self, job_name, wait, poll, log_type, timeout)\u001b[0m\n\u001b[1;32m   5429\u001b[0m \u001b[38;5;28;01mdef\u001b[39;00m \u001b[38;5;21mlogs_for_job\u001b[39m(\u001b[38;5;28mself\u001b[39m, job_name, wait\u001b[38;5;241m=\u001b[39m\u001b[38;5;28;01mFalse\u001b[39;00m, poll\u001b[38;5;241m=\u001b[39m\u001b[38;5;241m10\u001b[39m, log_type\u001b[38;5;241m=\u001b[39m\u001b[38;5;124m\"\u001b[39m\u001b[38;5;124mAll\u001b[39m\u001b[38;5;124m\"\u001b[39m, timeout\u001b[38;5;241m=\u001b[39m\u001b[38;5;28;01mNone\u001b[39;00m):\n\u001b[1;32m   5430\u001b[0m \u001b[38;5;250m    \u001b[39m\u001b[38;5;124;03m\"\"\"Display logs for a given training job, optionally tailing them until job is complete.\u001b[39;00m\n\u001b[1;32m   5431\u001b[0m \n\u001b[1;32m   5432\u001b[0m \u001b[38;5;124;03m    If the output is a tty or a Jupyter cell, it will be color-coded\u001b[39;00m\n\u001b[0;32m   (...)\u001b[0m\n\u001b[1;32m   5448\u001b[0m \u001b[38;5;124;03m        exceptions.UnexpectedStatusException: If waiting and the training job fails.\u001b[39;00m\n\u001b[1;32m   5449\u001b[0m \u001b[38;5;124;03m    \"\"\"\u001b[39;00m\n\u001b[0;32m-> 5450\u001b[0m     \u001b[43m_logs_for_job\u001b[49m\u001b[43m(\u001b[49m\u001b[38;5;28;43mself\u001b[39;49m\u001b[38;5;241;43m.\u001b[39;49m\u001b[43mboto_session\u001b[49m\u001b[43m,\u001b[49m\u001b[43m \u001b[49m\u001b[43mjob_name\u001b[49m\u001b[43m,\u001b[49m\u001b[43m \u001b[49m\u001b[43mwait\u001b[49m\u001b[43m,\u001b[49m\u001b[43m \u001b[49m\u001b[43mpoll\u001b[49m\u001b[43m,\u001b[49m\u001b[43m \u001b[49m\u001b[43mlog_type\u001b[49m\u001b[43m,\u001b[49m\u001b[43m \u001b[49m\u001b[43mtimeout\u001b[49m\u001b[43m)\u001b[49m\n",
      "File \u001b[0;32m/opt/conda/lib/python3.8/site-packages/sagemaker/session.py:7464\u001b[0m, in \u001b[0;36m_logs_for_job\u001b[0;34m(boto_session, job_name, wait, poll, log_type, timeout)\u001b[0m\n\u001b[1;32m   7461\u001b[0m             last_profiler_rule_statuses \u001b[38;5;241m=\u001b[39m profiler_rule_statuses\n\u001b[1;32m   7463\u001b[0m \u001b[38;5;28;01mif\u001b[39;00m wait:\n\u001b[0;32m-> 7464\u001b[0m     \u001b[43m_check_job_status\u001b[49m\u001b[43m(\u001b[49m\u001b[43mjob_name\u001b[49m\u001b[43m,\u001b[49m\u001b[43m \u001b[49m\u001b[43mdescription\u001b[49m\u001b[43m,\u001b[49m\u001b[43m \u001b[49m\u001b[38;5;124;43m\"\u001b[39;49m\u001b[38;5;124;43mTrainingJobStatus\u001b[39;49m\u001b[38;5;124;43m\"\u001b[39;49m\u001b[43m)\u001b[49m\n\u001b[1;32m   7465\u001b[0m     \u001b[38;5;28;01mif\u001b[39;00m dot:\n\u001b[1;32m   7466\u001b[0m         \u001b[38;5;28mprint\u001b[39m()\n",
      "File \u001b[0;32m/opt/conda/lib/python3.8/site-packages/sagemaker/session.py:7517\u001b[0m, in \u001b[0;36m_check_job_status\u001b[0;34m(job, desc, status_key_name)\u001b[0m\n\u001b[1;32m   7511\u001b[0m \u001b[38;5;28;01mif\u001b[39;00m \u001b[38;5;124m\"\u001b[39m\u001b[38;5;124mCapacityError\u001b[39m\u001b[38;5;124m\"\u001b[39m \u001b[38;5;129;01min\u001b[39;00m \u001b[38;5;28mstr\u001b[39m(reason):\n\u001b[1;32m   7512\u001b[0m     \u001b[38;5;28;01mraise\u001b[39;00m exceptions\u001b[38;5;241m.\u001b[39mCapacityError(\n\u001b[1;32m   7513\u001b[0m         message\u001b[38;5;241m=\u001b[39mmessage,\n\u001b[1;32m   7514\u001b[0m         allowed_statuses\u001b[38;5;241m=\u001b[39m[\u001b[38;5;124m\"\u001b[39m\u001b[38;5;124mCompleted\u001b[39m\u001b[38;5;124m\"\u001b[39m, \u001b[38;5;124m\"\u001b[39m\u001b[38;5;124mStopped\u001b[39m\u001b[38;5;124m\"\u001b[39m],\n\u001b[1;32m   7515\u001b[0m         actual_status\u001b[38;5;241m=\u001b[39mstatus,\n\u001b[1;32m   7516\u001b[0m     )\n\u001b[0;32m-> 7517\u001b[0m \u001b[38;5;28;01mraise\u001b[39;00m exceptions\u001b[38;5;241m.\u001b[39mUnexpectedStatusException(\n\u001b[1;32m   7518\u001b[0m     message\u001b[38;5;241m=\u001b[39mmessage,\n\u001b[1;32m   7519\u001b[0m     allowed_statuses\u001b[38;5;241m=\u001b[39m[\u001b[38;5;124m\"\u001b[39m\u001b[38;5;124mCompleted\u001b[39m\u001b[38;5;124m\"\u001b[39m, \u001b[38;5;124m\"\u001b[39m\u001b[38;5;124mStopped\u001b[39m\u001b[38;5;124m\"\u001b[39m],\n\u001b[1;32m   7520\u001b[0m     actual_status\u001b[38;5;241m=\u001b[39mstatus,\n\u001b[1;32m   7521\u001b[0m )\n",
      "\u001b[0;31mUnexpectedStatusException\u001b[0m: Error for Training job sagemaker-xgboost-2024-03-30-20-42-29-110: Failed. Reason: AlgorithmError: framework error: \nTraceback (most recent call last):\n  File \"/miniconda3/lib/python3.7/site-packages/sagemaker_xgboost_container/algorithm_mode/train.py\", line 239, in train_job\n    feval=configured_feval, callbacks=callbacks, xgb_model=xgb_model, verbose_eval=False)\n  File \"/miniconda3/lib/python3.7/site-packages/xgboost/training.py\", line 235, in train\n    early_stopping_rounds=early_stopping_rounds)\n  File \"/miniconda3/lib/python3.7/site-packages/xgboost/training.py\", line 102, in _train_internal\n    bst.update(dtrain, i, obj)\n  File \"/miniconda3/lib/python3.7/site-packages/xgboost/core.py\", line 1282, in update\n    dtrain.handle))\n  File \"/miniconda3/lib/python3.7/site-packages/xgboost/core.py\", line 189, in _check_call\n    raise XGBoostError(py_str(_LIB.XGBGetLastError()))\nxgboost.core.XGBoostError: [20:45:03] ../src/objective/regression_obj.cu:102: label must be in [0,1] for logistic regression\nStack trace:\n  [bt] (0) /miniconda3/lib/python3.7/site-packages/xgboost/lib/libxgboost.so(+0x8"
     ]
    }
   ],
   "source": [
    "# Train the XGBoost model\n",
    "xgb_estimator.fit({'train': train_input})"
   ]
  },
  {
   "cell_type": "code",
   "execution_count": 64,
   "id": "cc73f24c-a858-4d95-a859-a59dbf6fc730",
   "metadata": {
    "tags": []
   },
   "outputs": [
    {
     "name": "stdout",
     "output_type": "stream",
     "text": [
      "Unique values in y_train: [0 1]\n",
      "Unique values in corrected y_train: [0 1]\n"
     ]
    }
   ],
   "source": [
    "import numpy as np\n",
    "\n",
    "# Check the unique values in y_train\n",
    "unique_values = np.unique(y_train)\n",
    "print(\"Unique values in y_train:\", unique_values)\n",
    "\n",
    "# If there are any values other than 0 and 1, correct them\n",
    "if not set(unique_values).issubset({0, 1}):\n",
    "    # Assuming any value greater than 0 is set to 1, and all other values to 0\n",
    "    y_train = np.where(y_train > 0, 1, 0)\n",
    "\n",
    "# Check the unique values again to ensure they are now 0 and 1\n",
    "unique_values_corrected = np.unique(y_train)\n",
    "print(\"Unique values in corrected y_train:\", unique_values_corrected)\n"
   ]
  },
  {
   "cell_type": "code",
   "execution_count": 73,
   "id": "968ff435-02d5-41c6-961e-e89f27d90e3d",
   "metadata": {
    "tags": []
   },
   "outputs": [
    {
     "name": "stdout",
     "output_type": "stream",
     "text": [
      "Unique values in y_train: [0 1]\n",
      "Labels are properly encoded as 0 and 1 for binary classification.\n"
     ]
    }
   ],
   "source": [
    "import numpy as np\n",
    "\n",
    "# Assuming y_train is a numpy array or pandas Series containing the labels\n",
    "unique_labels = np.unique(y_train)\n",
    "print(\"Unique values in y_train:\", unique_labels)\n",
    "\n",
    "# Check if the unique values contain only 0 and 1\n",
    "if set(unique_labels) == {0, 1}:\n",
    "    print(\"Labels are properly encoded as 0 and 1 for binary classification.\")\n",
    "else:\n",
    "    print(\"Labels are not properly encoded for binary classification.\")\n"
   ]
  },
  {
   "cell_type": "code",
   "execution_count": 74,
   "id": "2a018e6b-de28-4de5-8053-69d5325fc5ea",
   "metadata": {
    "tags": []
   },
   "outputs": [
    {
     "name": "stdout",
     "output_type": "stream",
     "text": [
      "Label Distribution:\n",
      "Label 0: 197880 occurrences\n",
      "Label 1: 17377 occurrences\n",
      "Labels are binary and fall within the range of [0, 1].\n"
     ]
    }
   ],
   "source": [
    "import numpy as np\n",
    "\n",
    "# Assuming y_train is a numpy array or pandas Series containing the labels\n",
    "label_distribution = np.bincount(y_train)\n",
    "num_classes = len(label_distribution)\n",
    "\n",
    "# Print label distribution\n",
    "print(\"Label Distribution:\")\n",
    "for label, count in enumerate(label_distribution):\n",
    "    print(f\"Label {label}: {count} occurrences\")\n",
    "\n",
    "# Check if the labels fall within the range of [0, 1]\n",
    "if num_classes == 2 and set(y_train) == {0, 1}:\n",
    "    print(\"Labels are binary and fall within the range of [0, 1].\")\n",
    "else:\n",
    "    print(\"Labels are not binary or do not fall within the range of [0, 1]. Preprocessing may be required.\")\n"
   ]
  },
  {
   "cell_type": "code",
   "execution_count": 76,
   "id": "95046685-6526-4623-8925-4c1c585169f6",
   "metadata": {
    "tags": []
   },
   "outputs": [
    {
     "name": "stdout",
     "output_type": "stream",
     "text": [
      "sagemaker.config INFO - Not applying SDK defaults from location: /etc/xdg/sagemaker/config.yaml\n",
      "sagemaker.config INFO - Not applying SDK defaults from location: /root/.config/sagemaker/config.yaml\n",
      "sagemaker.config INFO - Not applying SDK defaults from location: /etc/xdg/sagemaker/config.yaml\n",
      "sagemaker.config INFO - Not applying SDK defaults from location: /root/.config/sagemaker/config.yaml\n"
     ]
    },
    {
     "name": "stderr",
     "output_type": "stream",
     "text": [
      "INFO:sagemaker.image_uris:Ignoring unnecessary instance type: None.\n"
     ]
    },
    {
     "name": "stdout",
     "output_type": "stream",
     "text": [
      "sagemaker.config INFO - Not applying SDK defaults from location: /etc/xdg/sagemaker/config.yaml\n",
      "sagemaker.config INFO - Not applying SDK defaults from location: /root/.config/sagemaker/config.yaml\n"
     ]
    },
    {
     "name": "stderr",
     "output_type": "stream",
     "text": [
      "INFO:sagemaker:Creating training-job with name: sagemaker-xgboost-2024-03-30-20-55-01-458\n"
     ]
    },
    {
     "name": "stdout",
     "output_type": "stream",
     "text": [
      "2024-03-30 20:55:01 Starting - Starting the training job...\n",
      "2024-03-30 20:55:16 Starting - Preparing the instances for training...\n",
      "2024-03-30 20:55:59 Downloading - Downloading input data......\n",
      "2024-03-30 20:56:34 Downloading - Downloading the training image...\n",
      "2024-03-30 20:57:15 Training - Training image download completed. Training in progress..\u001b[34m[2024-03-30 20:57:28.548 ip-10-2-70-231.ec2.internal:7 INFO utils.py:28] RULE_JOB_STOP_SIGNAL_FILENAME: None\u001b[0m\n",
      "\u001b[34m[2024-03-30 20:57:28.579 ip-10-2-70-231.ec2.internal:7 INFO profiler_config_parser.py:111] User has disabled profiler.\u001b[0m\n",
      "\u001b[34m[2024-03-30:20:57:28:INFO] Imported framework sagemaker_xgboost_container.training\u001b[0m\n",
      "\u001b[34m[2024-03-30:20:57:28:INFO] Failed to parse hyperparameter objective value binary:logistic to Json.\u001b[0m\n",
      "\u001b[34mReturning the value itself\u001b[0m\n",
      "\u001b[34m[2024-03-30:20:57:28:INFO] No GPUs detected (normal if no gpus installed)\u001b[0m\n",
      "\u001b[34m[2024-03-30:20:57:28:INFO] Running XGBoost Sagemaker in algorithm mode\u001b[0m\n",
      "\u001b[34m[2024-03-30:20:57:28:INFO] Determined delimiter of CSV input is ','\u001b[0m\n",
      "\u001b[34m[2024-03-30:20:57:28:INFO] files path: /opt/ml/input/data/train\u001b[0m\n",
      "\u001b[34m[2024-03-30:20:57:28:INFO] Determined delimiter of CSV input is ','\u001b[0m\n",
      "\u001b[34m[2024-03-30:20:57:29:INFO] Single node training.\u001b[0m\n",
      "\u001b[34m[2024-03-30:20:57:29:INFO] Train matrix has 215258 rows and 32 columns\u001b[0m\n",
      "\u001b[34m[2024-03-30 20:57:29.082 ip-10-2-70-231.ec2.internal:7 INFO json_config.py:92] Creating hook from json_config at /opt/ml/input/config/debughookconfig.json.\u001b[0m\n",
      "\u001b[34m[2024-03-30 20:57:29.082 ip-10-2-70-231.ec2.internal:7 INFO hook.py:207] tensorboard_dir has not been set for the hook. SMDebug will not be exporting tensorboard summaries.\u001b[0m\n",
      "\u001b[34m[2024-03-30 20:57:29.083 ip-10-2-70-231.ec2.internal:7 INFO hook.py:259] Saving to /opt/ml/output/tensors\u001b[0m\n",
      "\u001b[34m[2024-03-30 20:57:29.084 ip-10-2-70-231.ec2.internal:7 INFO state_store.py:77] The checkpoint config file /opt/ml/input/config/checkpointconfig.json does not exist.\u001b[0m\n",
      "\u001b[34m[2024-03-30:20:57:29:INFO] Debug hook created from config\u001b[0m\n",
      "\u001b[34m[2024-03-30:20:57:29:ERROR] Reporting training FAILURE\u001b[0m\n",
      "\u001b[34m[2024-03-30:20:57:29:ERROR] framework error: \u001b[0m\n",
      "\u001b[34mTraceback (most recent call last):\n",
      "  File \"/miniconda3/lib/python3.7/site-packages/sagemaker_xgboost_container/algorithm_mode/train.py\", line 239, in train_job\n",
      "    feval=configured_feval, callbacks=callbacks, xgb_model=xgb_model, verbose_eval=False)\n",
      "  File \"/miniconda3/lib/python3.7/site-packages/xgboost/training.py\", line 235, in train\n",
      "    early_stopping_rounds=early_stopping_rounds)\n",
      "  File \"/miniconda3/lib/python3.7/site-packages/xgboost/training.py\", line 102, in _train_internal\n",
      "    bst.update(dtrain, i, obj)\n",
      "  File \"/miniconda3/lib/python3.7/site-packages/xgboost/core.py\", line 1282, in update\n",
      "    dtrain.handle))\n",
      "  File \"/miniconda3/lib/python3.7/site-packages/xgboost/core.py\", line 189, in _check_call\n",
      "    raise XGBoostError(py_str(_LIB.XGBGetLastError()))\u001b[0m\n",
      "\u001b[34mxgboost.core.XGBoostError: [20:57:29] ../src/objective/regression_obj.cu:102: label must be in [0,1] for logistic regression\u001b[0m\n",
      "\u001b[34mStack trace:\n",
      "  [bt] (0) /miniconda3/lib/python3.7/site-packages/xgboost/lib/libxgboost.so(+0x8d264) [0x7fab454b8264]\n",
      "  [bt] (1) /miniconda3/lib/python3.7/site-packages/xgboost/lib/libxgboost.so(+0x424b44) [0x7fab4584fb44]\n",
      "  [bt] (2) /miniconda3/lib/python3.7/site-packages/xgboost/lib/libxgboost.so(+0x1a2cef) [0x7fab455cdcef]\n",
      "  [bt] (3) /miniconda3/lib/python3.7/site-packages/xgboost/lib/libxgboost.so(XGBoosterUpdateOneIter+0x58) [0x7fab454ab0c8]\n",
      "  [bt] (4) /miniconda3/lib/python3.7/lib-dynload/../../libffi.so.7(+0x69dd) [0x7fab825749dd]\n",
      "  [bt] (5) /miniconda3/lib/python3.7/lib-dynload/../../libffi.so.7(+0x6067) [0x7fab82574067]\n",
      "  [bt] (6) /miniconda3/lib/python3.7/lib-dynload/_ctypes.cpython-37m-x86_64-linux-gnu.so(_ctypes_callproc+0x2e7) [0x7fab8258c3b7]\n",
      "  [bt] (7) /miniconda3/lib/python3.7/lib-dynload/_ctypes.cpython-37m-x86_64-linux-gnu.so(+0x12e24) [0x7fab8258ce24]\n",
      "  [bt] (8) /miniconda3/bin/python3(_PyObject_FastCallKeywords+0x48b) [0x56485476ac9b]\u001b[0m\n",
      "\u001b[34mDuring handling of the above exception, another exception occurred:\u001b[0m\n",
      "\u001b[34mTraceback (most recent call last):\n",
      "  File \"/miniconda3/lib/python3.7/site-packages/sagemaker_containers/_trainer.py\", line 84, in train\n",
      "    entrypoint()\n",
      "  File \"/miniconda3/lib/python3.7/site-packages/sagemaker_xgboost_container/training.py\", line 93, in main\n",
      "    train(framework.training_env())\n",
      "  File \"/miniconda3/lib/python3.7/site-packages/sagemaker_xgboost_container/training.py\", line 89, in train\n",
      "    run_algorithm_mode()\n",
      "  File \"/miniconda3/lib/python3.7/site-packages/sagemaker_xgboost_container/training.py\", line 67, in run_algorithm_mode\n",
      "    checkpoint_config=checkpoint_config\n",
      "  File \"/miniconda3/lib/python3.7/site-packages/sagemaker_xgboost_container/algorithm_mode/train.py\", line 178, in sagemaker_train\n",
      "    train_job(**train_args)\n",
      "  File \"/miniconda3/lib/python3.7/site-packages/sagemaker_xgboost_container/algorithm_mode/train.py\", line 301, in train_job\n",
      "    raise exc.UserError(str(e))\u001b[0m\n",
      "\u001b[34msagemaker_algorithm_toolkit.exceptions.UserError: [20:57:29] ../src/objective/regression_obj.cu:102: label must be in [0,1] for logistic regression\u001b[0m\n",
      "\u001b[34mStack trace:\n",
      "  [bt] (0) /miniconda3/lib/python3.7/site-packages/xgboost/lib/libxgboost.so(+0x8d264) [0x7fab454b8264]\n",
      "  [bt] (1) /miniconda3/lib/python3.7/site-packages/xgboost/lib/libxgboost.so(+0x424b44) [0x7fab4584fb44]\n",
      "  [bt] (2) /miniconda3/lib/python3.7/site-packages/xgboost/lib/libxgboost.so(+0x1a2cef) [0x7fab455cdcef]\n",
      "  [bt] (3) /miniconda3/lib/python3.7/site-packages/xgboost/lib/libxgboost.so(XGBoosterUpdateOneIter+0x58) [0x7fab454ab0c8]\n",
      "  [bt] (4) /miniconda3/lib/python3.7/lib-dynload/../../libffi.so.7(+0x69dd) [0x7fab825749dd]\n",
      "  [bt] (5) /miniconda3/lib/python3.7/lib-dynload/../../libffi.so.7(+0x6067) [0x7fab82574067]\n",
      "  [bt] (6) /miniconda3/lib/python3.7/lib-dynload/_ctypes.cpython-37m-x86_64-linux-gnu.so(_ctypes_callproc+0x2e7) [0x7fab8258c3b7]\n",
      "  [bt] (7) /miniconda3/lib/python3.7/lib-dynload/_ctypes.cpython-37m-x86_64-linux-gnu.so(+0x12e24) [0x7fab8258ce24]\n",
      "  [bt] (8) /miniconda3/bin/python3(_PyObject_FastCallKeywords+0x48b) [0x56485476ac9b]\u001b[0m\n",
      "\u001b[34m[20:57:29] ../src/objective/regression_obj.cu:102: label must be in [0,1] for logistic regression\u001b[0m\n",
      "\u001b[34mStack trace:\n",
      "  [bt] (0) /miniconda3/lib/python3.7/site-packages/xgboost/lib/libxgboost.so(+0x8d264) [0x7fab454b8264]\n",
      "  [bt] (1) /miniconda3/lib/python3.7/site-packages/xgboost/lib/libxgboost.so(+0x424b44) [0x7fab4584fb44]\n",
      "  [bt] (2) /miniconda3/lib/python3.7/site-packages/xgboost/lib/libxgboost.so(+0x1a2cef) [0x7fab455cdcef]\n",
      "  [bt] (3) /miniconda3/lib/python3.7/site-packages/xgboost/lib/libxgboost.so(XGBoosterUpdateOneIter+0x58) [0x7fab454ab0c8]\n",
      "  [bt] (4) /miniconda3/lib/python3.7/lib-dynload/../../libffi.so.7(+0x69dd) [0x7fab825749dd]\n",
      "  [bt] (5) /miniconda3/lib/python3.7/lib-dynload/../../libffi.so.7(+0x6067) [0x7fab82574067]\n",
      "  [bt] (6) /miniconda3/lib/python3.7/lib-dynload/_ctypes.cpython-37m-x86_64-linux-gnu.so(_ctypes_callproc+0x2e7) [0x7fab8258c3b7]\n",
      "  [bt] (7) /miniconda3/lib/python3.7/lib-dynload/_ctypes.cpython-37m-x86_64-linux-gnu.so(+0x12e24) [0x7fab8258ce24]\n",
      "  [bt] (8) /miniconda3/bin/python3(_PyObject_FastCallKeywords+0x48b) [0x56485476ac9b]\u001b[0m\n",
      "\n",
      "2024-03-30 20:57:42 Uploading - Uploading generated training model\n",
      "2024-03-30 20:57:42 Failed - Training job failed\n"
     ]
    },
    {
     "ename": "UnexpectedStatusException",
     "evalue": "Error for Training job sagemaker-xgboost-2024-03-30-20-55-01-458: Failed. Reason: AlgorithmError: framework error: \nTraceback (most recent call last):\n  File \"/miniconda3/lib/python3.7/site-packages/sagemaker_xgboost_container/algorithm_mode/train.py\", line 239, in train_job\n    feval=configured_feval, callbacks=callbacks, xgb_model=xgb_model, verbose_eval=False)\n  File \"/miniconda3/lib/python3.7/site-packages/xgboost/training.py\", line 235, in train\n    early_stopping_rounds=early_stopping_rounds)\n  File \"/miniconda3/lib/python3.7/site-packages/xgboost/training.py\", line 102, in _train_internal\n    bst.update(dtrain, i, obj)\n  File \"/miniconda3/lib/python3.7/site-packages/xgboost/core.py\", line 1282, in update\n    dtrain.handle))\n  File \"/miniconda3/lib/python3.7/site-packages/xgboost/core.py\", line 189, in _check_call\n    raise XGBoostError(py_str(_LIB.XGBGetLastError()))\nxgboost.core.XGBoostError: [20:57:29] ../src/objective/regression_obj.cu:102: label must be in [0,1] for logistic regression\nStack trace:\n  [bt] (0) /miniconda3/lib/python3.7/site-packages/xgboost/lib/libxgboost.so(+0x8",
     "output_type": "error",
     "traceback": [
      "\u001b[0;31m---------------------------------------------------------------------------\u001b[0m",
      "\u001b[0;31mUnexpectedStatusException\u001b[0m                 Traceback (most recent call last)",
      "Cell \u001b[0;32mIn[76], line 37\u001b[0m\n\u001b[1;32m     34\u001b[0m train_input \u001b[38;5;241m=\u001b[39m TrainingInput(s3_data\u001b[38;5;241m=\u001b[39m\u001b[38;5;124mf\u001b[39m\u001b[38;5;124m'\u001b[39m\u001b[38;5;124ms3://sagemaker-us-east-1-339713065136/team-project/X_train/X_train_df.csv\u001b[39m\u001b[38;5;124m'\u001b[39m, content_type\u001b[38;5;241m=\u001b[39m\u001b[38;5;124m'\u001b[39m\u001b[38;5;124mcsv\u001b[39m\u001b[38;5;124m'\u001b[39m)\n\u001b[1;32m     36\u001b[0m \u001b[38;5;66;03m# Train the XGBoost model\u001b[39;00m\n\u001b[0;32m---> 37\u001b[0m \u001b[43mxgb_estimator\u001b[49m\u001b[38;5;241;43m.\u001b[39;49m\u001b[43mfit\u001b[49m\u001b[43m(\u001b[49m\u001b[43m{\u001b[49m\u001b[38;5;124;43m'\u001b[39;49m\u001b[38;5;124;43mtrain\u001b[39;49m\u001b[38;5;124;43m'\u001b[39;49m\u001b[43m:\u001b[49m\u001b[43m \u001b[49m\u001b[43mtrain_input\u001b[49m\u001b[43m}\u001b[49m\u001b[43m)\u001b[49m\n",
      "File \u001b[0;32m/opt/conda/lib/python3.8/site-packages/sagemaker/workflow/pipeline_context.py:346\u001b[0m, in \u001b[0;36mrunnable_by_pipeline.<locals>.wrapper\u001b[0;34m(*args, **kwargs)\u001b[0m\n\u001b[1;32m    342\u001b[0m         \u001b[38;5;28;01mreturn\u001b[39;00m context\n\u001b[1;32m    344\u001b[0m     \u001b[38;5;28;01mreturn\u001b[39;00m _StepArguments(retrieve_caller_name(self_instance), run_func, \u001b[38;5;241m*\u001b[39margs, \u001b[38;5;241m*\u001b[39m\u001b[38;5;241m*\u001b[39mkwargs)\n\u001b[0;32m--> 346\u001b[0m \u001b[38;5;28;01mreturn\u001b[39;00m \u001b[43mrun_func\u001b[49m\u001b[43m(\u001b[49m\u001b[38;5;241;43m*\u001b[39;49m\u001b[43margs\u001b[49m\u001b[43m,\u001b[49m\u001b[43m \u001b[49m\u001b[38;5;241;43m*\u001b[39;49m\u001b[38;5;241;43m*\u001b[39;49m\u001b[43mkwargs\u001b[49m\u001b[43m)\u001b[49m\n",
      "File \u001b[0;32m/opt/conda/lib/python3.8/site-packages/sagemaker/estimator.py:1322\u001b[0m, in \u001b[0;36mEstimatorBase.fit\u001b[0;34m(self, inputs, wait, logs, job_name, experiment_config)\u001b[0m\n\u001b[1;32m   1320\u001b[0m \u001b[38;5;28mself\u001b[39m\u001b[38;5;241m.\u001b[39mjobs\u001b[38;5;241m.\u001b[39mappend(\u001b[38;5;28mself\u001b[39m\u001b[38;5;241m.\u001b[39mlatest_training_job)\n\u001b[1;32m   1321\u001b[0m \u001b[38;5;28;01mif\u001b[39;00m wait:\n\u001b[0;32m-> 1322\u001b[0m     \u001b[38;5;28;43mself\u001b[39;49m\u001b[38;5;241;43m.\u001b[39;49m\u001b[43mlatest_training_job\u001b[49m\u001b[38;5;241;43m.\u001b[39;49m\u001b[43mwait\u001b[49m\u001b[43m(\u001b[49m\u001b[43mlogs\u001b[49m\u001b[38;5;241;43m=\u001b[39;49m\u001b[43mlogs\u001b[49m\u001b[43m)\u001b[49m\n",
      "File \u001b[0;32m/opt/conda/lib/python3.8/site-packages/sagemaker/estimator.py:2605\u001b[0m, in \u001b[0;36m_TrainingJob.wait\u001b[0;34m(self, logs)\u001b[0m\n\u001b[1;32m   2603\u001b[0m \u001b[38;5;66;03m# If logs are requested, call logs_for_jobs.\u001b[39;00m\n\u001b[1;32m   2604\u001b[0m \u001b[38;5;28;01mif\u001b[39;00m logs \u001b[38;5;241m!=\u001b[39m \u001b[38;5;124m\"\u001b[39m\u001b[38;5;124mNone\u001b[39m\u001b[38;5;124m\"\u001b[39m:\n\u001b[0;32m-> 2605\u001b[0m     \u001b[38;5;28;43mself\u001b[39;49m\u001b[38;5;241;43m.\u001b[39;49m\u001b[43msagemaker_session\u001b[49m\u001b[38;5;241;43m.\u001b[39;49m\u001b[43mlogs_for_job\u001b[49m\u001b[43m(\u001b[49m\u001b[38;5;28;43mself\u001b[39;49m\u001b[38;5;241;43m.\u001b[39;49m\u001b[43mjob_name\u001b[49m\u001b[43m,\u001b[49m\u001b[43m \u001b[49m\u001b[43mwait\u001b[49m\u001b[38;5;241;43m=\u001b[39;49m\u001b[38;5;28;43;01mTrue\u001b[39;49;00m\u001b[43m,\u001b[49m\u001b[43m \u001b[49m\u001b[43mlog_type\u001b[49m\u001b[38;5;241;43m=\u001b[39;49m\u001b[43mlogs\u001b[49m\u001b[43m)\u001b[49m\n\u001b[1;32m   2606\u001b[0m \u001b[38;5;28;01melse\u001b[39;00m:\n\u001b[1;32m   2607\u001b[0m     \u001b[38;5;28mself\u001b[39m\u001b[38;5;241m.\u001b[39msagemaker_session\u001b[38;5;241m.\u001b[39mwait_for_job(\u001b[38;5;28mself\u001b[39m\u001b[38;5;241m.\u001b[39mjob_name)\n",
      "File \u001b[0;32m/opt/conda/lib/python3.8/site-packages/sagemaker/session.py:5450\u001b[0m, in \u001b[0;36mSession.logs_for_job\u001b[0;34m(self, job_name, wait, poll, log_type, timeout)\u001b[0m\n\u001b[1;32m   5429\u001b[0m \u001b[38;5;28;01mdef\u001b[39;00m \u001b[38;5;21mlogs_for_job\u001b[39m(\u001b[38;5;28mself\u001b[39m, job_name, wait\u001b[38;5;241m=\u001b[39m\u001b[38;5;28;01mFalse\u001b[39;00m, poll\u001b[38;5;241m=\u001b[39m\u001b[38;5;241m10\u001b[39m, log_type\u001b[38;5;241m=\u001b[39m\u001b[38;5;124m\"\u001b[39m\u001b[38;5;124mAll\u001b[39m\u001b[38;5;124m\"\u001b[39m, timeout\u001b[38;5;241m=\u001b[39m\u001b[38;5;28;01mNone\u001b[39;00m):\n\u001b[1;32m   5430\u001b[0m \u001b[38;5;250m    \u001b[39m\u001b[38;5;124;03m\"\"\"Display logs for a given training job, optionally tailing them until job is complete.\u001b[39;00m\n\u001b[1;32m   5431\u001b[0m \n\u001b[1;32m   5432\u001b[0m \u001b[38;5;124;03m    If the output is a tty or a Jupyter cell, it will be color-coded\u001b[39;00m\n\u001b[0;32m   (...)\u001b[0m\n\u001b[1;32m   5448\u001b[0m \u001b[38;5;124;03m        exceptions.UnexpectedStatusException: If waiting and the training job fails.\u001b[39;00m\n\u001b[1;32m   5449\u001b[0m \u001b[38;5;124;03m    \"\"\"\u001b[39;00m\n\u001b[0;32m-> 5450\u001b[0m     \u001b[43m_logs_for_job\u001b[49m\u001b[43m(\u001b[49m\u001b[38;5;28;43mself\u001b[39;49m\u001b[38;5;241;43m.\u001b[39;49m\u001b[43mboto_session\u001b[49m\u001b[43m,\u001b[49m\u001b[43m \u001b[49m\u001b[43mjob_name\u001b[49m\u001b[43m,\u001b[49m\u001b[43m \u001b[49m\u001b[43mwait\u001b[49m\u001b[43m,\u001b[49m\u001b[43m \u001b[49m\u001b[43mpoll\u001b[49m\u001b[43m,\u001b[49m\u001b[43m \u001b[49m\u001b[43mlog_type\u001b[49m\u001b[43m,\u001b[49m\u001b[43m \u001b[49m\u001b[43mtimeout\u001b[49m\u001b[43m)\u001b[49m\n",
      "File \u001b[0;32m/opt/conda/lib/python3.8/site-packages/sagemaker/session.py:7464\u001b[0m, in \u001b[0;36m_logs_for_job\u001b[0;34m(boto_session, job_name, wait, poll, log_type, timeout)\u001b[0m\n\u001b[1;32m   7461\u001b[0m             last_profiler_rule_statuses \u001b[38;5;241m=\u001b[39m profiler_rule_statuses\n\u001b[1;32m   7463\u001b[0m \u001b[38;5;28;01mif\u001b[39;00m wait:\n\u001b[0;32m-> 7464\u001b[0m     \u001b[43m_check_job_status\u001b[49m\u001b[43m(\u001b[49m\u001b[43mjob_name\u001b[49m\u001b[43m,\u001b[49m\u001b[43m \u001b[49m\u001b[43mdescription\u001b[49m\u001b[43m,\u001b[49m\u001b[43m \u001b[49m\u001b[38;5;124;43m\"\u001b[39;49m\u001b[38;5;124;43mTrainingJobStatus\u001b[39;49m\u001b[38;5;124;43m\"\u001b[39;49m\u001b[43m)\u001b[49m\n\u001b[1;32m   7465\u001b[0m     \u001b[38;5;28;01mif\u001b[39;00m dot:\n\u001b[1;32m   7466\u001b[0m         \u001b[38;5;28mprint\u001b[39m()\n",
      "File \u001b[0;32m/opt/conda/lib/python3.8/site-packages/sagemaker/session.py:7517\u001b[0m, in \u001b[0;36m_check_job_status\u001b[0;34m(job, desc, status_key_name)\u001b[0m\n\u001b[1;32m   7511\u001b[0m \u001b[38;5;28;01mif\u001b[39;00m \u001b[38;5;124m\"\u001b[39m\u001b[38;5;124mCapacityError\u001b[39m\u001b[38;5;124m\"\u001b[39m \u001b[38;5;129;01min\u001b[39;00m \u001b[38;5;28mstr\u001b[39m(reason):\n\u001b[1;32m   7512\u001b[0m     \u001b[38;5;28;01mraise\u001b[39;00m exceptions\u001b[38;5;241m.\u001b[39mCapacityError(\n\u001b[1;32m   7513\u001b[0m         message\u001b[38;5;241m=\u001b[39mmessage,\n\u001b[1;32m   7514\u001b[0m         allowed_statuses\u001b[38;5;241m=\u001b[39m[\u001b[38;5;124m\"\u001b[39m\u001b[38;5;124mCompleted\u001b[39m\u001b[38;5;124m\"\u001b[39m, \u001b[38;5;124m\"\u001b[39m\u001b[38;5;124mStopped\u001b[39m\u001b[38;5;124m\"\u001b[39m],\n\u001b[1;32m   7515\u001b[0m         actual_status\u001b[38;5;241m=\u001b[39mstatus,\n\u001b[1;32m   7516\u001b[0m     )\n\u001b[0;32m-> 7517\u001b[0m \u001b[38;5;28;01mraise\u001b[39;00m exceptions\u001b[38;5;241m.\u001b[39mUnexpectedStatusException(\n\u001b[1;32m   7518\u001b[0m     message\u001b[38;5;241m=\u001b[39mmessage,\n\u001b[1;32m   7519\u001b[0m     allowed_statuses\u001b[38;5;241m=\u001b[39m[\u001b[38;5;124m\"\u001b[39m\u001b[38;5;124mCompleted\u001b[39m\u001b[38;5;124m\"\u001b[39m, \u001b[38;5;124m\"\u001b[39m\u001b[38;5;124mStopped\u001b[39m\u001b[38;5;124m\"\u001b[39m],\n\u001b[1;32m   7520\u001b[0m     actual_status\u001b[38;5;241m=\u001b[39mstatus,\n\u001b[1;32m   7521\u001b[0m )\n",
      "\u001b[0;31mUnexpectedStatusException\u001b[0m: Error for Training job sagemaker-xgboost-2024-03-30-20-55-01-458: Failed. Reason: AlgorithmError: framework error: \nTraceback (most recent call last):\n  File \"/miniconda3/lib/python3.7/site-packages/sagemaker_xgboost_container/algorithm_mode/train.py\", line 239, in train_job\n    feval=configured_feval, callbacks=callbacks, xgb_model=xgb_model, verbose_eval=False)\n  File \"/miniconda3/lib/python3.7/site-packages/xgboost/training.py\", line 235, in train\n    early_stopping_rounds=early_stopping_rounds)\n  File \"/miniconda3/lib/python3.7/site-packages/xgboost/training.py\", line 102, in _train_internal\n    bst.update(dtrain, i, obj)\n  File \"/miniconda3/lib/python3.7/site-packages/xgboost/core.py\", line 1282, in update\n    dtrain.handle))\n  File \"/miniconda3/lib/python3.7/site-packages/xgboost/core.py\", line 189, in _check_call\n    raise XGBoostError(py_str(_LIB.XGBGetLastError()))\nxgboost.core.XGBoostError: [20:57:29] ../src/objective/regression_obj.cu:102: label must be in [0,1] for logistic regression\nStack trace:\n  [bt] (0) /miniconda3/lib/python3.7/site-packages/xgboost/lib/libxgboost.so(+0x8"
     ]
    }
   ],
   "source": [
    "import sagemaker\n",
    "from sagemaker import get_execution_role\n",
    "from sagemaker.inputs import TrainingInput\n",
    "from sagemaker.image_uris import retrieve\n",
    "\n",
    "# Define IAM role\n",
    "role = get_execution_role()\n",
    "\n",
    "# Specify bucket and prefix for storing training data and model artifacts\n",
    "bucket = 'sagemaker-us-east-1-339713065136'\n",
    "prefix = 'sagemaker-us-east-1-339713065136/team-project'\n",
    "\n",
    "# Create an instance of the XGBoost estimator\n",
    "container = retrieve(region=sagemaker.Session().boto_region_name, framework='xgboost', version='1.3-1')\n",
    "xgb_estimator = sagemaker.estimator.Estimator(container,\n",
    "                                              role,\n",
    "                                              instance_count=1,\n",
    "                                              instance_type='ml.m4.xlarge',\n",
    "                                              output_path=f's3://{bucket}/{prefix}/output')\n",
    "\n",
    "# Set hyperparameters for XGBoost model\n",
    "hyperparameters = {\n",
    "    'max_depth': '5',\n",
    "    'eta': '0.1',\n",
    "    'gamma': '1',\n",
    "    'min_child_weight': '1',\n",
    "    'subsample': '0.8',\n",
    "    'objective': 'binary:logistic',\n",
    "    'num_round': '100'\n",
    "}\n",
    "xgb_estimator.set_hyperparameters(**hyperparameters)\n",
    "\n",
    "# Specify the data location in S3\n",
    "train_input = TrainingInput(s3_data=f's3://sagemaker-us-east-1-339713065136/team-project/X_train/X_train_df.csv', content_type='csv')\n",
    "\n",
    "# Train the XGBoost model\n",
    "xgb_estimator.fit({'train': train_input})\n"
   ]
  },
  {
   "cell_type": "markdown",
   "id": "f8179076-5724-4732-9ed7-49c727b01f27",
   "metadata": {},
   "source": [
    "## XGBOOST ALGORITHM"
   ]
  },
  {
   "cell_type": "code",
   "execution_count": 67,
   "id": "4b21eb4a-f490-4629-a8f8-e511708833e5",
   "metadata": {
    "tags": []
   },
   "outputs": [
    {
     "name": "stdout",
     "output_type": "stream",
     "text": [
      "Collecting xgboost\n",
      "  Using cached xgboost-2.0.3-py3-none-manylinux2014_x86_64.whl.metadata (2.0 kB)\n",
      "Requirement already satisfied: numpy in /opt/conda/lib/python3.8/site-packages (from xgboost) (1.24.4)\n",
      "Requirement already satisfied: scipy in /opt/conda/lib/python3.8/site-packages (from xgboost) (1.10.1)\n",
      "Using cached xgboost-2.0.3-py3-none-manylinux2014_x86_64.whl (297.1 MB)\n",
      "\u001b[33mDEPRECATION: pyodbc 4.0.0-unsupported has a non-standard version number. pip 24.0 will enforce this behaviour change. A possible replacement is to upgrade to a newer version of pyodbc or contact the author to suggest that they release a version with a conforming version number. Discussion can be found at https://github.com/pypa/pip/issues/12063\u001b[0m\u001b[33m\n",
      "\u001b[0mInstalling collected packages: xgboost\n",
      "Successfully installed xgboost-2.0.3\n",
      "\u001b[33mWARNING: Running pip as the 'root' user can result in broken permissions and conflicting behaviour with the system package manager. It is recommended to use a virtual environment instead: https://pip.pypa.io/warnings/venv\u001b[0m\u001b[33m\n",
      "\u001b[0m\n",
      "\u001b[1m[\u001b[0m\u001b[34;49mnotice\u001b[0m\u001b[1;39;49m]\u001b[0m\u001b[39;49m A new release of pip is available: \u001b[0m\u001b[31;49m23.3.1\u001b[0m\u001b[39;49m -> \u001b[0m\u001b[32;49m24.0\u001b[0m\n",
      "\u001b[1m[\u001b[0m\u001b[34;49mnotice\u001b[0m\u001b[1;39;49m]\u001b[0m\u001b[39;49m To update, run: \u001b[0m\u001b[32;49mpip install --upgrade pip\u001b[0m\n"
     ]
    }
   ],
   "source": [
    "!pip install xgboost"
   ]
  },
  {
   "cell_type": "code",
   "execution_count": 68,
   "id": "98fd98d3-4d6b-4c87-a4bd-b1fec1fd6174",
   "metadata": {
    "tags": []
   },
   "outputs": [
    {
     "name": "stdout",
     "output_type": "stream",
     "text": [
      "Accuracy: 0.9193205714657359\n",
      "Classification Report:\n",
      "              precision    recall  f1-score   support\n",
      "\n",
      "           0       0.92      1.00      0.96     84806\n",
      "           1       0.63      0.00      0.00      7448\n",
      "\n",
      "    accuracy                           0.92     92254\n",
      "   macro avg       0.78      0.50      0.48     92254\n",
      "weighted avg       0.90      0.92      0.88     92254\n",
      "\n"
     ]
    }
   ],
   "source": [
    "import xgboost as xgb\n",
    "from sklearn.metrics import accuracy_score, classification_report\n",
    "\n",
    "# Defining the XGBoost model\n",
    "# Setting up Hyperparameters manually.\n",
    "model = xgb.XGBClassifier(\n",
    "    max_depth=5,\n",
    "    learning_rate=0.1,\n",
    "    n_estimators=100,\n",
    "    objective='binary:logistic',\n",
    "    subsample=0.8,\n",
    "    colsample_bytree=0.8,\n",
    "    seed=42\n",
    ")\n",
    "\n",
    "# Training the model\n",
    "model.fit(X_train_imputed_df, y_train)\n",
    "\n",
    "# predicting the target values\n",
    "y_pred_xg = model.predict(X_test_imputed_df)\n",
    "\n",
    "# Calculating the accuracy\n",
    "accuracy = accuracy_score(y_test, y_pred_xg)\n",
    "print(\"Accuracy:\", accuracy)\n",
    "\n",
    "# Generating the classification report\n",
    "print(\"Classification Report:\")\n",
    "print(classification_report(y_test, y_pred_xg))\n"
   ]
  },
  {
   "cell_type": "markdown",
   "id": "03a80858-1dd0-4973-9b5e-ddcfadfd776b",
   "metadata": {},
   "source": [
    "## XGBOOST MODEL WITH ADJUSTED HYPERPARAMETERES"
   ]
  },
  {
   "cell_type": "code",
   "execution_count": 85,
   "id": "e5e52ebd-fb8a-4a3d-9263-202f68d21841",
   "metadata": {
    "tags": []
   },
   "outputs": [
    {
     "name": "stdout",
     "output_type": "stream",
     "text": [
      "Accuracy: 0.9193422507425152\n",
      "Classification Report:\n",
      "              precision    recall  f1-score   support\n",
      "\n",
      "           0       0.92      1.00      0.96     84806\n",
      "           1       0.71      0.00      0.00      7448\n",
      "\n",
      "    accuracy                           0.92     92254\n",
      "   macro avg       0.81      0.50      0.48     92254\n",
      "weighted avg       0.90      0.92      0.88     92254\n",
      "\n"
     ]
    }
   ],
   "source": [
    "import xgboost as xgb\n",
    "from sklearn.metrics import accuracy_score, classification_report\n",
    "\n",
    "# Defining the XGBoost model\n",
    "# Adjsuting Hyperparameters manually.\n",
    "# We increased min_child_weight to help avoid overfitting to minority class.\n",
    "# We slighlty decreased subsample and colsample_bytree to reduce overfitting to the majority class.\n",
    "# We lowered learning rate and increased the number of estimators to enhance model learning.\n",
    "# We introduced gamma to improve the performance.\n",
    "model = xgb.XGBClassifier(\n",
    "    max_depth=5,\n",
    "    learning_rate=0.05,  \n",
    "    n_estimators=200,    \n",
    "    objective='binary:logistic',\n",
    "    subsample=0.7,       \n",
    "    colsample_bytree=0.7,  \n",
    "    min_child_weight=5,  \n",
    "    gamma=0.1,            #\n",
    "    seed=42\n",
    ")\n",
    "\n",
    "# Training the model\n",
    "model.fit(X_train_imputed_df, y_train)\n",
    "\n",
    "# predicting the target values\n",
    "y_pred_xg1 = model.predict(X_test_imputed_df)\n",
    "\n",
    "# Calculating the accuracy\n",
    "accuracy = accuracy_score(y_test, y_pred_xg1)\n",
    "print(\"Accuracy:\", accuracy)\n",
    "\n",
    "# Generating the classification report\n",
    "print(\"Classification Report:\")\n",
    "print(classification_report(y_test, y_pred_xg1))\n"
   ]
  },
  {
   "cell_type": "code",
   "execution_count": 86,
   "id": "24825891-8121-4a82-a7a8-4e5b1e60d708",
   "metadata": {},
   "outputs": [
    {
     "data": {
      "image/png": "[encoded data removed]",
      "text/plain": [
       "<Figure size 576x432 with 2 Axes>"
      ]
     },
     "metadata": {
      "needs_background": "light"
     },
     "output_type": "display_data"
    }
   ],
   "source": [
    "from sklearn.metrics import confusion_matrix\n",
    "import seaborn as sns\n",
    "import matplotlib.pyplot as plt\n",
    "\n",
    "# Calculating confusion matrix\n",
    "conf_matrix = confusion_matrix(y_test, y_pred_xg1)\n",
    "\n",
    "# Ploting confusion matrix\n",
    "plt.figure(figsize=(8, 6))\n",
    "sns.heatmap(conf_matrix, annot=True, fmt=\"d\", cmap=\"Blues\")\n",
    "plt.xlabel(\"Predicted labels\")\n",
    "plt.ylabel(\"True labels\")\n",
    "plt.title(\"Confusion Matrix for xgboost\")\n",
    "plt.show()"
   ]
  },
  {
   "cell_type": "code",
   "execution_count": 87,
   "id": "6246025e-9810-4ac8-8cc8-31656705c46a",
   "metadata": {
    "tags": []
   },
   "outputs": [
    {
     "name": "stdout",
     "output_type": "stream",
     "text": [
      "XGBoost ROC AUC: 0.7069312154805434\n"
     ]
    },
    {
     "data": {
      "image/png": "[encoded data removed]",
      "text/plain": [
       "<Figure size 576x432 with 1 Axes>"
      ]
     },
     "metadata": {
      "needs_background": "light"
     },
     "output_type": "display_data"
    }
   ],
   "source": [
    "from sklearn.metrics import roc_auc_score, roc_curve\n",
    "\n",
    "# Predicting probabilities \n",
    "y_pred_proba_xg = model.predict_proba(X_test_imputed_df)[:, 1]\n",
    "\n",
    "# Computing ROC AUC score\n",
    "roc_auc_xg = roc_auc_score(y_test, y_pred_proba_xg)\n",
    "print(\"XGBoost ROC AUC:\", roc_auc_xg)\n",
    "\n",
    "# Ploting ROC curve\n",
    "fpr_xg, tpr_xg, _ = roc_curve(y_test, y_pred_proba_xg)\n",
    "plt.figure(figsize=(8, 6))\n",
    "plt.plot(fpr_xg, tpr_xg, color='green', lw=2, label='XGBoost ROC curve (AUC = %0.2f)' % roc_auc_xg)\n",
    "plt.plot([0, 1], [0, 1], color='navy', lw=2, linestyle='--')\n",
    "plt.xlabel('False Positive Rate')\n",
    "plt.ylabel('True Positive Rate')\n",
    "plt.title('Receiver Operating Characteristic (ROC) Curve - XGBoost Classifier')\n",
    "plt.legend(loc='lower right')\n",
    "plt.show()\n"
   ]
  },
  {
   "cell_type": "markdown",
   "id": "d9e6540b-4bc3-4c95-b533-d55fa1b778f7",
   "metadata": {},
   "source": [
    "## ROC AUC DIAGRAMS COMPARISION OF ALL MODELS:"
   ]
  },
  {
   "cell_type": "code",
   "execution_count": 89,
   "id": "e51818f1-e4d8-4071-97e1-7d4ac5cab445",
   "metadata": {
    "tags": []
   },
   "outputs": [
    {
     "data": {
      "image/png": "[encoded data removed]",
      "text/plain": [
       "<Figure size 720x576 with 1 Axes>"
      ]
     },
     "metadata": {
      "needs_background": "light"
     },
     "output_type": "display_data"
    }
   ],
   "source": [
    "plt.figure(figsize=(10, 8))\n",
    "\n",
    "# From Random Forest ROC curve\n",
    "plt.plot(fpr_rf, tpr_rf, color='orange', lw=2, label='Random Forest (AUC = %0.2f)' % roc_auc_rf)\n",
    "\n",
    "# From Logistic Regression ROC curve\n",
    "plt.plot(fpr_logreg, tpr_logreg, color='green', lw=2, label='Logistic Regression (AUC = %0.2f)' % roc_auc_logreg)\n",
    "\n",
    "# From Gradient Boosting ROC curve\n",
    "plt.plot(fpr_gb, tpr_gb, color='blue', lw=2, label='Gradient Boosting (AUC = %0.2f)' % roc_auc_gb)\n",
    "\n",
    "# From XGBoost ROC curve\n",
    "plt.plot(fpr_xg, tpr_xg, color='red', lw=2, label='XGBoost (AUC = %0.2f)' % roc_auc_xg)\n",
    "\n",
    "# From the diagonal line (random classifier)\n",
    "plt.plot([0, 1], [0, 1], color='navy', lw=2, linestyle='--')\n",
    "\n",
    "# Plot labels and title\n",
    "plt.xlabel('False Positive Rate')\n",
    "plt.ylabel('True Positive Rate')\n",
    "plt.title('Receiver Operating Characteristic (ROC) Curve')\n",
    "plt.legend(loc='lower right')\n",
    "\n",
    "plt.show()\n"
   ]
  },
  {
   "cell_type": "code",
   "execution_count": null,
   "id": "d343b252-bc0b-436c-a7a8-073c2b6edd90",
   "metadata": {},
   "outputs": [],
   "source": []
  }
 ],
 "metadata": {
  "availableInstances": [
   {
    "_defaultOrder": 0,
    "_isFastLaunch": true,
    "category": "General purpose",
    "gpuNum": 0,
    "hideHardwareSpecs": false,
    "memoryGiB": 4,
    "name": "ml.t3.medium",
    "vcpuNum": 2
   },
   {
    "_defaultOrder": 1,
    "_isFastLaunch": false,
    "category": "General purpose",
    "gpuNum": 0,
    "hideHardwareSpecs": false,
    "memoryGiB": 8,
    "name": "ml.t3.large",
    "vcpuNum": 2
   },
   {
    "_defaultOrder": 2,
    "_isFastLaunch": false,
    "category": "General purpose",
    "gpuNum": 0,
    "hideHardwareSpecs": false,
    "memoryGiB": 16,
    "name": "ml.t3.xlarge",
    "vcpuNum": 4
   },
   {
    "_defaultOrder": 3,
    "_isFastLaunch": false,
    "category": "General purpose",
    "gpuNum": 0,
    "hideHardwareSpecs": false,
    "memoryGiB": 32,
    "name": "ml.t3.2xlarge",
    "vcpuNum": 8
   },
   {
    "_defaultOrder": 4,
    "_isFastLaunch": true,
    "category": "General purpose",
    "gpuNum": 0,
    "hideHardwareSpecs": false,
    "memoryGiB": 8,
    "name": "ml.m5.large",
    "vcpuNum": 2
   },
   {
    "_defaultOrder": 5,
    "_isFastLaunch": false,
    "category": "General purpose",
    "gpuNum": 0,
    "hideHardwareSpecs": false,
    "memoryGiB": 16,
    "name": "ml.m5.xlarge",
    "vcpuNum": 4
   },
   {
    "_defaultOrder": 6,
    "_isFastLaunch": false,
    "category": "General purpose",
    "gpuNum": 0,
    "hideHardwareSpecs": false,
    "memoryGiB": 32,
    "name": "ml.m5.2xlarge",
    "vcpuNum": 8
   },
   {
    "_defaultOrder": 7,
    "_isFastLaunch": false,
    "category": "General purpose",
    "gpuNum": 0,
    "hideHardwareSpecs": false,
    "memoryGiB": 64,
    "name": "ml.m5.4xlarge",
    "vcpuNum": 16
   },
   {
    "_defaultOrder": 8,
    "_isFastLaunch": false,
    "category": "General purpose",
    "gpuNum": 0,
    "hideHardwareSpecs": false,
    "memoryGiB": 128,
    "name": "ml.m5.8xlarge",
    "vcpuNum": 32
   },
   {
    "_defaultOrder": 9,
    "_isFastLaunch": false,
    "category": "General purpose",
    "gpuNum": 0,
    "hideHardwareSpecs": false,
    "memoryGiB": 192,
    "name": "ml.m5.12xlarge",
    "vcpuNum": 48
   },
   {
    "_defaultOrder": 10,
    "_isFastLaunch": false,
    "category": "General purpose",
    "gpuNum": 0,
    "hideHardwareSpecs": false,
    "memoryGiB": 256,
    "name": "ml.m5.16xlarge",
    "vcpuNum": 64
   },
   {
    "_defaultOrder": 11,
    "_isFastLaunch": false,
    "category": "General purpose",
    "gpuNum": 0,
    "hideHardwareSpecs": false,
    "memoryGiB": 384,
    "name": "ml.m5.24xlarge",
    "vcpuNum": 96
   },
   {
    "_defaultOrder": 12,
    "_isFastLaunch": false,
    "category": "General purpose",
    "gpuNum": 0,
    "hideHardwareSpecs": false,
    "memoryGiB": 8,
    "name": "ml.m5d.large",
    "vcpuNum": 2
   },
   {
    "_defaultOrder": 13,
    "_isFastLaunch": false,
    "category": "General purpose",
    "gpuNum": 0,
    "hideHardwareSpecs": false,
    "memoryGiB": 16,
    "name": "ml.m5d.xlarge",
    "vcpuNum": 4
   },
   {
    "_defaultOrder": 14,
    "_isFastLaunch": false,
    "category": "General purpose",
    "gpuNum": 0,
    "hideHardwareSpecs": false,
    "memoryGiB": 32,
    "name": "ml.m5d.2xlarge",
    "vcpuNum": 8
   },
   {
    "_defaultOrder": 15,
    "_isFastLaunch": false,
    "category": "General purpose",
    "gpuNum": 0,
    "hideHardwareSpecs": false,
    "memoryGiB": 64,
    "name": "ml.m5d.4xlarge",
    "vcpuNum": 16
   },
   {
    "_defaultOrder": 16,
    "_isFastLaunch": false,
    "category": "General purpose",
    "gpuNum": 0,
    "hideHardwareSpecs": false,
    "memoryGiB": 128,
    "name": "ml.m5d.8xlarge",
    "vcpuNum": 32
   },
   {
    "_defaultOrder": 17,
    "_isFastLaunch": false,
    "category": "General purpose",
    "gpuNum": 0,
    "hideHardwareSpecs": false,
    "memoryGiB": 192,
    "name": "ml.m5d.12xlarge",
    "vcpuNum": 48
   },
   {
    "_defaultOrder": 18,
    "_isFastLaunch": false,
    "category": "General purpose",
    "gpuNum": 0,
    "hideHardwareSpecs": false,
    "memoryGiB": 256,
    "name": "ml.m5d.16xlarge",
    "vcpuNum": 64
   },
   {
    "_defaultOrder": 19,
    "_isFastLaunch": false,
    "category": "General purpose",
    "gpuNum": 0,
    "hideHardwareSpecs": false,
    "memoryGiB": 384,
    "name": "ml.m5d.24xlarge",
    "vcpuNum": 96
   },
   {
    "_defaultOrder": 20,
    "_isFastLaunch": false,
    "category": "General purpose",
    "gpuNum": 0,
    "hideHardwareSpecs": true,
    "memoryGiB": 0,
    "name": "ml.geospatial.interactive",
    "supportedImageNames": [
     "sagemaker-geospatial-v1-0"
    ],
    "vcpuNum": 0
   },
   {
    "_defaultOrder": 21,
    "_isFastLaunch": true,
    "category": "Compute optimized",
    "gpuNum": 0,
    "hideHardwareSpecs": false,
    "memoryGiB": 4,
    "name": "ml.c5.large",
    "vcpuNum": 2
   },
   {
    "_defaultOrder": 22,
    "_isFastLaunch": false,
    "category": "Compute optimized",
    "gpuNum": 0,
    "hideHardwareSpecs": false,
    "memoryGiB": 8,
    "name": "ml.c5.xlarge",
    "vcpuNum": 4
   },
   {
    "_defaultOrder": 23,
    "_isFastLaunch": false,
    "category": "Compute optimized",
    "gpuNum": 0,
    "hideHardwareSpecs": false,
    "memoryGiB": 16,
    "name": "ml.c5.2xlarge",
    "vcpuNum": 8
   },
   {
    "_defaultOrder": 24,
    "_isFastLaunch": false,
    "category": "Compute optimized",
    "gpuNum": 0,
    "hideHardwareSpecs": false,
    "memoryGiB": 32,
    "name": "ml.c5.4xlarge",
    "vcpuNum": 16
   },
   {
    "_defaultOrder": 25,
    "_isFastLaunch": false,
    "category": "Compute optimized",
    "gpuNum": 0,
    "hideHardwareSpecs": false,
    "memoryGiB": 72,
    "name": "ml.c5.9xlarge",
    "vcpuNum": 36
   },
   {
    "_defaultOrder": 26,
    "_isFastLaunch": false,
    "category": "Compute optimized",
    "gpuNum": 0,
    "hideHardwareSpecs": false,
    "memoryGiB": 96,
    "name": "ml.c5.12xlarge",
    "vcpuNum": 48
   },
   {
    "_defaultOrder": 27,
    "_isFastLaunch": false,
    "category": "Compute optimized",
    "gpuNum": 0,
    "hideHardwareSpecs": false,
    "memoryGiB": 144,
    "name": "ml.c5.18xlarge",
    "vcpuNum": 72
   },
   {
    "_defaultOrder": 28,
    "_isFastLaunch": false,
    "category": "Compute optimized",
    "gpuNum": 0,
    "hideHardwareSpecs": false,
    "memoryGiB": 192,
    "name": "ml.c5.24xlarge",
    "vcpuNum": 96
   },
   {
    "_defaultOrder": 29,
    "_isFastLaunch": true,
    "category": "Accelerated computing",
    "gpuNum": 1,
    "hideHardwareSpecs": false,
    "memoryGiB": 16,
    "name": "ml.g4dn.xlarge",
    "vcpuNum": 4
   },
   {
    "_defaultOrder": 30,
    "_isFastLaunch": false,
    "category": "Accelerated computing",
    "gpuNum": 1,
    "hideHardwareSpecs": false,
    "memoryGiB": 32,
    "name": "ml.g4dn.2xlarge",
    "vcpuNum": 8
   },
   {
    "_defaultOrder": 31,
    "_isFastLaunch": false,
    "category": "Accelerated computing",
    "gpuNum": 1,
    "hideHardwareSpecs": false,
    "memoryGiB": 64,
    "name": "ml.g4dn.4xlarge",
    "vcpuNum": 16
   },
   {
    "_defaultOrder": 32,
    "_isFastLaunch": false,
    "category": "Accelerated computing",
    "gpuNum": 1,
    "hideHardwareSpecs": false,
    "memoryGiB": 128,
    "name": "ml.g4dn.8xlarge",
    "vcpuNum": 32
   },
   {
    "_defaultOrder": 33,
    "_isFastLaunch": false,
    "category": "Accelerated computing",
    "gpuNum": 4,
    "hideHardwareSpecs": false,
    "memoryGiB": 192,
    "name": "ml.g4dn.12xlarge",
    "vcpuNum": 48
   },
   {
    "_defaultOrder": 34,
    "_isFastLaunch": false,
    "category": "Accelerated computing",
    "gpuNum": 1,
    "hideHardwareSpecs": false,
    "memoryGiB": 256,
    "name": "ml.g4dn.16xlarge",
    "vcpuNum": 64
   },
   {
    "_defaultOrder": 35,
    "_isFastLaunch": false,
    "category": "Accelerated computing",
    "gpuNum": 1,
    "hideHardwareSpecs": false,
    "memoryGiB": 61,
    "name": "ml.p3.2xlarge",
    "vcpuNum": 8
   },
   {
    "_defaultOrder": 36,
    "_isFastLaunch": false,
    "category": "Accelerated computing",
    "gpuNum": 4,
    "hideHardwareSpecs": false,
    "memoryGiB": 244,
    "name": "ml.p3.8xlarge",
    "vcpuNum": 32
   },
   {
    "_defaultOrder": 37,
    "_isFastLaunch": false,
    "category": "Accelerated computing",
    "gpuNum": 8,
    "hideHardwareSpecs": false,
    "memoryGiB": 488,
    "name": "ml.p3.16xlarge",
    "vcpuNum": 64
   },
   {
    "_defaultOrder": 38,
    "_isFastLaunch": false,
    "category": "Accelerated computing",
    "gpuNum": 8,
    "hideHardwareSpecs": false,
    "memoryGiB": 768,
    "name": "ml.p3dn.24xlarge",
    "vcpuNum": 96
   },
   {
    "_defaultOrder": 39,
    "_isFastLaunch": false,
    "category": "Memory Optimized",
    "gpuNum": 0,
    "hideHardwareSpecs": false,
    "memoryGiB": 16,
    "name": "ml.r5.large",
    "vcpuNum": 2
   },
   {
    "_defaultOrder": 40,
    "_isFastLaunch": false,
    "category": "Memory Optimized",
    "gpuNum": 0,
    "hideHardwareSpecs": false,
    "memoryGiB": 32,
    "name": "ml.r5.xlarge",
    "vcpuNum": 4
   },
   {
    "_defaultOrder": 41,
    "_isFastLaunch": false,
    "category": "Memory Optimized",
    "gpuNum": 0,
    "hideHardwareSpecs": false,
    "memoryGiB": 64,
    "name": "ml.r5.2xlarge",
    "vcpuNum": 8
   },
   {
    "_defaultOrder": 42,
    "_isFastLaunch": false,
    "category": "Memory Optimized",
    "gpuNum": 0,
    "hideHardwareSpecs": false,
    "memoryGiB": 128,
    "name": "ml.r5.4xlarge",
    "vcpuNum": 16
   },
   {
    "_defaultOrder": 43,
    "_isFastLaunch": false,
    "category": "Memory Optimized",
    "gpuNum": 0,
    "hideHardwareSpecs": false,
    "memoryGiB": 256,
    "name": "ml.r5.8xlarge",
    "vcpuNum": 32
   },
   {
    "_defaultOrder": 44,
    "_isFastLaunch": false,
    "category": "Memory Optimized",
    "gpuNum": 0,
    "hideHardwareSpecs": false,
    "memoryGiB": 384,
    "name": "ml.r5.12xlarge",
    "vcpuNum": 48
   },
   {
    "_defaultOrder": 45,
    "_isFastLaunch": false,
    "category": "Memory Optimized",
    "gpuNum": 0,
    "hideHardwareSpecs": false,
    "memoryGiB": 512,
    "name": "ml.r5.16xlarge",
    "vcpuNum": 64
   },
   {
    "_defaultOrder": 46,
    "_isFastLaunch": false,
    "category": "Memory Optimized",
    "gpuNum": 0,
    "hideHardwareSpecs": false,
    "memoryGiB": 768,
    "name": "ml.r5.24xlarge",
    "vcpuNum": 96
   },
   {
    "_defaultOrder": 47,
    "_isFastLaunch": false,
    "category": "Accelerated computing",
    "gpuNum": 1,
    "hideHardwareSpecs": false,
    "memoryGiB": 16,
    "name": "ml.g5.xlarge",
    "vcpuNum": 4
   },
   {
    "_defaultOrder": 48,
    "_isFastLaunch": false,
    "category": "Accelerated computing",
    "gpuNum": 1,
    "hideHardwareSpecs": false,
    "memoryGiB": 32,
    "name": "ml.g5.2xlarge",
    "vcpuNum": 8
   },
   {
    "_defaultOrder": 49,
    "_isFastLaunch": false,
    "category": "Accelerated computing",
    "gpuNum": 1,
    "hideHardwareSpecs": false,
    "memoryGiB": 64,
    "name": "ml.g5.4xlarge",
    "vcpuNum": 16
   },
   {
    "_defaultOrder": 50,
    "_isFastLaunch": false,
    "category": "Accelerated computing",
    "gpuNum": 1,
    "hideHardwareSpecs": false,
    "memoryGiB": 128,
    "name": "ml.g5.8xlarge",
    "vcpuNum": 32
   },
   {
    "_defaultOrder": 51,
    "_isFastLaunch": false,
    "category": "Accelerated computing",
    "gpuNum": 1,
    "hideHardwareSpecs": false,
    "memoryGiB": 256,
    "name": "ml.g5.16xlarge",
    "vcpuNum": 64
   },
   {
    "_defaultOrder": 52,
    "_isFastLaunch": false,
    "category": "Accelerated computing",
    "gpuNum": 4,
    "hideHardwareSpecs": false,
    "memoryGiB": 192,
    "name": "ml.g5.12xlarge",
    "vcpuNum": 48
   },
   {
    "_defaultOrder": 53,
    "_isFastLaunch": false,
    "category": "Accelerated computing",
    "gpuNum": 4,
    "hideHardwareSpecs": false,
    "memoryGiB": 384,
    "name": "ml.g5.24xlarge",
    "vcpuNum": 96
   },
   {
    "_defaultOrder": 54,
    "_isFastLaunch": false,
    "category": "Accelerated computing",
    "gpuNum": 8,
    "hideHardwareSpecs": false,
    "memoryGiB": 768,
    "name": "ml.g5.48xlarge",
    "vcpuNum": 192
   },
   {
    "_defaultOrder": 55,
    "_isFastLaunch": false,
    "category": "Accelerated computing",
    "gpuNum": 8,
    "hideHardwareSpecs": false,
    "memoryGiB": 1152,
    "name": "ml.p4d.24xlarge",
    "vcpuNum": 96
   },
   {
    "_defaultOrder": 56,
    "_isFastLaunch": false,
    "category": "Accelerated computing",
    "gpuNum": 8,
    "hideHardwareSpecs": false,
    "memoryGiB": 1152,
    "name": "ml.p4de.24xlarge",
    "vcpuNum": 96
   },
   {
    "_defaultOrder": 57,
    "_isFastLaunch": false,
    "category": "Accelerated computing",
    "gpuNum": 0,
    "hideHardwareSpecs": false,
    "memoryGiB": 32,
    "name": "ml.trn1.2xlarge",
    "vcpuNum": 8
   },
   {
    "_defaultOrder": 58,
    "_isFastLaunch": false,
    "category": "Accelerated computing",
    "gpuNum": 0,
    "hideHardwareSpecs": false,
    "memoryGiB": 512,
    "name": "ml.trn1.32xlarge",
    "vcpuNum": 128
   },
   {
    "_defaultOrder": 59,
    "_isFastLaunch": false,
    "category": "Accelerated computing",
    "gpuNum": 0,
    "hideHardwareSpecs": false,
    "memoryGiB": 512,
    "name": "ml.trn1n.32xlarge",
    "vcpuNum": 128
   }
  ],
  "instance_type": "ml.t3.medium",
  "kernelspec": {
   "display_name": "Python 3 (Data Science 2.0)",
   "language": "python",
   "name": "python3__SAGEMAKER_INTERNAL__arn:aws:sagemaker:us-east-1:081325390199:image/sagemaker-data-science-38"
  },
  "language_info": {
   "codemirror_mode": {
    "name": "ipython",
    "version": 3
   },
   "file_extension": ".py",
   "mimetype": "text/x-python",
   "name": "python",
   "nbconvert_exporter": "python",
   "pygments_lexer": "ipython3",
   "version": "3.8.13"
  }
 },
 "nbformat": 4,
 "nbformat_minor": 5
}
