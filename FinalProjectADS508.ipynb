{
 "cells": [
  {
   "cell_type": "code",
   "execution_count": 2,
   "id": "493f9da0-6861-4968-a1d5-a0baeb7a7f0e",
   "metadata": {
    "tags": []
   },
   "outputs": [
    {
     "name": "stdout",
     "output_type": "stream",
     "text": [
      "sagemaker.config INFO - Not applying SDK defaults from location: /etc/xdg/sagemaker/config.yaml\n",
      "sagemaker.config INFO - Not applying SDK defaults from location: /root/.config/sagemaker/config.yaml\n",
      "\u001b[33mWARNING: Running pip as the 'root' user can result in broken permissions and conflicting behaviour with the system package manager. It is recommended to use a virtual environment instead: https://pip.pypa.io/warnings/venv\u001b[0m\u001b[33m\n",
      "\u001b[0m"
     ]
    }
   ],
   "source": [
    "import boto3\n",
    "import sagemaker\n",
    "import pandas as pd\n",
    "import seaborn as sns\n",
    "!pip install --disable-pip-version-check -q PyAthena==2.1.0\n",
    "from pyathena import connect"
   ]
  },
  {
   "cell_type": "code",
   "execution_count": 3,
   "id": "412919ac-c066-4c95-a58c-d98e5cc09b4b",
   "metadata": {
    "tags": []
   },
   "outputs": [],
   "source": [
    "s3_client = boto3.client('s3', region_name='us-east-1')\n",
    "bucket_name = 'team1ads508finalproject'"
   ]
  },
  {
   "cell_type": "code",
   "execution_count": 4,
   "id": "548b2dcb-859f-43fd-89ea-e13d18fbfcae",
   "metadata": {},
   "outputs": [
    {
     "name": "stdout",
     "output_type": "stream",
     "text": [
      "sagemaker.config INFO - Not applying SDK defaults from location: /etc/xdg/sagemaker/config.yaml\n",
      "sagemaker.config INFO - Not applying SDK defaults from location: /root/.config/sagemaker/config.yaml\n",
      "sagemaker.config INFO - Not applying SDK defaults from location: /etc/xdg/sagemaker/config.yaml\n",
      "sagemaker.config INFO - Not applying SDK defaults from location: /root/.config/sagemaker/config.yaml\n",
      "copy: s3://team1ads508finalproject/application_train.csv to s3://sagemaker-us-east-1-654654578488/ADS508_project/application_train.csv\n",
      "copy: s3://team1ads508finalproject/bureau.csv to s3://sagemaker-us-east-1-654654578488/ADS508_project/bureau.csv\n",
      "copy: s3://team1ads508finalproject/previous_application.csv to s3://sagemaker-us-east-1-654654578488/ADS508_project/previous_application.csv\n"
     ]
    }
   ],
   "source": [
    "sess = sagemaker.Session()\n",
    "bucket = sess.default_bucket()\n",
    "role = sagemaker.get_execution_role()\n",
    "region = boto3.Session().region_name\n",
    "account_id = boto3.client(\"sts\").get_caller_identity().get(\"Account\")\n",
    "\n",
    "sm = boto3.Session().client(service_name=\"sagemaker\", region_name=region)\n",
    "\n",
    "s3_public = \"s3://team1ads508finalproject\"\n",
    "\n",
    "s3_private = \"s3://{}/ADS508_project\".format(bucket)\n",
    "\n",
    "!aws s3 cp --recursive $s3_public/ $s3_private/"
   ]
  },
  {
   "cell_type": "code",
   "execution_count": 5,
   "id": "86ca2fda-332f-4c51-b271-faf9cd2362aa",
   "metadata": {
    "tags": []
   },
   "outputs": [
    {
     "name": "stdout",
     "output_type": "stream",
     "text": [
      "s3://sagemaker-us-east-1-654654578488/ADS508_project\n"
     ]
    }
   ],
   "source": [
    "print(s3_private)"
   ]
  },
  {
   "cell_type": "code",
   "execution_count": 6,
   "id": "8ca31519-e620-491b-8e9a-163e22329fce",
   "metadata": {},
   "outputs": [
    {
     "name": "stdout",
     "output_type": "stream",
     "text": [
      "Stored variables and their in-db values:\n"
     ]
    }
   ],
   "source": [
    "%store"
   ]
  },
  {
   "cell_type": "code",
   "execution_count": 7,
   "id": "876b8ea4-6ff8-4554-9b67-ae08523c23ee",
   "metadata": {
    "tags": []
   },
   "outputs": [],
   "source": [
    "database_name = \"dsoaws\""
   ]
  },
  {
   "cell_type": "code",
   "execution_count": 8,
   "id": "fc7d3e41-77ed-4b47-ac08-f4d868222fde",
   "metadata": {},
   "outputs": [],
   "source": [
    "#Set S3 staging directory -- this is a temporary directory used for Athena queries\n",
    "s3_staging_dir = \"s3://{0}/athena/staging\".format(bucket)"
   ]
  },
  {
   "cell_type": "code",
   "execution_count": 9,
   "id": "3f5bf8ff-0984-4cf4-a56d-9b3f72c76ae3",
   "metadata": {},
   "outputs": [],
   "source": [
    "conn = connect(region_name='us-east-1', s3_staging_dir=s3_staging_dir)"
   ]
  },
  {
   "cell_type": "code",
   "execution_count": 10,
   "id": "3971ab7b-548c-4ea2-bba8-c1c76ae77dba",
   "metadata": {
    "tags": []
   },
   "outputs": [
    {
     "name": "stdout",
     "output_type": "stream",
     "text": [
      "Creating table: Credit\n",
      "Creating table: Credit\n",
      "Creating table: Credit\n"
     ]
    },
    {
     "name": "stderr",
     "output_type": "stream",
     "text": [
      "/tmp/ipykernel_2634/2506220880.py:210: UserWarning: pandas only supports SQLAlchemy connectable (engine/connection) or database string URI or sqlite3 DBAPI2 connection. Other DBAPI2 objects are not tested. Please consider using SQLAlchemy.\n",
      "  df_show = pd.read_sql(query, conn)\n"
     ]
    },
    {
     "data": {
      "text/html": [
       "<div>\n",
       "<style scoped>\n",
       "    .dataframe tbody tr th:only-of-type {\n",
       "        vertical-align: middle;\n",
       "    }\n",
       "\n",
       "    .dataframe tbody tr th {\n",
       "        vertical-align: top;\n",
       "    }\n",
       "\n",
       "    .dataframe thead th {\n",
       "        text-align: right;\n",
       "    }\n",
       "</style>\n",
       "<table border=\"1\" class=\"dataframe\">\n",
       "  <thead>\n",
       "    <tr style=\"text-align: right;\">\n",
       "      <th></th>\n",
       "      <th>tab_name</th>\n",
       "    </tr>\n",
       "  </thead>\n",
       "  <tbody>\n",
       "    <tr>\n",
       "      <th>0</th>\n",
       "      <td>application</td>\n",
       "    </tr>\n",
       "    <tr>\n",
       "      <th>1</th>\n",
       "      <td>bureau</td>\n",
       "    </tr>\n",
       "    <tr>\n",
       "      <th>2</th>\n",
       "      <td>previous_application</td>\n",
       "    </tr>\n",
       "  </tbody>\n",
       "</table>\n",
       "</div>"
      ],
      "text/plain": [
       "               tab_name\n",
       "0           application\n",
       "1                bureau\n",
       "2  previous_application"
      ]
     },
     "execution_count": 10,
     "metadata": {},
     "output_type": "execute_result"
    }
   ],
   "source": [
    "# Define the table schema\n",
    "schemas = {\n",
    "    'bureau': \"\"\"\n",
    "        CREATE EXTERNAL TABLE IF NOT EXISTS bureau (\n",
    "            SK_ID_CURR INT,\n",
    "            SK_ID_BUREAU INT,\n",
    "            CREDIT_ACTIVE STRING,\n",
    "            CREDIT_CURRENCY STRING,\n",
    "            DAYS_CREDIT INT,\n",
    "            CREDIT_DAY_OVERDUE INT,\n",
    "            DAYS_CREDIT_ENDDATE INT,\n",
    "            DAYS_ENDDATE_FACT INT,\n",
    "            AMT_CREDIT_MAX_OVERDUE FLOAT,\n",
    "            CNT_CREDIT_PROLONG INT,\n",
    "            AMT_CREDIT_SUM FLOAT,\n",
    "            AMT_CREDIT_SUM_DEBT FLOAT,\n",
    "            AMT_CREDIT_SUM_LIMIT FLOAT,\n",
    "            AMT_CREDIT_SUM_OVERDUE FLOAT,\n",
    "            CREDIT_TYPE STRING,\n",
    "            DAYS_CREDIT_UPDATE INT,\n",
    "            AMT_ANNUITY FLOAT\n",
    "        )\n",
    "        ROW FORMAT DELIMITED\n",
    "        FIELDS TERMINATED BY ','\n",
    "        LOCATION 's3://team1ads508finalproject/'\n",
    "    \"\"\",\n",
    "    'previous_application': \"\"\"\n",
    "        CREATE EXTERNAL TABLE IF NOT EXISTS previous_application (\n",
    "            SK_ID_PREV INT,\n",
    "            SK_ID_CURR INT,\n",
    "            NAME_CONTRACT_TYPE STRING,\n",
    "            AMT_ANNUITY FLOAT,\n",
    "            AMT_APPLICATION FLOAT,\n",
    "            AMT_CREDIT FLOAT,\n",
    "            AMT_DOWN_PAYMENT FLOAT,\n",
    "            AMT_GOODS_PRICE FLOAT,\n",
    "            WEEKDAY_APPR_PROCESS_START STRING,\n",
    "            HOUR_APPR_PROCESS_START INT,\n",
    "            FLAG_LAST_APPL_PER_CONTRACT STRING,\n",
    "            NFLAG_LAST_APPL_IN_DAY INT,\n",
    "            RATE_DOWN_PAYMENT FLOAT,\n",
    "            RATE_INTEREST_PRIMARY FLOAT,\n",
    "            RATE_INTEREST_PRIVILEGED FLOAT,\n",
    "            NAME_CASH_LOAN_PURPOSE STRING,\n",
    "            NAME_CONTRACT_STATUS STRING,\n",
    "            DAYS_DECISION INT,\n",
    "            NAME_PAYMENT_TYPE STRING,\n",
    "            CODE_REJECT_REASON STRING,\n",
    "            NAME_TYPE_SUITE STRING,\n",
    "            NAME_CLIENT_TYPE STRING,\n",
    "            NAME_GOODS_CATEGORY STRING,\n",
    "            NAME_PORTFOLIO STRING,\n",
    "            NAME_PRODUCT_TYPE STRING,\n",
    "            CHANNEL_TYPE STRING,\n",
    "            SELLERPLACE_AREA INT,\n",
    "            NAME_SELLER_INDUSTRY STRING,\n",
    "            CNT_PAYMENT INT,\n",
    "            NAME_YIELD_GROUP STRING,\n",
    "            PRODUCT_COMBINATION STRING,\n",
    "            DAYS_FIRST_DRAWING INT,\n",
    "            DAYS_FIRST_DUE INT,\n",
    "            DAYS_LAST_DUE_1ST_VERSION INT,\n",
    "            DAYS_LAST_DUE INT,\n",
    "            DAYS_TERMINATION INT,\n",
    "            NFLAG_INSURED_ON_APPROVAL INT\n",
    "        )\n",
    "        ROW FORMAT DELIMITED\n",
    "        FIELDS TERMINATED BY ','\n",
    "        LOCATION 's3://team1ads508finalproject/'\n",
    "    \"\"\",\n",
    "    'application': \"\"\"\n",
    "        CREATE EXTERNAL TABLE IF NOT EXISTS application (\n",
    "            SK_ID_CURR INT,\n",
    "            TARGET INT,\n",
    "            NAME_CONTRACT_TYPE STRING,\n",
    "            CODE_GENDER STRING,\n",
    "            FLAG_OWN_CAR STRING,\n",
    "            FLAG_OWN_REALTY STRING,\n",
    "            CNT_CHILDREN INT,\n",
    "            AMT_INCOME_TOTAL FLOAT,\n",
    "            AMT_CREDIT FLOAT,\n",
    "            AMT_ANNUITY FLOAT,\n",
    "            AMT_GOODS_PRICE FLOAT,\n",
    "            NAME_TYPE_SUITE STRING,\n",
    "            NAME_INCOME_TYPE STRING,\n",
    "            NAME_EDUCATION_TYPE STRING,\n",
    "            NAME_FAMILY_STATUS STRING,\n",
    "            NAME_HOUSING_TYPE STRING,\n",
    "            REGION_POPULATION_RELATIVE FLOAT,\n",
    "            DAYS_BIRTH INT,\n",
    "            DAYS_EMPLOYED INT,\n",
    "            DAYS_REGISTRATION INT,\n",
    "            DAYS_ID_PUBLISH INT,\n",
    "            OWN_CAR_AGE INT,\n",
    "            FLAG_MOBIL INT,\n",
    "            FLAG_EMP_PHONE INT,\n",
    "            FLAG_WORK_PHONE INT,\n",
    "            FLAG_CONT_MOBILE INT,\n",
    "            FLAG_PHONE INT,\n",
    "            FLAG_EMAIL INT,\n",
    "            OCCUPATION_TYPE STRING,\n",
    "            CNT_FAM_MEMBERS FLOAT,\n",
    "            REGION_RATING_CLIENT INT,\n",
    "            REGION_RATING_CLIENT_W_CITY INT,\n",
    "            WEEKDAY_APPR_PROCESS_START STRING,\n",
    "            HOUR_APPR_PROCESS_START INT,\n",
    "            REG_REGION_NOT_LIVE_REGION INT,\n",
    "            REG_REGION_NOT_WORK_REGION INT,\n",
    "            LIVE_REGION_NOT_WORK_REGION INT,\n",
    "            REG_CITY_NOT_LIVE_CITY INT,\n",
    "            REG_CITY_NOT_WORK_CITY INT,\n",
    "            LIVE_CITY_NOT_WORK_CITY INT,\n",
    "            ORGANIZATION_TYPE STRING,\n",
    "            EXT_SOURCE_1 FLOAT,\n",
    "            EXT_SOURCE_2 FLOAT,\n",
    "            EXT_SOURCE_3 FLOAT,\n",
    "            APARTMENTS_AVG FLOAT,\n",
    "            BASEMENTAREA_AVG FLOAT,\n",
    "            YEARS_BEGINEXPLUATATION_AVG FLOAT,\n",
    "            YEARS_BUILD_AVG FLOAT,\n",
    "            COMMONAREA_AVG FLOAT,\n",
    "            ELEVATORS_AVG FLOAT,\n",
    "            ENTRANCES_AVG FLOAT,\n",
    "            FLOORSMAX_AVG FLOAT,\n",
    "            FLOORSMIN_AVG FLOAT,\n",
    "            LANDAREA_AVG FLOAT,\n",
    "            LIVINGAPARTMENTS_AVG FLOAT,\n",
    "            LIVINGAREA_AVG FLOAT,\n",
    "            NONLIVINGAPARTMENTS_AVG FLOAT,\n",
    "            NONLIVINGAREA_AVG FLOAT,\n",
    "            APARTMENTS_MODE FLOAT,\n",
    "            BASEMENTAREA_MODE FLOAT,\n",
    "            YEARS_BEGINEXPLUATATION_MODE FLOAT,\n",
    "            YEARS_BUILD_MODE FLOAT,\n",
    "            COMMONAREA_MODE FLOAT,\n",
    "            ELEVATORS_MODE FLOAT,\n",
    "            ENTRANCES_MODE FLOAT,\n",
    "            FLOORSMAX_MODE FLOAT,\n",
    "            FLOORSMIN_MODE FLOAT,\n",
    "            LANDAREA_MODE FLOAT,\n",
    "            LIVINGAPARTMENTS_MODE FLOAT,\n",
    "            LIVINGAREA_MODE FLOAT,\n",
    "            NONLIVINGAPARTMENTS_MODE FLOAT,\n",
    "            NONLIVINGAREA_MODE FLOAT,\n",
    "            APARTMENTS_MEDI FLOAT,\n",
    "            BASEMENTAREA_MEDI FLOAT,\n",
    "            YEARS_BEGINEXPLUATATION_MEDI FLOAT,\n",
    "            YEARS_BUILD_MEDI FLOAT,\n",
    "            COMMONAREA_MEDI FLOAT,\n",
    "            ELEVATORS_MEDI FLOAT,\n",
    "            ENTRANCES_MEDI FLOAT,\n",
    "            FLOORSMAX_MEDI FLOAT,\n",
    "            FLOORSMIN_MEDI FLOAT,\n",
    "            LANDAREA_MEDI FLOAT,\n",
    "            LIVINGAPARTMENTS_MEDI FLOAT,\n",
    "            LIVINGAREA_MEDI FLOAT,\n",
    "            NONLIVINGAPARTMENTS_MEDI FLOAT,\n",
    "            NONLIVINGAREA_MEDI FLOAT,\n",
    "            FONDKAPREMONT_MODE STRING,\n",
    "            HOUSETYPE_MODE STRING,\n",
    "            TOTALAREA_MODE FLOAT,\n",
    "            WALLSMATERIAL_MODE STRING,\n",
    "            EMERGENCYSTATE_MODE STRING,\n",
    "            OBS_30_CNT_SOCIAL_CIRCLE FLOAT,\n",
    "            DEF_30_CNT_SOCIAL_CIRCLE FLOAT,\n",
    "            OBS_60_CNT_SOCIAL_CIRCLE FLOAT,\n",
    "            DEF_60_CNT_SOCIAL_CIRCLE FLOAT,\n",
    "            DAYS_LAST_PHONE_CHANGE INT,\n",
    "            FLAG_DOCUMENT_2 INT,\n",
    "            FLAG_DOCUMENT_3 INT,\n",
    "            FLAG_DOCUMENT_4 INT,\n",
    "            FLAG_DOCUMENT_5 INT,\n",
    "            FLAG_DOCUMENT_6 INT,\n",
    "            FLAG_DOCUMENT_7 INT,\n",
    "            FLAG_DOCUMENT_8 INT,\n",
    "            FLAG_DOCUMENT_9 INT,\n",
    "            FLAG_DOCUMENT_10 INT,\n",
    "            FLAG_DOCUMENT_11 INT,\n",
    "            FLAG_DOCUMENT_12 INT,\n",
    "            FLAG_DOCUMENT_13 INT,\n",
    "            FLAG_DOCUMENT_14 INT,\n",
    "            FLAG_DOCUMENT_15 INT,\n",
    "            FLAG_DOCUMENT_16 INT,\n",
    "            FLAG_DOCUMENT_17 INT,\n",
    "            FLAG_DOCUMENT_18 INT,\n",
    "            FLAG_DOCUMENT_19 INT,\n",
    "            FLAG_DOCUMENT_20 INT,\n",
    "            FLAG_DOCUMENT_21 INT,\n",
    "            AMT_REQ_CREDIT_BUREAU_HOUR FLOAT,\n",
    "            AMT_REQ_CREDIT_BUREAU_DAY FLOAT,\n",
    "            AMT_REQ_CREDIT_BUREAU_WEEK FLOAT,\n",
    "            AMT_REQ_CREDIT_BUREAU_MON FLOAT,\n",
    "            AMT_REQ_CREDIT_BUREAU_QRT FLOAT,\n",
    "            AMT_REQ_CREDIT_BUREAU_YEAR FLOAT\n",
    "        )\n",
    "        ROW FORMAT DELIMITED\n",
    "        FIELDS TERMINATED BY ','\n",
    "        LOCATION 's3://team1ads508finalproject/'\n",
    "    \"\"\"\n",
    "}\n",
    "\n",
    "# Create tables in Athena\n",
    "for table_name, schema in schemas.items():\n",
    "    print(f\"Creating table: Credit\")\n",
    "    cursor = conn.cursor()\n",
    "    cursor.execute(schema)\n",
    "\n",
    "# Show tables \n",
    "query = \"SHOW TABLES\"\n",
    "df_show = pd.read_sql(query, conn)\n",
    "df_show.head(5)"
   ]
  },
  {
   "cell_type": "code",
   "execution_count": null,
   "id": "b8a1e39b-06db-4ddf-a31e-3f961375d3f2",
   "metadata": {
    "tags": []
   },
   "outputs": [
    {
     "name": "stderr",
     "output_type": "stream",
     "text": [
      "/tmp/ipykernel_2634/2088037396.py:10: UserWarning: pandas only supports SQLAlchemy connectable (engine/connection) or database string URI or sqlite3 DBAPI2 connection. Other DBAPI2 objects are not tested. Please consider using SQLAlchemy.\n",
      "  df = pd.read_sql(query, conn)\n"
     ]
    }
   ],
   "source": [
    "# SQL query for joining all the tables\n",
    "query = \"\"\"\n",
    "SELECT *\n",
    "FROM application a\n",
    "INNER JOIN bureau b ON a.SK_ID_CURR = b.SK_ID_CURR\n",
    "INNER JOIN previous_application p ON a.SK_ID_CURR = p.SK_ID_CURR;\n",
    "\"\"\"\n",
    "\n",
    "# Execute the SQL query\n",
    "df = pd.read_sql(query, conn)\n",
    "\n",
    "# Display the result\n",
    "print(df)"
   ]
  }
 ],
 "metadata": {
  "availableInstances": [
   {
    "_defaultOrder": 0,
    "_isFastLaunch": true,
    "category": "General purpose",
    "gpuNum": 0,
    "hideHardwareSpecs": false,
    "memoryGiB": 4,
    "name": "ml.t3.medium",
    "vcpuNum": 2
   },
   {
    "_defaultOrder": 1,
    "_isFastLaunch": false,
    "category": "General purpose",
    "gpuNum": 0,
    "hideHardwareSpecs": false,
    "memoryGiB": 8,
    "name": "ml.t3.large",
    "vcpuNum": 2
   },
   {
    "_defaultOrder": 2,
    "_isFastLaunch": false,
    "category": "General purpose",
    "gpuNum": 0,
    "hideHardwareSpecs": false,
    "memoryGiB": 16,
    "name": "ml.t3.xlarge",
    "vcpuNum": 4
   },
   {
    "_defaultOrder": 3,
    "_isFastLaunch": false,
    "category": "General purpose",
    "gpuNum": 0,
    "hideHardwareSpecs": false,
    "memoryGiB": 32,
    "name": "ml.t3.2xlarge",
    "vcpuNum": 8
   },
   {
    "_defaultOrder": 4,
    "_isFastLaunch": true,
    "category": "General purpose",
    "gpuNum": 0,
    "hideHardwareSpecs": false,
    "memoryGiB": 8,
    "name": "ml.m5.large",
    "vcpuNum": 2
   },
   {
    "_defaultOrder": 5,
    "_isFastLaunch": false,
    "category": "General purpose",
    "gpuNum": 0,
    "hideHardwareSpecs": false,
    "memoryGiB": 16,
    "name": "ml.m5.xlarge",
    "vcpuNum": 4
   },
   {
    "_defaultOrder": 6,
    "_isFastLaunch": false,
    "category": "General purpose",
    "gpuNum": 0,
    "hideHardwareSpecs": false,
    "memoryGiB": 32,
    "name": "ml.m5.2xlarge",
    "vcpuNum": 8
   },
   {
    "_defaultOrder": 7,
    "_isFastLaunch": false,
    "category": "General purpose",
    "gpuNum": 0,
    "hideHardwareSpecs": false,
    "memoryGiB": 64,
    "name": "ml.m5.4xlarge",
    "vcpuNum": 16
   },
   {
    "_defaultOrder": 8,
    "_isFastLaunch": false,
    "category": "General purpose",
    "gpuNum": 0,
    "hideHardwareSpecs": false,
    "memoryGiB": 128,
    "name": "ml.m5.8xlarge",
    "vcpuNum": 32
   },
   {
    "_defaultOrder": 9,
    "_isFastLaunch": false,
    "category": "General purpose",
    "gpuNum": 0,
    "hideHardwareSpecs": false,
    "memoryGiB": 192,
    "name": "ml.m5.12xlarge",
    "vcpuNum": 48
   },
   {
    "_defaultOrder": 10,
    "_isFastLaunch": false,
    "category": "General purpose",
    "gpuNum": 0,
    "hideHardwareSpecs": false,
    "memoryGiB": 256,
    "name": "ml.m5.16xlarge",
    "vcpuNum": 64
   },
   {
    "_defaultOrder": 11,
    "_isFastLaunch": false,
    "category": "General purpose",
    "gpuNum": 0,
    "hideHardwareSpecs": false,
    "memoryGiB": 384,
    "name": "ml.m5.24xlarge",
    "vcpuNum": 96
   },
   {
    "_defaultOrder": 12,
    "_isFastLaunch": false,
    "category": "General purpose",
    "gpuNum": 0,
    "hideHardwareSpecs": false,
    "memoryGiB": 8,
    "name": "ml.m5d.large",
    "vcpuNum": 2
   },
   {
    "_defaultOrder": 13,
    "_isFastLaunch": false,
    "category": "General purpose",
    "gpuNum": 0,
    "hideHardwareSpecs": false,
    "memoryGiB": 16,
    "name": "ml.m5d.xlarge",
    "vcpuNum": 4
   },
   {
    "_defaultOrder": 14,
    "_isFastLaunch": false,
    "category": "General purpose",
    "gpuNum": 0,
    "hideHardwareSpecs": false,
    "memoryGiB": 32,
    "name": "ml.m5d.2xlarge",
    "vcpuNum": 8
   },
   {
    "_defaultOrder": 15,
    "_isFastLaunch": false,
    "category": "General purpose",
    "gpuNum": 0,
    "hideHardwareSpecs": false,
    "memoryGiB": 64,
    "name": "ml.m5d.4xlarge",
    "vcpuNum": 16
   },
   {
    "_defaultOrder": 16,
    "_isFastLaunch": false,
    "category": "General purpose",
    "gpuNum": 0,
    "hideHardwareSpecs": false,
    "memoryGiB": 128,
    "name": "ml.m5d.8xlarge",
    "vcpuNum": 32
   },
   {
    "_defaultOrder": 17,
    "_isFastLaunch": false,
    "category": "General purpose",
    "gpuNum": 0,
    "hideHardwareSpecs": false,
    "memoryGiB": 192,
    "name": "ml.m5d.12xlarge",
    "vcpuNum": 48
   },
   {
    "_defaultOrder": 18,
    "_isFastLaunch": false,
    "category": "General purpose",
    "gpuNum": 0,
    "hideHardwareSpecs": false,
    "memoryGiB": 256,
    "name": "ml.m5d.16xlarge",
    "vcpuNum": 64
   },
   {
    "_defaultOrder": 19,
    "_isFastLaunch": false,
    "category": "General purpose",
    "gpuNum": 0,
    "hideHardwareSpecs": false,
    "memoryGiB": 384,
    "name": "ml.m5d.24xlarge",
    "vcpuNum": 96
   },
   {
    "_defaultOrder": 20,
    "_isFastLaunch": false,
    "category": "General purpose",
    "gpuNum": 0,
    "hideHardwareSpecs": true,
    "memoryGiB": 0,
    "name": "ml.geospatial.interactive",
    "supportedImageNames": [
     "sagemaker-geospatial-v1-0"
    ],
    "vcpuNum": 0
   },
   {
    "_defaultOrder": 21,
    "_isFastLaunch": true,
    "category": "Compute optimized",
    "gpuNum": 0,
    "hideHardwareSpecs": false,
    "memoryGiB": 4,
    "name": "ml.c5.large",
    "vcpuNum": 2
   },
   {
    "_defaultOrder": 22,
    "_isFastLaunch": false,
    "category": "Compute optimized",
    "gpuNum": 0,
    "hideHardwareSpecs": false,
    "memoryGiB": 8,
    "name": "ml.c5.xlarge",
    "vcpuNum": 4
   },
   {
    "_defaultOrder": 23,
    "_isFastLaunch": false,
    "category": "Compute optimized",
    "gpuNum": 0,
    "hideHardwareSpecs": false,
    "memoryGiB": 16,
    "name": "ml.c5.2xlarge",
    "vcpuNum": 8
   },
   {
    "_defaultOrder": 24,
    "_isFastLaunch": false,
    "category": "Compute optimized",
    "gpuNum": 0,
    "hideHardwareSpecs": false,
    "memoryGiB": 32,
    "name": "ml.c5.4xlarge",
    "vcpuNum": 16
   },
   {
    "_defaultOrder": 25,
    "_isFastLaunch": false,
    "category": "Compute optimized",
    "gpuNum": 0,
    "hideHardwareSpecs": false,
    "memoryGiB": 72,
    "name": "ml.c5.9xlarge",
    "vcpuNum": 36
   },
   {
    "_defaultOrder": 26,
    "_isFastLaunch": false,
    "category": "Compute optimized",
    "gpuNum": 0,
    "hideHardwareSpecs": false,
    "memoryGiB": 96,
    "name": "ml.c5.12xlarge",
    "vcpuNum": 48
   },
   {
    "_defaultOrder": 27,
    "_isFastLaunch": false,
    "category": "Compute optimized",
    "gpuNum": 0,
    "hideHardwareSpecs": false,
    "memoryGiB": 144,
    "name": "ml.c5.18xlarge",
    "vcpuNum": 72
   },
   {
    "_defaultOrder": 28,
    "_isFastLaunch": false,
    "category": "Compute optimized",
    "gpuNum": 0,
    "hideHardwareSpecs": false,
    "memoryGiB": 192,
    "name": "ml.c5.24xlarge",
    "vcpuNum": 96
   },
   {
    "_defaultOrder": 29,
    "_isFastLaunch": true,
    "category": "Accelerated computing",
    "gpuNum": 1,
    "hideHardwareSpecs": false,
    "memoryGiB": 16,
    "name": "ml.g4dn.xlarge",
    "vcpuNum": 4
   },
   {
    "_defaultOrder": 30,
    "_isFastLaunch": false,
    "category": "Accelerated computing",
    "gpuNum": 1,
    "hideHardwareSpecs": false,
    "memoryGiB": 32,
    "name": "ml.g4dn.2xlarge",
    "vcpuNum": 8
   },
   {
    "_defaultOrder": 31,
    "_isFastLaunch": false,
    "category": "Accelerated computing",
    "gpuNum": 1,
    "hideHardwareSpecs": false,
    "memoryGiB": 64,
    "name": "ml.g4dn.4xlarge",
    "vcpuNum": 16
   },
   {
    "_defaultOrder": 32,
    "_isFastLaunch": false,
    "category": "Accelerated computing",
    "gpuNum": 1,
    "hideHardwareSpecs": false,
    "memoryGiB": 128,
    "name": "ml.g4dn.8xlarge",
    "vcpuNum": 32
   },
   {
    "_defaultOrder": 33,
    "_isFastLaunch": false,
    "category": "Accelerated computing",
    "gpuNum": 4,
    "hideHardwareSpecs": false,
    "memoryGiB": 192,
    "name": "ml.g4dn.12xlarge",
    "vcpuNum": 48
   },
   {
    "_defaultOrder": 34,
    "_isFastLaunch": false,
    "category": "Accelerated computing",
    "gpuNum": 1,
    "hideHardwareSpecs": false,
    "memoryGiB": 256,
    "name": "ml.g4dn.16xlarge",
    "vcpuNum": 64
   },
   {
    "_defaultOrder": 35,
    "_isFastLaunch": false,
    "category": "Accelerated computing",
    "gpuNum": 1,
    "hideHardwareSpecs": false,
    "memoryGiB": 61,
    "name": "ml.p3.2xlarge",
    "vcpuNum": 8
   },
   {
    "_defaultOrder": 36,
    "_isFastLaunch": false,
    "category": "Accelerated computing",
    "gpuNum": 4,
    "hideHardwareSpecs": false,
    "memoryGiB": 244,
    "name": "ml.p3.8xlarge",
    "vcpuNum": 32
   },
   {
    "_defaultOrder": 37,
    "_isFastLaunch": false,
    "category": "Accelerated computing",
    "gpuNum": 8,
    "hideHardwareSpecs": false,
    "memoryGiB": 488,
    "name": "ml.p3.16xlarge",
    "vcpuNum": 64
   },
   {
    "_defaultOrder": 38,
    "_isFastLaunch": false,
    "category": "Accelerated computing",
    "gpuNum": 8,
    "hideHardwareSpecs": false,
    "memoryGiB": 768,
    "name": "ml.p3dn.24xlarge",
    "vcpuNum": 96
   },
   {
    "_defaultOrder": 39,
    "_isFastLaunch": false,
    "category": "Memory Optimized",
    "gpuNum": 0,
    "hideHardwareSpecs": false,
    "memoryGiB": 16,
    "name": "ml.r5.large",
    "vcpuNum": 2
   },
   {
    "_defaultOrder": 40,
    "_isFastLaunch": false,
    "category": "Memory Optimized",
    "gpuNum": 0,
    "hideHardwareSpecs": false,
    "memoryGiB": 32,
    "name": "ml.r5.xlarge",
    "vcpuNum": 4
   },
   {
    "_defaultOrder": 41,
    "_isFastLaunch": false,
    "category": "Memory Optimized",
    "gpuNum": 0,
    "hideHardwareSpecs": false,
    "memoryGiB": 64,
    "name": "ml.r5.2xlarge",
    "vcpuNum": 8
   },
   {
    "_defaultOrder": 42,
    "_isFastLaunch": false,
    "category": "Memory Optimized",
    "gpuNum": 0,
    "hideHardwareSpecs": false,
    "memoryGiB": 128,
    "name": "ml.r5.4xlarge",
    "vcpuNum": 16
   },
   {
    "_defaultOrder": 43,
    "_isFastLaunch": false,
    "category": "Memory Optimized",
    "gpuNum": 0,
    "hideHardwareSpecs": false,
    "memoryGiB": 256,
    "name": "ml.r5.8xlarge",
    "vcpuNum": 32
   },
   {
    "_defaultOrder": 44,
    "_isFastLaunch": false,
    "category": "Memory Optimized",
    "gpuNum": 0,
    "hideHardwareSpecs": false,
    "memoryGiB": 384,
    "name": "ml.r5.12xlarge",
    "vcpuNum": 48
   },
   {
    "_defaultOrder": 45,
    "_isFastLaunch": false,
    "category": "Memory Optimized",
    "gpuNum": 0,
    "hideHardwareSpecs": false,
    "memoryGiB": 512,
    "name": "ml.r5.16xlarge",
    "vcpuNum": 64
   },
   {
    "_defaultOrder": 46,
    "_isFastLaunch": false,
    "category": "Memory Optimized",
    "gpuNum": 0,
    "hideHardwareSpecs": false,
    "memoryGiB": 768,
    "name": "ml.r5.24xlarge",
    "vcpuNum": 96
   },
   {
    "_defaultOrder": 47,
    "_isFastLaunch": false,
    "category": "Accelerated computing",
    "gpuNum": 1,
    "hideHardwareSpecs": false,
    "memoryGiB": 16,
    "name": "ml.g5.xlarge",
    "vcpuNum": 4
   },
   {
    "_defaultOrder": 48,
    "_isFastLaunch": false,
    "category": "Accelerated computing",
    "gpuNum": 1,
    "hideHardwareSpecs": false,
    "memoryGiB": 32,
    "name": "ml.g5.2xlarge",
    "vcpuNum": 8
   },
   {
    "_defaultOrder": 49,
    "_isFastLaunch": false,
    "category": "Accelerated computing",
    "gpuNum": 1,
    "hideHardwareSpecs": false,
    "memoryGiB": 64,
    "name": "ml.g5.4xlarge",
    "vcpuNum": 16
   },
   {
    "_defaultOrder": 50,
    "_isFastLaunch": false,
    "category": "Accelerated computing",
    "gpuNum": 1,
    "hideHardwareSpecs": false,
    "memoryGiB": 128,
    "name": "ml.g5.8xlarge",
    "vcpuNum": 32
   },
   {
    "_defaultOrder": 51,
    "_isFastLaunch": false,
    "category": "Accelerated computing",
    "gpuNum": 1,
    "hideHardwareSpecs": false,
    "memoryGiB": 256,
    "name": "ml.g5.16xlarge",
    "vcpuNum": 64
   },
   {
    "_defaultOrder": 52,
    "_isFastLaunch": false,
    "category": "Accelerated computing",
    "gpuNum": 4,
    "hideHardwareSpecs": false,
    "memoryGiB": 192,
    "name": "ml.g5.12xlarge",
    "vcpuNum": 48
   },
   {
    "_defaultOrder": 53,
    "_isFastLaunch": false,
    "category": "Accelerated computing",
    "gpuNum": 4,
    "hideHardwareSpecs": false,
    "memoryGiB": 384,
    "name": "ml.g5.24xlarge",
    "vcpuNum": 96
   },
   {
    "_defaultOrder": 54,
    "_isFastLaunch": false,
    "category": "Accelerated computing",
    "gpuNum": 8,
    "hideHardwareSpecs": false,
    "memoryGiB": 768,
    "name": "ml.g5.48xlarge",
    "vcpuNum": 192
   },
   {
    "_defaultOrder": 55,
    "_isFastLaunch": false,
    "category": "Accelerated computing",
    "gpuNum": 8,
    "hideHardwareSpecs": false,
    "memoryGiB": 1152,
    "name": "ml.p4d.24xlarge",
    "vcpuNum": 96
   },
   {
    "_defaultOrder": 56,
    "_isFastLaunch": false,
    "category": "Accelerated computing",
    "gpuNum": 8,
    "hideHardwareSpecs": false,
    "memoryGiB": 1152,
    "name": "ml.p4de.24xlarge",
    "vcpuNum": 96
   },
   {
    "_defaultOrder": 57,
    "_isFastLaunch": false,
    "category": "Accelerated computing",
    "gpuNum": 0,
    "hideHardwareSpecs": false,
    "memoryGiB": 32,
    "name": "ml.trn1.2xlarge",
    "vcpuNum": 8
   },
   {
    "_defaultOrder": 58,
    "_isFastLaunch": false,
    "category": "Accelerated computing",
    "gpuNum": 0,
    "hideHardwareSpecs": false,
    "memoryGiB": 512,
    "name": "ml.trn1.32xlarge",
    "vcpuNum": 128
   },
   {
    "_defaultOrder": 59,
    "_isFastLaunch": false,
    "category": "Accelerated computing",
    "gpuNum": 0,
    "hideHardwareSpecs": false,
    "memoryGiB": 512,
    "name": "ml.trn1n.32xlarge",
    "vcpuNum": 128
   }
  ],
  "instance_type": "ml.t3.medium",
  "kernelspec": {
   "display_name": "Python 3 (Data Science 3.0)",
   "language": "python",
   "name": "python3__SAGEMAKER_INTERNAL__arn:aws:sagemaker:us-east-1:081325390199:image/sagemaker-data-science-310-v1"
  },
  "language_info": {
   "codemirror_mode": {
    "name": "ipython",
    "version": 3
   },
   "file_extension": ".py",
   "mimetype": "text/x-python",
   "name": "python",
   "nbconvert_exporter": "python",
   "pygments_lexer": "ipython3",
   "version": "3.10.6"
  }
 },
 "nbformat": 4,
 "nbformat_minor": 5
}
